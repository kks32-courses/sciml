{
 "cells": [
  {
   "cell_type": "markdown",
   "metadata": {},
   "source": [
    "# HW 06: Automatic Differentiation of 1D wave velocity\n",
    "## Objective:\n",
    "\n",
    "In this assignment, you will derive the target velocity profile as shown in the figure:\n",
    "\n",
    "Using the source: `u0 = jnp.exp(-(5*(x0-0.5))**2)`. Compute the loss as the wave velocity at the end of 5,000 steps along the entire length of the bar.\n",
    "\n",
    "Compute the error in the velocity profile using ADAM and L-BFGS algorithms. \n",
    "\n",
    "![Profile](profile.png)"
   ]
  },
  {
   "cell_type": "code",
   "execution_count": null,
   "metadata": {},
   "outputs": [],
   "source": []
  }
 ],
 "metadata": {
  "language_info": {
   "name": "python"
  }
 },
 "nbformat": 4,
 "nbformat_minor": 2
}
