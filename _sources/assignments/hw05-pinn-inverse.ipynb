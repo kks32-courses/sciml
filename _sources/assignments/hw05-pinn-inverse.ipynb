{
 "cells": [
  {
   "cell_type": "markdown",
   "metadata": {},
   "source": [
    "# HW 05: Invers analysis of Burgers equation"
   ]
  },
  {
   "cell_type": "markdown",
   "metadata": {},
   "source": [
    "## Objective:\n",
    "\n",
    "In this assignment, you will derive the parameters $\\lambda_1$ and $\\lambda_2$ of the Burger's equation.\n",
    "\n",
    "$$\\mathscr{N}[u;\\lambda]=\\lambda_1u u_x-\\lambda_2 u_{xx}$$\n",
    "\n",
    "We know that:\n",
    "\n",
    "$$\\lambda_1=1$$\n",
    "\n",
    "$$\\lambda_2=\\nu=\\frac{1}{100\\pi}=0.003183$$\n",
    "\n",
    "1. Vary the number of colocation points $N_u$ as 500, 1000, 1500, and 2000.\n",
    "\n",
    "2. For each of these cases, corrupt the data point by different noise level for $\\lambda_1$ and $\\lambda_2$ as 0%, 1%, 5% and 10% and complete the following table:\n",
    "\n",
    "\n",
    "Percentage error in the identified parameters λ1 and λ2 for different number of training data N corrupted by different noise levels\n",
    "\n",
    "| Nu   | lambda 1 |     |     |     | lambda 2 |     |     |     |\n",
    "|------|----------|-----|-----|-----|----------|-----|-----|-----|\n",
    "|      | 0 %      | 1 % | 5 % | 10% | 0 %      | 1 % | 5 % | 10% |\n",
    "| 500  |          |     |     |     |          |     |     |     |\n",
    "| 1000 |          |     |     |     |          |     |     |     |\n",
    "| 1500 |          |     |     |     |          |     |     |     |\n",
    "| 2000 |          |     |     |     |          |     |     |     |"
   ]
  },
  {
   "cell_type": "markdown",
   "metadata": {},
   "source": []
  }
 ],
 "metadata": {
  "language_info": {
   "name": "python"
  }
 },
 "nbformat": 4,
 "nbformat_minor": 2
}
