{
 "cells": [
  {
   "cell_type": "markdown",
   "metadata": {},
   "source": [
    "# HW 03: Finite Difference solution to heat transfer"
   ]
  },
  {
   "cell_type": "markdown",
   "metadata": {},
   "source": [
    "## Objective:\n",
    "\n",
    "In this assignment, you will perform a Finite Difference (FD) simulation to study heat transfer in a given geometry. You will be provided with a figure outlining the geometry and the heat source. Your objective is to simulate heat transfer until a steady state is reached.\n",
    "\n",
    "## Geometry:\n",
    "\n",
    "- A 2D geometry of dimensions: 100 units x 100 units.\n",
    "\n",
    "![2D Heat transfer](heat-transfer.png)\n",
    "\n",
    "## Problem Statement:\n",
    "\n",
    "1. **Discretization**:\n",
    "   - Discretize the given 2D geometry using an appropriate grid spacing.\n",
    "   - Ensure that the grid is fine enough to capture the details of the heat source and any geometrical intricacies.\n",
    "\n",
    "2. **Initial and Boundary Conditions**:\n",
    "   - Assume an initial temperature of 0°C throughout the domain.\n",
    "   - Use Dirichlet boundary conditions on all four sides of the domain. Assume these values or modify based on the provided figure.\n",
    "\n",
    "3. **Heat Source**:\n",
    "   - Based on the provided figure, incorporate the heat source into your FD formulation. If the heat source varies spatially, ensure that this is captured accurately in your simulations.\n",
    "\n",
    "4. **FD Formulation**:\n",
    "   - Use a central difference scheme for the spatial derivatives.\n",
    "   - For time marching, you can employ an explicit Euler time marching scheme.\n",
    "\n",
    "5. **Simulation**:\n",
    "   - Simulate the heat transfer process until steady state is reached. The steady state can be considered reached when the maximum temperature difference between two consecutive time steps in the entire domain is less than a small threshold (e.g., 0.01°C).\n",
    "\n",
    "6. **Analysis**:\n",
    "   - Plot the temperature distribution at various time steps to show the evolution of temperature in the domain.\n",
    "   - Analyze the steady-state temperature distribution. Identify and explain any interesting features or patterns you observe.\n",
    "   - Compare the steady-state temperature distribution with any analytical solution or intuitive expectation based on the geometry and heat source.\n",
    "\n",
    "## Deliverables:\n",
    "\n",
    "1. **Code**: A well-commented code in Python for the FD simulation.\n",
    "2. **Notebook**: \n",
    "   - Introduction: Briefly describe the problem and your approach.\n",
    "   - Methodology: Explain your FD formulation and time marching scheme, and any other computational considerations.\n",
    "   - Results: Present the temperature distributions at various time steps and the final steady-state distribution.\n",
    "   - Analysis: Discuss the results, emphasizing any interesting observations, comparisons, and patterns.\n",
    "   - Conclusion: Sum up your findings and suggest any potential extensions or future work.\n"
   ]
  },
  {
   "cell_type": "markdown",
   "metadata": {},
   "source": []
  }
 ],
 "metadata": {
  "language_info": {
   "name": "python"
  }
 },
 "nbformat": 4,
 "nbformat_minor": 2
}
