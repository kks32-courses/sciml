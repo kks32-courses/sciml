{
 "cells": [
  {
   "cell_type": "markdown",
   "metadata": {},
   "source": [
    "# HW 02: Physics-Informed Neural Networks (PINNs) Assignment: Exponential Decay ODE"
   ]
  },
  {
   "cell_type": "markdown",
   "metadata": {},
   "source": [
    "## Problem Background\n",
    "\n",
    "Consider the simple ordinary differential equation (ODE) of exponential decay:\n",
    "\n",
    "$$\\frac{du}{dt} + \\lambda u(t) = 0$$\n",
    "\n",
    "with the initial condition:\n",
    "\n",
    "$$u(0) = u_0$$\n",
    "\n",
    "Where $\\lambda$ is a positive decay constant and $u_0$ is the initial amount of the substance at time $t = 0$.\n",
    "\n",
    "## Problem Statement\n",
    "\n",
    "1. **Formulate the ODE as a Physics-Informed Neural Network (PINN)**: Solve it using a deep learning framework of your choice (e.g., TensorFlow, PyTorch). The goal is to train a neural network to approximate the solution $u(t)$.\n",
    "  \n",
    "2. **Loss Function Definition**: Construct a loss function that takes into account both the differential equation and the initial condition.\n",
    "\n",
    "3. **Training the Neural Network**: Use the loss function to train the network. Subsequently, compare the network's predictions to the analytical solution of the ODE, which is given by:\n",
    "\n",
    "$$u(t) = u_0 e^{-\\lambda t}$$\n",
    "\n",
    "4. **Sensitivity Analysis**: Alter the values of $\\lambda$ and $u_0$ to analyze the difference between the neural network solution and the analytical one.\n",
    "\n",
    "## Steps:\n",
    "\n",
    "1. **Defining the Neural Network Model**:\n",
    "   - Design a simple feed-forward neural network with a few hidden layers. The input layer should have one neuron (representing time $t$) and the output layer should also have one neuron (representing $u(t)$).\n",
    "  \n",
    "2. **Loss Function**:\n",
    "   - The PINN loss is defined as the combination of the squared residuals of the differential equation and the squared difference of the neural network's prediction for the initial condition.\n",
    "     \n",
    "     $$L = \\int_{0}^{T} \\left( \\frac{du_{NN}}{dt} + \\lambda u_{NN}(t) \\right)^2 dt + \\left( u_{NN}(0) - u_0 \\right)^2$$\n",
    "   \n",
    "     Here, $u_{NN}(t)$ represents the neural network's prediction for $u(t)$.\n",
    "\n",
    "3. **Training the Network**:\n",
    "   - Employ an optimizer (like Adam) to minimize the loss function. Ensure to train for enough epochs until the loss converges.\n",
    "\n",
    "4. **Comparison and Sensitivity Analysis**:\n",
    "   - Compare the neural network's prediction with the analytical solution over a range of $t$.\n",
    "   - Modify the values of $\\lambda$ and $u_0$ to observe the neural network's approximation in relation to the analytical solution for different parameter values.\n",
    "\n",
    "## Bonus Challenges:\n",
    "\n",
    "1. **Forcing Function**: Extend the problem to include a forcing function $f(t)$ such that:\n",
    "   \n",
    "   $$\\frac{du}{dt} + \\lambda u(t) = f(t)$$\n",
    "\n",
    "2. **Noise Effects**: Investigate the repercussions of noise in the initial condition and examine the neural network's ability to cope with noisy data.\n",
    "\n",
    "3. **Performance Comparison**: Contrast the performance of the PINN with traditional numerical methods like Euler's method or the Runge-Kutta method.\n",
    "\n",
    "4. **Network Architecture Exploration**: Delve into the neural network's architecture. Examine how altering the depth and width of the neural network impacts its efficiency.\n",
    "\n",
    "---\n",
    "\n",
    "This assignment aims to provide a practical approach to using PINNs for solving 1D ODEs. Through it, students will be able to understand the strengths and limitations of this method.\n"
   ]
  },
  {
   "cell_type": "markdown",
   "metadata": {},
   "source": []
  }
 ],
 "metadata": {
  "language_info": {
   "name": "python"
  }
 },
 "nbformat": 4,
 "nbformat_minor": 2
}
