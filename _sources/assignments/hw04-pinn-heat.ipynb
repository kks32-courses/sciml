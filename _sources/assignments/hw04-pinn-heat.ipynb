{
 "cells": [
  {
   "cell_type": "markdown",
   "metadata": {},
   "source": [
    "# HW 04: PINNs heat transfer steady state"
   ]
  },
  {
   "cell_type": "markdown",
   "metadata": {},
   "source": [
    "## Objective:\n",
    "\n",
    "In this assignment, you will perform a PINN to model the steady state heat transfer in a given geometry. You will be provided with a figure outlining the geometry and the heat source. Your objective is to simulate heat transfer at steady state.\n",
    "\n",
    "## Geometry:\n",
    "\n",
    "- A 2D geometry of dimensions: 100 units x 100 units. Use 0 to 1 units in PINN\n",
    "\n",
    "![2D Heat transfer](heat-transfer.png)\n",
    "\n",
    "## Deliverables:\n",
    "\n",
    "1. **Code**: A well-commented code in Python for the PINN simulation.\n",
    "2. **Notebook**: \n",
    "   - Introduction: Briefly describe the problem and your approach.\n",
    "   - Methodology: Explain your PINN formulation and bc\n",
    "   - Results: Present the temperature at the final steady-state distribution.\n",
    "   - Analysis: Discuss the results, and compare with the FD results"
   ]
  },
  {
   "cell_type": "markdown",
   "metadata": {},
   "source": []
  }
 ],
 "metadata": {
  "language_info": {
   "name": "python"
  }
 },
 "nbformat": 4,
 "nbformat_minor": 2
}
