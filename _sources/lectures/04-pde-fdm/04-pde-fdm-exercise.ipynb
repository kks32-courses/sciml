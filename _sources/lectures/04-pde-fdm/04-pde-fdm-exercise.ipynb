{
 "cells": [
  {
   "cell_type": "markdown",
   "metadata": {},
   "source": [
    "# 04: Partial Differential Equation and Finite Difference"
   ]
  },
  {
   "cell_type": "markdown",
   "metadata": {},
   "source": [
    "**Exercise:** [![Open in Colab](https://colab.research.google.com/assets/colab-badge.svg)](https://colab.research.google.com/github/kks32-courses/sciml/blob/main/lectures/04-pde-finite-difference/04-pde-fdm-exercise.ipynb)\n",
    "**Solution:** [![Open in Colab](https://colab.research.google.com/assets/colab-badge.svg)](https://colab.research.google.com/github/kks32-courses/sciml/blob/main/lectures/04-pde-finite-difference/04-pde-fdm.ipynb)"
   ]
  },
  {
   "cell_type": "markdown",
   "metadata": {},
   "source": [
    "A differential equation is any equation that contains a derivative. \n",
    "\n",
    "Partial Differential Equations (PDEs) are equations that contain unknown multivariable functions and their partial derivatives. They are utilized to formulate problems involving functions of several variables, and are foundational in the study of Scientific Machine Learning (SciML) where they represent various physical, biological, and chemical processes.\n",
    "\n",
    "![Types of PDEs](pde-types.png)\n",
    "\n",
    "## Basics of PDEs\n",
    "\n",
    "A PDE is an equation which involves an unknown function (or functions) of multiple variables and its (or their) partial derivatives. A PDE is \"partial\" because it contains partial derivatives (derivatives with respect to one of several variables) rather than just ordinary derivatives.\n",
    "\n",
    "Mathematically, a generic PDE can be represented as:\n",
    "\n",
    "$$F(x_1, x_2, ..., x_n, u, u_{x_1}, u_{x_2}, ..., u_{x_n}, u_{x_1x_1}, ..., u_{x_nx_n}, ...) = 0$$\n",
    "\n",
    "where:\n",
    "- $ x_1, x_2, ..., x_n $ are the independent variables.\n",
    "- $ u $ is the unknown function of $ x_1, x_2, ..., x_n $ which we aim to find.\n",
    "- $ u_{x_i} $ denotes the partial derivative of $ u $ with respect to $ x_i $.\n",
    "- The equation is set to zero, as PDEs typically equate expressions to zero.\n",
    "\n",
    "![Applications of PDE](pde-applications.png)\n",
    "\n",
    "\n",
    "## Example: 1D Heat Transfer - The Heat Equation\n",
    "\n",
    "One of the classical PDEs in physics is the 1D heat equation, which describes the distribution of heat in a given region over time. It is a second-order linear parabolic PDE.\n",
    "\n",
    "For a 1D rod, the heat equation is given by:\n",
    "\n",
    "$$\\frac{\\partial u(x, t)}{\\partial t} = \\alpha \\frac{\\partial^2 u(x, t)}{\\partial x^2}$$\n",
    "\n",
    "Where:\n",
    "- $ u(x, t) $ represents the temperature at position $ x $ and time $ t $.\n",
    "- $ \\alpha $ is the thermal diffusivity of the material of the rod, a positive constant.\n",
    "\n",
    "The heat equation states that the rate of change of temperature in time ($ \\frac{\\partial u}{\\partial t} $) at any point in the rod is proportional to the curvature of the temperature profile at that point ($ \\frac{\\partial^2 u}{\\partial x^2} $). This curvature represents how the temperature gradient changes spatially.\n",
    "\n",
    "To fully solve this PDE, boundary conditions (e.g., fixed temperature at the ends of the rod) and initial conditions (e.g., initial temperature distribution) would also be required.\n",
    "\n",
    "Numerical differentiation methods are essential in solving partial differential equations (PDEs) like the heat equation. The primary idea is to discretize the derivatives, replacing them with finite differences that can be evaluated at grid points in space and time. Below, I'll discuss how to approach the 1D heat equation using numerical differentiation techniques, particularly the finite difference method.\n",
    "\n"
   ]
  },
  {
   "attachments": {},
   "cell_type": "markdown",
   "metadata": {},
   "source": [
    "## Numerical differentation\n",
    "\n",
    "Numerical differentiation is the process of finding the numerical value of a derivative of a given function at a given point.\n",
    "\n",
    "A simple two-point estimation is to compute the slope of a nearby secant line through the points $(x, f(x))$ and $(x + h, f(x + h))$. Choosing a small number $h$, $h$ represents a small change in $x$ ($h <<1$ and is positive). The slope of this line is \n",
    "\n",
    "![secant slope](derivative.png)\n",
    "\n",
    "$$f^\\prime(x) \\approxeq \\lim_{h\\rightarrow 0}\\frac{f(x+h) - f(x)}{h}$$\n",
    "\n",
    "Three basic types are commonly considered: forward, backward, and central differences.\n",
    "\n",
    "\n",
    "![differencing schemes](finite-difference-methods.png)\n",
    "\n",
    "### Forward difference\n",
    "\n",
    "\n",
    "$$f^\\prime(x) = \\frac{f(x+h) - f(x)}{h} + O(h)$$\n"
   ]
  },
  {
   "cell_type": "code",
   "execution_count": null,
   "metadata": {},
   "outputs": [],
   "source": [
    "import math\n",
    "\n",
    "def forward_diff(f, x, h=1e-4):\n",
    "    # Define the forward difference formula\n",
    "    \n",
    "    return dfx\n",
    "\n",
    "x = 0.5\n",
    "df = forward_diff(math.cos, x)\n",
    "print (\"first derivative of cos(x) is {}, which is -sin(x) {}\".format(df, -math.sin(x)))\n",
    "print(\"O(h) is \", (df + math.sin(x)))"
   ]
  },
  {
   "attachments": {},
   "cell_type": "markdown",
   "metadata": {},
   "source": [
    "### Backward difference\n",
    "\n",
    "\n",
    "$$f^\\prime(x) = \\frac{f(x) - f(x-h)}{h} + O(h)$$"
   ]
  },
  {
   "cell_type": "code",
   "execution_count": null,
   "metadata": {},
   "outputs": [],
   "source": [
    "import math\n",
    "\n",
    "def backward_diff(f, x, h=1e-4):\n",
    "    # backward difference formula\n",
    "    \n",
    "    return dfx\n",
    "\n",
    "x = 0.5\n",
    "df = backward_diff(math.cos, x)\n",
    "print (\"first derivative of cos(x) is {}, which is -sin(x) {}\".format(df, -math.sin(x)))\n",
    "print(\"O(h) is \", (df + math.sin(x)))"
   ]
  },
  {
   "attachments": {},
   "cell_type": "markdown",
   "metadata": {},
   "source": [
    "### Central difference method\n",
    "\n",
    "\n",
    "$$f^\\prime(x) = \\frac{f(x+h) - f(x-h)}{2h} + O(h^2)$$"
   ]
  },
  {
   "cell_type": "code",
   "execution_count": null,
   "metadata": {},
   "outputs": [],
   "source": [
    "import math\n",
    "\n",
    "def central_diff(f, x, h=1e-4):\n",
    "    dfx = (f(x+h) - f(x-h))/(2*h)\n",
    "    return dfx\n",
    "\n",
    "x = 0.5\n",
    "df = central_diff(math.cos, x)\n",
    "print (\"first derivative of cos(x) is {}, which is -sin(x) {}\".format(df, -math.sin(x)))\n",
    "print(\"O(h^2) is \", (df + math.sin(x)))"
   ]
  },
  {
   "attachments": {},
   "cell_type": "markdown",
   "metadata": {},
   "source": [
    "### Second order central difference\n",
    "\n",
    "$$f^{\\prime\\prime}(x) = \\frac{f(x+h) - 2 f(x) + f(x-h)}{h^2} + O(h^2)$$"
   ]
  },
  {
   "cell_type": "code",
   "execution_count": null,
   "metadata": {},
   "outputs": [],
   "source": [
    "import math\n",
    "\n",
    "def central_second_diff(f, x, h=1e-4):\n",
    "    dfx = (f(x+h) -2*f(x) + f(x-h))/(h**2)\n",
    "    return dfx\n",
    "\n",
    "x = 0.5\n",
    "df = central_second_diff(math.cos, x)\n",
    "print (\"second derivative of cos(x) is {}, which is -cos(x) {}\".format(df, -math.cos(x)))\n",
    "print(\"O(h^2) is \", (df + math.sin(x)))"
   ]
  },
  {
   "cell_type": "markdown",
   "metadata": {},
   "source": [
    "## Finite Difference Solution for the 1D Heat Equation\n",
    "\n",
    "Replace the derivatives in the heat equation with finite difference approximations to obtain a discretized version of the problem. Given a point $i$ in space and time $n$:\n",
    "\n",
    "### Finite Difference Discretization\n",
    "\n",
    "The heat equation can be approximated as:\n",
    "\n",
    "$$\n",
    "\\frac{u_i^{n+1} - u_i^n}{\\Delta t} = \\alpha \\frac{u_{i+1}^n - 2u_i^n + u_{i-1}^n}{(\\Delta x)^2}\n",
    "$$\n",
    "\n",
    "Rearranging the equation, we can express $u_i^{n+1}$ explicitly in terms of values at time $n$:\n",
    "\n",
    "$$\n",
    "u_i^{n+1} = u_i^n + \\alpha \\frac{\\Delta t}{(\\Delta x)^2} \\left( u_{i+1}^n - 2u_i^n + u_{i-1}^n \\right)\n",
    "$$\n",
    "\n",
    "This equation allows for an explicit update scheme.\n",
    "\n",
    "### Stability Consideration\n",
    "\n",
    "The stability of the explicit scheme is crucial. It's primarily governed by the Courant–Friedrichs–Lewy (CFL) condition:\n",
    "\n",
    "$$\n",
    "\\alpha \\frac{\\Delta t}{(\\Delta x)^2} \\leq \\frac{1}{2}\n",
    "$$\n",
    "\n",
    "If the above condition is not met, the solution can diverge, leading to numerical instability.\n",
    "\n",
    "### Implicit Methods\n",
    "\n",
    "For situations where the CFL condition restricts the time step size significantly, implicit methods can be beneficial. One of the most popular implicit methods for the heat equation is the Crank-Nicolson method. Implicit methods, including Crank-Nicolson, are often unconditionally stable, meaning they aren't bound by the CFL condition. They require solving a system of linear equations at each time step but offer increased stability, especially for larger time steps.\n"
   ]
  },
  {
   "cell_type": "markdown",
   "metadata": {},
   "source": [
    "## 1D heat problem\n",
    "\n",
    "> Create an initial source at the center of the rod and both ends have fixed temperature of 0."
   ]
  },
  {
   "cell_type": "code",
   "execution_count": null,
   "metadata": {},
   "outputs": [],
   "source": [
    "import numpy as np\n",
    "import matplotlib.pyplot as plt\n",
    "\n",
    "# Parameters\n",
    "L = 10.0          # Length of the rod\n",
    "alpha = 0.01      # Thermal diffusivity\n",
    "Nx = 100          # Number of spatial points\n",
    "dx = L / (Nx-1)   # Spatial step size\n",
    "dt = 0.001        # Time step\n",
    "Nt = 1000         # Number of time steps\n",
    "\n",
    "# Evalue CFL condition\n",
    "# Stability parameter (should be <= 0.5 for stability)\n",
    "\n",
    "print(\"CFL value: {} should be below 0.5\".format(gamma))\n",
    "\n",
    "# Initial condition (e.g., all zeros except for a peak in the center)\n",
    "\n",
    "\n",
    "\n",
    "# Boundary conditions (e.g., kept at zero)\n",
    "\n",
    "\n",
    "\n",
    "# Storage for solution at each time step for plotting\n",
    "u_all = [u.copy()]\n",
    "\n",
    "# Time-stepping loop\n",
    "\n",
    "\n",
    "\n",
    "\n",
    "# Plotting\n",
    "plt.figure(figsize=(8, 6))\n",
    "for i in range(0, Nt+1, int(Nt/5)):  # Only plotting some time steps for clarity\n",
    "    plt.plot(np.linspace(0, L, Nx), u_all[i], label=f\"t = {i*dt:.2f} s\")\n",
    "    \n",
    "plt.title(\"1D Heat Equation using Explicit Finite Difference Method\")\n",
    "plt.xlabel(\"Position along the rod\")\n",
    "plt.ylabel(\"Temperature\")\n",
    "plt.legend()\n",
    "plt.grid(True)\n",
    "plt.show()"
   ]
  },
  {
   "cell_type": "markdown",
   "metadata": {},
   "source": [
    "## 2D Heat transfer problem\n",
    "\n",
    "Heat transfer is a fundamental phenomenon that occurs in various engineering processes. While 1D heat transfer problems provide a foundational understanding, most practical scenarios involve multi-dimensional heat conduction. For this reason, understanding the behavior of heat transfer in two or more dimensions becomes crucial for many engineering applications.\n",
    "\n",
    "In this section, we delve into the 2D heat conduction problem. It's important to note that while the concepts of heat conduction remain the same in two dimensions, the mathematical representation becomes more involved. We will examine the governing differential equation that models this process, known as the 2D heat equation. This equation describes the distribution of temperature within a 2D domain as it evolves over time, taking into account the material's thermal diffusivity.\n",
    "\n",
    "To solve this partial differential equation (PDE), we'll employ the finite difference method, which approximates derivatives by discrete differences over a meshed domain. Here, we'll focus on a rectangular mesh to keep our discussion simple and relatable.\n",
    "\n",
    "![2D Heat transfer](2d-heat-transfer.png)\n",
    "\n",
    "## Governing differential equation\n",
    "\n",
    "$\\frac{\\partial T}{\\partial t} = \\alpha \\left[ \\frac{\\partial ^2 T}{\\partial x^2} + \\frac{\\partial^2 T}{\\partial y^2}\\right]$\n",
    "\n",
    "T = temperature  \n",
    "t = time  \n",
    "x = horizontal dimension  \n",
    "y = vertical dimension  \n",
    "$\\alpha$ = thermal diffusivity  \n",
    "\n",
    "## Finite different approximation for a rectangular mesh\n",
    "$\\frac{\\partial T}{\\partial t} \\approx \\frac{T_{ij}^{k+1} - T_{ij}^{k}}{\\Delta t}$  \n",
    "\n",
    "$\\frac{\\partial ^2 T}{\\partial x^2} \\approx \\alpha \\frac{T_{i+1,j}^k -2T_{i,j}^k + T_{i-1,j}^k}{\\Delta x^2}$  \n",
    "\n",
    "$\\frac{\\partial ^2 T}{\\partial y^2} \\approx \\alpha \\frac{T_{1,j+1}^k -2T_{i,j}^k + T_{i,j-1}^k}{\\Delta y^2}$  \n",
    "\n",
    "$\\Delta x$ = node spacing in x-direction  \n",
    "$\\Delta y$ = node spacing in y-direction  \n",
    "$\\Delta t$ = time step  \n",
    "i = index counter for x-direction  \n",
    "j = index counter for y-direction  \n",
    "k = index counter for time  \n",
    "\n",
    "The resulting equation is:\n",
    "\n",
    "$\\frac{T_{ij}^{k+1} - T_{ij}^{k}}{\\Delta t} = \\alpha \\frac{T_{i+1,j}^k -2T_{i,j}^k + T_{i-1,j}^k}{\\Delta x^2} + \\alpha \\frac{T_{1,j+1}^k -2T_{i,j}^k + T_{i,j-1}^k}{\\Delta y^2}$  \n",
    "\n",
    "If $\\Delta x = \\Delta y$ we obtain the following\n",
    "\n",
    "$\\frac{T_{ij}^{k+1} - T_{ij}^{k}}{\\Delta t} = \\alpha \\frac{T_{i+1,j}^k + T_{1,j+1}^k -4T_{i,j}^k + T_{i-1,j}^k + T_{i,j-1}^k}{\\Delta x^2}$  \n",
    "\n",
    "Solving for $T_{ij}^{k+1}$ and re-arranging terms\n",
    "\n",
    "$T_{ij}^{k+1} = \\gamma\\left(T_{i+1,j}^k + T_{1,j+1}^k + T_{i-1,j}^k + T_{i,j-1}^k\\right) + \\left(1 - 4\\gamma\\right)T_{ij}^k$  \n",
    "\n",
    "where $\\gamma = \\frac{\\alpha \\Delta t}{\\Delta x^2}$\n",
    "\n",
    "\n",
    "> Note: the solution will become unstable if $\\left(1 - \\frac{4\\alpha \\Delta t}{\\Delta x^2} \\right) < 0$. We therefore set the time step as shown below.\n",
    "\n",
    "$\\Delta t = \\frac{\\Delta x^2}{4\\alpha}$  \n",
    "\n",
    "Using the time step above, we find that $\\left(1-4\\gamma\\right)=0$ and therefore the resulting equation is:\n",
    "\n",
    "$T_{ij}^{k+1} = \\gamma\\left(T_{i+1,j}^k + T_{i,j+1}^k + T_{i-1,j}^k + T_{i,j-1}^k\\right)$"
   ]
  },
  {
   "cell_type": "markdown",
   "metadata": {},
   "source": []
  },
  {
   "cell_type": "markdown",
   "metadata": {},
   "source": [
    "### Define input variables\n",
    "\n",
    "`L`         = plate length  \n",
    "`Nt`        = number of time steps  \n",
    "`Nx`        = number of increments in x-direction (same as y-direction since plate is square)  \n",
    "`alpha`     = thermal diffusivity  \n",
    "`dx`        = node spacing  \n",
    "`dt`        = time increment  \n",
    "`T_top`     = temperature of top of plate  \n",
    "`T_left`    = temperature of left side of plate  \n",
    "`T_right`   = temperature of right side of plate  \n",
    "`T_bottom`  = temperature of bottom of plate  \n",
    "`T_initial` = initial temperature of plate  "
   ]
  },
  {
   "cell_type": "code",
   "execution_count": null,
   "metadata": {},
   "outputs": [],
   "source": [
    "import numpy as np\n",
    "import matplotlib.pyplot as plt\n",
    "\n",
    "L = 50\n",
    "Nt = 1000\n",
    "Nx = 50\n",
    "alpha = 2.0\n",
    "dx = L/Nx\n",
    "dt = dx**2/4.0/alpha\n",
    "gamma = alpha*dt/dx/dx\n",
    "T_top = 100.0\n",
    "T_left = 0.0\n",
    "T_right = 0.0\n",
    "T_bottom = 0.0\n",
    "T_initial = 0.0"
   ]
  },
  {
   "cell_type": "markdown",
   "metadata": {},
   "source": [
    "### Initialize boundary conditions"
   ]
  },
  {
   "cell_type": "code",
   "execution_count": null,
   "metadata": {},
   "outputs": [],
   "source": [
    "# Initialize Numpy array T to store temperature values\n",
    "T_init = np.full((Nt,Nx,Nx),T_initial,dtype=float)\n",
    "T_init[:,:,:1] = T_left\n",
    "T_init[:,:,Nx-1] = T_right\n",
    "T_init[:,:1,:] = T_bottom\n",
    "T_init[:,Nx-1:, :] = T_top"
   ]
  },
  {
   "cell_type": "markdown",
   "metadata": {},
   "source": [
    "### 2D Finite Difference Heat Transfer"
   ]
  },
  {
   "cell_type": "code",
   "execution_count": null,
   "metadata": {},
   "outputs": [],
   "source": [
    "def heat_transfer(T,gamma):\n",
    "    #..."
   ]
  },
  {
   "cell_type": "markdown",
   "metadata": {},
   "source": [
    "### Plot results"
   ]
  },
  {
   "cell_type": "code",
   "execution_count": null,
   "metadata": {},
   "outputs": [],
   "source": [
    "T_final = heat_transfer(T_init, gamma)\n",
    "\n",
    "# Plotting the final temperature distribution\n",
    "plt.imshow(T_final[-1], cmap='hot', origin='lower')\n",
    "plt.colorbar(label='Temperature')\n",
    "plt.title(\"Final Temperature Distribution\")\n",
    "plt.xlabel(\"x\")\n",
    "plt.ylabel(\"y\")\n",
    "plt.show()"
   ]
  },
  {
   "cell_type": "markdown",
   "metadata": {},
   "source": [
    "### Animate with time"
   ]
  },
  {
   "cell_type": "code",
   "execution_count": null,
   "metadata": {},
   "outputs": [],
   "source": [
    "from matplotlib.animation import FuncAnimation\n",
    "from IPython.display import HTML\n",
    "\n",
    "# Determine the minimum and maximum temperature values in the entire dataset\n",
    "vmin = T_final.min()\n",
    "vmax = T_final.max()\n",
    "\n",
    "# Setting up the figure, the axis, and the plot element for the animation\n",
    "fig, ax = plt.subplots()\n",
    "im = ax.imshow(T_final[0], cmap='hot', origin='lower', animated=True, vmin=vmin, vmax=vmax)\n",
    "cbar = plt.colorbar(im, ax=ax, label='Temperature')\n",
    "ax.set_title(\"Temperature Distribution over Time\")\n",
    "ax.set_xlabel(\"x\")\n",
    "ax.set_ylabel(\"y\")\n",
    "\n",
    "def update(frame):\n",
    "    im.set_array(T_final[frame*50])\n",
    "    return [im]\n",
    "\n",
    "ani = FuncAnimation(fig, update, frames=Nt//50, blit=True)\n",
    "\n",
    "plt.tight_layout()\n",
    "\n",
    "# Display the animation\n",
    "HTML(ani.to_jshtml())"
   ]
  },
  {
   "cell_type": "markdown",
   "metadata": {},
   "source": [
    "## Writing convolution rather than a loop\n",
    "\n",
    "![Convolution](convolution.png)"
   ]
  },
  {
   "cell_type": "code",
   "execution_count": null,
   "metadata": {},
   "outputs": [],
   "source": [
    "import numpy as np\n",
    "from scipy.signal import convolve\n",
    "\n",
    "def heat_transfer_conv(T, gamma):\n",
    "    Nt = len(T)\n",
    "    Nx = len(T[0])\n",
    "    # Define the kernel for convolution (Laplacian operator)\n",
    "    \n",
    "    \n",
    "    # Ensure u is a NumPy array\n",
    "    T = np.array(T)\n",
    "\n",
    "    for k in range(0,Nt - 1, 1):\n",
    "        # Convolve u[k] with the kernel, then multiply by gamma and add u[k]\n",
    "        T[k + 1, 1:Nx - 1:1, 1:Nx - 1:1] = (\n",
    "            gamma * convolve(T[k], kernel, mode='same')[1:Nx - 1:1, 1:Nx - 1:1] + T[k, 1:Nx - 1:1, 1:Nx - 1:1]\n",
    "        )\n",
    "    return T"
   ]
  },
  {
   "cell_type": "code",
   "execution_count": null,
   "metadata": {},
   "outputs": [],
   "source": [
    "T_conv = heat_transfer_conv(T_init, gamma)\n",
    "\n",
    "# Plotting the final temperature distribution\n",
    "plt.imshow(T_conv[-1], cmap='hot', origin='lower')\n",
    "plt.colorbar(label='Temperature')\n",
    "plt.title(\"Final Temperature Distribution\")\n",
    "plt.xlabel(\"x\")\n",
    "plt.ylabel(\"y\")\n",
    "plt.show()"
   ]
  },
  {
   "cell_type": "markdown",
   "metadata": {},
   "source": [
    "### Compare the two versions"
   ]
  },
  {
   "cell_type": "code",
   "execution_count": null,
   "metadata": {},
   "outputs": [],
   "source": [
    "fig, ax = plt.subplots(ncols=2,figsize=(8,3),sharey='row')\n",
    "k = 999\n",
    "data = {'Python':T_final[k], 'Convolve':T_conv[k]}\n",
    "i = 0\n",
    "for key, value in data.items():\n",
    "    pcm = ax[i].pcolormesh(value, cmap=plt.cm.hot, vmin=0, vmax=100)\n",
    "    ax[i].set_xlabel('x-position')\n",
    "    ax[i].set_aspect('equal')\n",
    "    ax[i].annotate(key, xy=(1,1), c='white', fontsize=15)\n",
    "    fig.colorbar(pcm,ax=ax[i],shrink=0.75)\n",
    "    i+=1    \n",
    "ax[0].set_ylabel('y-position')\n",
    "#fig.colorbar(pcm)\n",
    "plt.tight_layout()"
   ]
  },
  {
   "cell_type": "markdown",
   "metadata": {},
   "source": [
    "> For more information on accelerating these numerical methods, refer to [Accelerating Python](https://kks32-courses.github.io/accelerating-python/README.html)"
   ]
  }
 ],
 "metadata": {
  "kernelspec": {
   "display_name": "Python 3",
   "language": "python",
   "name": "python3"
  },
  "language_info": {
   "codemirror_mode": {
    "name": "ipython",
    "version": 3
   },
   "file_extension": ".py",
   "mimetype": "text/x-python",
   "name": "python",
   "nbconvert_exporter": "python",
   "pygments_lexer": "ipython3",
   "version": "3.11.4"
  }
 },
 "nbformat": 4,
 "nbformat_minor": 2
}
