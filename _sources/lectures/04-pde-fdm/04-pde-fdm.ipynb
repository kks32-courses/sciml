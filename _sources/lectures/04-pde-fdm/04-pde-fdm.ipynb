{
 "cells": [
  {
   "cell_type": "markdown",
   "metadata": {},
   "source": [
    "# 04: Partial Differential Equation and Finite Difference"
   ]
  },
  {
   "cell_type": "markdown",
   "metadata": {},
   "source": [
    "**Exercise:** [![Open in Colab](https://colab.research.google.com/assets/colab-badge.svg)](https://colab.research.google.com/github/kks32-courses/sciml/blob/main/lectures/04-pde-finite-difference/04-pde-fdm-exercise.ipynb)\n",
    "**Solution:** [![Open in Colab](https://colab.research.google.com/assets/colab-badge.svg)](https://colab.research.google.com/github/kks32-courses/sciml/blob/main/lectures/04-pde-finite-difference/04-pde-fdm.ipynb)"
   ]
  },
  {
   "cell_type": "markdown",
   "metadata": {},
   "source": [
    "\n",
    "Partial Differential Equations (PDEs) are equations that contain unknown multivariable functions and their partial derivatives. They are utilized to formulate problems involving functions of several variables, and are foundational in the study of Scientific Machine Learning (SciML) where they represent various physical, biological, and chemical processes.\n",
    "\n",
    "## Basics of PDEs\n",
    "\n",
    "A PDE is an equation which involves an unknown function (or functions) of multiple variables and its (or their) partial derivatives. A PDE is \"partial\" because it contains partial derivatives (derivatives with respect to one of several variables) rather than just ordinary derivatives.\n",
    "\n",
    "Mathematically, a generic PDE can be represented as:\n",
    "\n",
    "$$F(x_1, x_2, ..., x_n, u, u_{x_1}, u_{x_2}, ..., u_{x_n}, u_{x_1x_1}, ..., u_{x_nx_n}, ...) = 0$$\n",
    "\n",
    "where:\n",
    "- $ x_1, x_2, ..., x_n $ are the independent variables.\n",
    "- $ u $ is the unknown function of $ x_1, x_2, ..., x_n $ which we aim to find.\n",
    "- $ u_{x_i} $ denotes the partial derivative of $ u $ with respect to $ x_i $.\n",
    "- The equation is set to zero, as PDEs typically equate expressions to zero.\n",
    "\n",
    "## Example: 1D Heat Transfer - The Heat Equation\n",
    "\n",
    "One of the classical PDEs in physics is the 1D heat equation, which describes the distribution of heat in a given region over time. It is a second-order linear parabolic PDE.\n",
    "\n",
    "For a 1D rod, the heat equation is given by:\n",
    "\n",
    "$$\\frac{\\partial u(x, t)}{\\partial t} = \\alpha \\frac{\\partial^2 u(x, t)}{\\partial x^2}$$\n",
    "\n",
    "Where:\n",
    "- $ u(x, t) $ represents the temperature at position $ x $ and time $ t $.\n",
    "- $ \\alpha $ is the thermal diffusivity of the material of the rod, a positive constant.\n",
    "\n",
    "The heat equation states that the rate of change of temperature in time ($ \\frac{\\partial u}{\\partial t} $) at any point in the rod is proportional to the curvature of the temperature profile at that point ($ \\frac{\\partial^2 u}{\\partial x^2} $). This curvature represents how the temperature gradient changes spatially.\n",
    "\n",
    "To fully solve this PDE, boundary conditions (e.g., fixed temperature at the ends of the rod) and initial conditions (e.g., initial temperature distribution) would also be required.\n",
    "\n",
    "Numerical differentiation methods are essential in solving partial differential equations (PDEs) like the heat equation. The primary idea is to discretize the derivatives, replacing them with finite differences that can be evaluated at grid points in space and time. Below, I'll discuss how to approach the 1D heat equation using numerical differentiation techniques, particularly the finite difference method.\n",
    "\n"
   ]
  },
  {
   "attachments": {},
   "cell_type": "markdown",
   "metadata": {},
   "source": [
    "## Numerical differentation\n",
    "\n",
    "Numerical differentiation is the process of finding the numerical value of a derivative of a given function at a given point.\n",
    "\n",
    "A simple two-point estimation is to compute the slope of a nearby secant line through the points $(x, f(x))$ and $(x + h, f(x + h))$. Choosing a small number $h$, $h$ represents a small change in $x$ ($h <<1$ and is positive). The slope of this line is \n",
    "\n",
    "![secant slope](derivative.png)\n",
    "\n",
    "$$f^\\prime(x) \\approxeq \\lim_{h\\rightarrow 0}\\frac{f(x+h) - f(x)}{h}$$\n",
    "\n",
    "Three basic types are commonly considered: forward, backward, and central differences.\n",
    "\n",
    "\n",
    "![differencing schemes](finite-difference-methods.png)\n",
    "\n",
    "### Forward difference\n",
    "\n",
    "\n",
    "$$f^\\prime(x) = \\frac{f(x+h) - f(x)}{h} + O(h)$$\n"
   ]
  },
  {
   "cell_type": "code",
   "execution_count": 1,
   "metadata": {},
   "outputs": [
    {
     "name": "stdout",
     "output_type": "stream",
     "text": [
      "first derivative of cos(x) is -0.4794694169341085, which is -sin(x) -0.479425538604203\n",
      "O(h) is  -4.387832990548901e-05\n"
     ]
    }
   ],
   "source": [
    "import math\n",
    "\n",
    "def forward_diff(f, x, h=1e-4):\n",
    "    dfx = (f(x+h) - f(x))/h\n",
    "    return dfx\n",
    "\n",
    "x = 0.5\n",
    "df = forward_diff(math.cos, x)\n",
    "print (\"first derivative of cos(x) is {}, which is -sin(x) {}\".format(df, -math.sin(x)))\n",
    "print(\"O(h) is \", (df + math.sin(x)))"
   ]
  },
  {
   "attachments": {},
   "cell_type": "markdown",
   "metadata": {},
   "source": [
    "### Backward difference\n",
    "\n",
    "\n",
    "$$f^\\prime(x) = \\frac{f(x) - f(x-h)}{h} + O(h)$$"
   ]
  },
  {
   "cell_type": "code",
   "execution_count": 2,
   "metadata": {},
   "outputs": [
    {
     "name": "stdout",
     "output_type": "stream",
     "text": [
      "first derivative of cos(x) is -0.47938165867678073, which is -sin(x) -0.479425538604203\n",
      "O(h) is  4.3879927422274534e-05\n"
     ]
    }
   ],
   "source": [
    "import math\n",
    "\n",
    "def backward_diff(f, x, h=1e-4):\n",
    "    dfx = (f(x) - f(x-h))/h\n",
    "    return dfx\n",
    "\n",
    "x = 0.5\n",
    "df = backward_diff(math.cos, x)\n",
    "print (\"first derivative of cos(x) is {}, which is -sin(x) {}\".format(df, -math.sin(x)))\n",
    "print(\"O(h) is \", (df + math.sin(x)))"
   ]
  },
  {
   "attachments": {},
   "cell_type": "markdown",
   "metadata": {},
   "source": [
    "### Central difference method\n",
    "\n",
    "\n",
    "$$f^\\prime(x) = \\frac{f(x+h) - f(x-h)}{2h} + O(h^2)$$"
   ]
  },
  {
   "cell_type": "code",
   "execution_count": 3,
   "metadata": {},
   "outputs": [
    {
     "name": "stdout",
     "output_type": "stream",
     "text": [
      "first derivative of cos(x) is -0.4794255378054446, which is -sin(x) -0.479425538604203\n",
      "O(h^2) is  7.98758392761556e-10\n"
     ]
    }
   ],
   "source": [
    "import math\n",
    "\n",
    "def central_diff(f, x, h=1e-4):\n",
    "    dfx = (f(x+h) - f(x-h))/(2*h)\n",
    "    return dfx\n",
    "\n",
    "x = 0.5\n",
    "df = central_diff(math.cos, x)\n",
    "print (\"first derivative of cos(x) is {}, which is -sin(x) {}\".format(df, -math.sin(x)))\n",
    "print(\"O(h^2) is \", (df + math.sin(x)))"
   ]
  },
  {
   "attachments": {},
   "cell_type": "markdown",
   "metadata": {},
   "source": [
    "### Second order central difference\n",
    "\n",
    "$$f^{\\prime\\prime}(x) = \\frac{f(x+h) - 2 f(x) + f(x-h)}{h^2} + O(h^2)$$"
   ]
  },
  {
   "cell_type": "code",
   "execution_count": 4,
   "metadata": {},
   "outputs": [
    {
     "name": "stdout",
     "output_type": "stream",
     "text": [
      "second derivative of cos(x) is -0.8775825732776354, which is -cos(x) -0.8775825618903728\n",
      "O(h^2) is  -0.39815703467343244\n"
     ]
    }
   ],
   "source": [
    "import math\n",
    "\n",
    "def central_second_diff(f, x, h=1e-4):\n",
    "    dfx = (f(x+h) -2*f(x) + f(x-h))/(h**2)\n",
    "    return dfx\n",
    "\n",
    "x = 0.5\n",
    "df = central_second_diff(math.cos, x)\n",
    "print (\"second derivative of cos(x) is {}, which is -cos(x) {}\".format(df, -math.cos(x)))\n",
    "print(\"O(h^2) is \", (df + math.sin(x)))"
   ]
  },
  {
   "cell_type": "markdown",
   "metadata": {},
   "source": [
    "## Finite Difference Solution for the 1D Heat Equation\n",
    "\n",
    "Replace the derivatives in the heat equation with finite difference approximations to obtain a discretized version of the problem. Given a point $i$ in space and time $n$:\n",
    "\n",
    "### Finite Difference Discretization\n",
    "\n",
    "The heat equation can be approximated as:\n",
    "\n",
    "$$\n",
    "\\frac{u_i^{n+1} - u_i^n}{\\Delta t} = \\alpha \\frac{u_{i+1}^n - 2u_i^n + u_{i-1}^n}{(\\Delta x)^2}\n",
    "$$\n",
    "\n",
    "Rearranging the equation, we can express $u_i^{n+1}$ explicitly in terms of values at time $n$:\n",
    "\n",
    "$$\n",
    "u_i^{n+1} = u_i^n + \\alpha \\frac{\\Delta t}{(\\Delta x)^2} \\left( u_{i+1}^n - 2u_i^n + u_{i-1}^n \\right)\n",
    "$$\n",
    "\n",
    "This equation allows for an explicit update scheme.\n",
    "\n",
    "### Stability Consideration\n",
    "\n",
    "The stability of the explicit scheme is crucial. It's primarily governed by the Courant–Friedrichs–Lewy (CFL) condition:\n",
    "\n",
    "$$\n",
    "\\alpha \\frac{\\Delta t}{(\\Delta x)^2} \\leq \\frac{1}{2}\n",
    "$$\n",
    "\n",
    "If the above condition is not met, the solution can diverge, leading to numerical instability.\n",
    "\n",
    "### Implicit Methods\n",
    "\n",
    "For situations where the CFL condition restricts the time step size significantly, implicit methods can be beneficial. One of the most popular implicit methods for the heat equation is the Crank-Nicolson method. Implicit methods, including Crank-Nicolson, are often unconditionally stable, meaning they aren't bound by the CFL condition. They require solving a system of linear equations at each time step but offer increased stability, especially for larger time steps.\n"
   ]
  },
  {
   "cell_type": "markdown",
   "metadata": {},
   "source": [
    "## 1D heat problem\n",
    "\n",
    "> Create a source at the center of the rod and both ends have fixed temperature of 0."
   ]
  },
  {
   "cell_type": "code",
   "execution_count": 1,
   "metadata": {},
   "outputs": [
    {
     "data": {
      "image/png": "[encoded data removed]",
      "text/plain": [
       "<Figure size 800x600 with 1 Axes>"
      ]
     },
     "metadata": {},
     "output_type": "display_data"
    }
   ],
   "source": [
    "import numpy as np\n",
    "import matplotlib.pyplot as plt\n",
    "\n",
    "# Parameters\n",
    "L = 10.0          # Length of the rod\n",
    "alpha = 0.01      # Thermal diffusivity\n",
    "Nx = 100          # Number of spatial points\n",
    "dx = L / (Nx-1)   # Spatial step size\n",
    "dt = 0.001        # Time step\n",
    "Nt = 1000         # Number of time steps\n",
    "r = alpha * dt / dx**2  # Stability parameter (should be <= 0.5 for stability)\n",
    "\n",
    "# Initial condition (e.g., all zeros except for a peak in the center)\n",
    "u = np.zeros(Nx)\n",
    "u[int((Nx-1)/2)] = 1\n",
    "\n",
    "# Boundary conditions (e.g., kept at zero)\n",
    "u[0] = 0\n",
    "u[-1] = 0\n",
    "\n",
    "# Storage for solution at each time step for plotting\n",
    "u_all = [u.copy()]\n",
    "\n",
    "# Time-stepping loop\n",
    "for n in range(0, Nt):\n",
    "    u_old = u.copy()\n",
    "    for i in range(1, Nx-1):\n",
    "        u[i] = u_old[i] + r * (u_old[i+1] - 2*u_old[i] + u_old[i-1])\n",
    "    u_all.append(u.copy())\n",
    "\n",
    "# Plotting\n",
    "plt.figure(figsize=(8, 6))\n",
    "for i in range(0, Nt+1, int(Nt/5)):  # Only plotting some time steps for clarity\n",
    "    plt.plot(np.linspace(0, L, Nx), u_all[i], label=f\"t = {i*dt:.2f} s\")\n",
    "    \n",
    "plt.title(\"1D Heat Equation using Explicit Finite Difference Method\")\n",
    "plt.xlabel(\"Position along the rod\")\n",
    "plt.ylabel(\"Temperature\")\n",
    "plt.legend()\n",
    "plt.grid(True)\n",
    "plt.show()"
   ]
  },
  {
   "cell_type": "markdown",
   "metadata": {},
   "source": []
  }
 ],
 "metadata": {
  "kernelspec": {
   "display_name": "Python 3",
   "language": "python",
   "name": "python3"
  },
  "language_info": {
   "codemirror_mode": {
    "name": "ipython",
    "version": 3
   },
   "file_extension": ".py",
   "mimetype": "text/x-python",
   "name": "python",
   "nbconvert_exporter": "python",
   "pygments_lexer": "ipython3",
   "version": "3.11.4"
  }
 },
 "nbformat": 4,
 "nbformat_minor": 2
}
