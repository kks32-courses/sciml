{
  "cells": [
    {
      "cell_type": "markdown",
      "metadata": {
        "id": "NyJYblx6_EhO"
      },
      "source": [
        "# 00: Perceptron"
      ]
    },
    {
      "cell_type": "markdown",
      "metadata": {},
      "source": [
        "**Exercise:** [![Open in Colab](https://colab.research.google.com/assets/colab-badge.svg)](https://colab.research.google.com/github/kks32-courses/sciml/blob/main/lectures/00-perceptron/00-perceptron-exercise.ipynb)\n",
        "**Solution:** [![Open in Colab](https://colab.research.google.com/assets/colab-badge.svg)](https://colab.research.google.com/github/kks32-courses/sciml/blob/main/lectures/00-perceptron/00-perceptron.ipynb)"
      ]
    },
    {
      "cell_type": "markdown",
      "metadata": {},
      "source": [
        "So let's start now with just building from the ground up the fundamental building block of \n",
        "every single neural network and that's going to be just a single neuron and in neural network language a single neuron is called a `perceptron`. \n",
        "\n",
        "The perceptron is a simple single layer neural network that takes an input vector $\\boldsymbol{x} = [x_1, x_2, ..., x_n]$, multiplies it by a weight vector $\\boldsymbol{w} = [w_1, w_2, ..., w_n]$, sums the weighted inputs, and passes the $\\sum_i w_ix_i$ added to a bias $w_0$ as $z =  w_0 +  \\sum_i w_ix_i$  through an activation function $g(z)$ to produce an output $\\hat{y}$:\n",
        "\n",
        "$$z = \\mathrm{bias} + \\mathrm{linear\\_ combination\\_ of \\_ inputs}$$\n",
        "$$z = w_0 + \\boldsymbol{w}^T\\boldsymbol{x} = w_0 +  \\sum_i w_ix_i $$\n",
        "$$\\hat{y} = g(z) $$\n",
        "\n",
        "The activation function $g$ introduces nonlinearity to allow the perceptron to learn complex mappings from inputs to outputs. Typical choices for $g$ are `sigmoid`, `tanh`, or `ReLU` functions, though the original perceptron used a step function.\n",
        "\n",
        "The perceptron can be trained via supervised learning, adjusting the weights and biases to minimize the loss between the predicted $\\hat{y}$ and the true label $y^{\\text{true}}$. Backpropagation combined with gradient descent can be used to iteratively update the weights to reduce the loss.\n",
        "\n",
        "The key components of a perceptron are:\n",
        "* Input vector $\\boldsymbol{x}$\n",
        "* Weight vector $\\boldsymbol{w}$\n",
        "* Weighted sum $z = \\boldsymbol{w}^T\\boldsymbol{x}$\n",
        "* Nonlinear activation $g$\n",
        "* Output prediction $\\hat{y}$\n",
        "\n",
        "The perceptron provides a basic model of a neuron, and multilayer perceptrons composed of many interconnected perceptrons can be used to build neural networks with substantial representational power. A perceptron takes a set of inputs, scales them by corresponding weights, sums them together with a bias, applies a non-linear step function, and produces an output. This simple model can represent linear decision boundaries and serves as a building block for more complex neural networks. In training, weights are updated based on the difference between the predicted output and the actual label, often using the Perceptron learning algorithm.\n"
      ]
    },
    {
      "cell_type": "markdown",
      "metadata": {},
      "source": [
        "![Perceptron](perceptron.png)\n",
        "\n",
        "> Credits: Alexander Amini, MIT"
      ]
    },
    {
      "cell_type": "markdown",
      "metadata": {},
      "source": [
        "## Weights and biases\n",
        "\n",
        "The weights and biases are the parameters of the perceptron that allow it to learn complex mappings from inputs to outputs.\n",
        "\n",
        "The weights $w_i$ determine how much influence each input $x_i$ has on the output. Inputs with higher weights have a larger impact. The bias $b$ allows the perceptron to shift the decision boundary away from the origin\n",
        "\n",
        "The input vector:\n",
        "\n",
        "$\\boldsymbol{x} = [x_1, x_2, ..., x_n]$\n",
        "\n",
        "The weight vector:\n",
        "\n",
        "$\\boldsymbol{w} = [w_1, w_2, ..., w_n]$\n",
        "\n",
        "Mathematically, the weighted sum is calculated as:\n",
        "\n",
        "$z = \\boldsymbol{w}^T\\boldsymbol{x} = w_1 * x_1 + w_2 * x_2 + ... + w_n * x_n$\n",
        "\n",
        "We then add the bias term $b$ as:\n",
        "\n",
        "$z = \\boldsymbol{w}^T\\boldsymbol{x} + b$\n",
        "\n",
        "Where $z$ is the pre-activation value before applying the nonlinear activation function.\n",
        "\n",
        "Here is a simple Numpy function that implements a perceptron:"
      ]
    },
    {
      "cell_type": "code",
      "execution_count": null,
      "metadata": {},
      "outputs": [],
      "source": [
        "import numpy as np \n",
        "\n",
        "\n",
        "\n",
        "\n",
        "# Print prediction\n",
        "print('Prediction: %.3f' % (y))"
      ]
    },
    {
      "cell_type": "markdown",
      "metadata": {},
      "source": [
        "## Nonlinear Activation Function"
      ]
    },
    {
      "cell_type": "markdown",
      "metadata": {},
      "source": [
        "Activation functions are an important component of artificial neural networks. They introduce non-linearity into the network, allowing it to learn complex patterns in data. Without activation functions, a neural network would essentially be just a linear regression model.\n",
        "\n",
        "![Why we need activation functions](why-activation.png)\n",
        "> Credits: Alexander Amini, MIT"
      ]
    },
    {
      "cell_type": "markdown",
      "metadata": {},
      "source": [
        "Some common activation functions include:\n",
        "\n",
        "**Sigmoid**\n",
        "\n",
        "The sigmoid function squashes the input into a range between 0 and 1, and is useful for models where we want to predict a probability as output. A downside is it can saturate and cause vanishing gradients. \n",
        "\n",
        "$$ \\sigma(x) = \\frac{1}{1 + e^{-x}} $$\n",
        "\n",
        "Use Sigmoid for binary classification problems where the output should be a probability between 0-1. Also useful as the output layer for multi-class classification.\n",
        "\n",
        "**Tanh** \n",
        "\n",
        "The tanh function squashes the input into a range between -1 and 1. It is a rescaled version of the sigmoid function. Like sigmoid, it can saturate. \n",
        "\n",
        "$$\\tanh(x) = \\frac{e^x - e^{-x}}{e^x + e^{-x}} $$\n",
        "\n",
        "Use `Tanh` for models where you want your outputs centered around 0. Often used in recurrent neural networks.\n",
        "\n",
        "Here is some Python code to plot these activation functions using numpy and matplotlib:"
      ]
    },
    {
      "cell_type": "code",
      "execution_count": null,
      "metadata": {},
      "outputs": [],
      "source": [
        "import numpy as np\n",
        "import matplotlib.pyplot as plt\n",
        "\n",
        "x = np.arange(-5, 5, 0.1)\n",
        "\n",
        "# Sigmoid activation function\n",
        "sigmoid = 1 / (1 + np.exp(-x))\n",
        "\n",
        "# Tanh activation function\n",
        "tanh = (np.exp(x) - np.exp(-x)) / (np.exp(x) + np.exp(-x)) \n",
        "\n",
        "# Plot the activation functions\n",
        "plt.figure(figsize=(10,5))\n",
        "plt.plot(x, sigmoid, 'r.', label='Sigmoid')\n",
        "plt.plot(x, tanh, 'b-', label='Tanh')\n",
        "plt.legend()\n",
        "plt.xlabel('x')\n",
        "plt.ylabel('Activation')\n",
        "plt.title('Activation Functions')\n",
        "plt.show()"
      ]
    },
    {
      "cell_type": "markdown",
      "metadata": {},
      "source": [
        "**ReLU** The Rectified Linear Unit (ReLU) thresholds the input at zero, returning 0 for negative values and the raw input for positive values. It helps avoid vanishing gradients and is computationally efficient. However, it has a problem with \"dying\" neurons if inputs are consistently negative. For example, if a neuron in the first layer learns weights that result in a negative input, it will output 0. In backpropagation, since the gradient of the ReLU function is 0 for negative inputs, this neuron will not update its weights. Over time it will not activate on any data and is considered \"dead\".\n",
        "\n",
        "This limits the model capacity as neurons can effectively die and remain inactive for the rest of training. LeakyReLU solves this by having a small negative slope (e.g. 0.01x), so even when inputs are negative it will propagate some gradient to update weights.\n",
        "\n",
        "$$ f(x) = \\max(0, x)$$\n",
        "\n",
        "Use ReLU for hidden layers in networks where your inputs are always positive. It trains faster than sigmoid/tanh.\n",
        "\n",
        "**LeakyReLU**\n",
        "\n",
        "The Leaky ReLU introduces a small slope (e.g. 0.01x) for negative values instead of threshholding at zero. This helps solve the \"dying neuron\" problem of ReLU units. The small negative slope avoids saturation while keeping gradients flowing even for negative regions.\n",
        "\n",
        "$$f(x) = \\max(\\alpha x, x)$$\n",
        "\n",
        "Use LeakyReLU as a general purpose activation function that avoids both saturation and dying neurons."
      ]
    },
    {
      "cell_type": "code",
      "execution_count": null,
      "metadata": {},
      "outputs": [],
      "source": [
        "import numpy as np\n",
        "import matplotlib.pyplot as plt\n",
        "\n",
        "x = np.arange(-5, 5, 0.1)\n",
        "\n",
        "# ReLU activation function\n",
        "relu = np.maximum(0, x)\n",
        "\n",
        "# LeakyReLU activation function\n",
        "leaky_relu = np.maximum(0.1*x, x)\n",
        "\n",
        "# Plot the activation functions\n",
        "plt.figure(figsize=(10,5))\n",
        "plt.plot(x, relu, 'g--', label='ReLU')\n",
        "plt.plot(x, leaky_relu, 'r*', label='LeakyReLU')\n",
        "plt.legend()\n",
        "plt.xlabel('x')\n",
        "plt.ylabel('Activation')\n",
        "plt.title('Activation Functions')\n",
        "plt.show()"
      ]
    },
    {
      "cell_type": "markdown",
      "metadata": {},
      "source": [
        "## Perceptron: An example"
      ]
    },
    {
      "cell_type": "markdown",
      "metadata": {},
      "source": [
        "Consider the following example of how a perceptron works. We have bias $b=1.0$ and $\\mathbf{w} = [3; -2]$. \n",
        "\n",
        "$$\n",
        "\\begin{align}\n",
        "\\hat{y} & = g (b + (\\boldsymbol{w}^T\\boldsymbol{x})) \\\\\n",
        "\\hat{y} & = g (1 + (\\begin{bmatrix} 3 \\\\ -2 \\end{bmatrix}^T \\begin{bmatrix} x_1 \\\\ x_2 \\end{bmatrix}))\\\\\n",
        "\\hat{y} & = g (1 + (3 * x_1 - 2 * x_2)) \\\\\n",
        "\\end{align}\n",
        "$$\n",
        "\n",
        "The term inside the non-linear function $g$ $(1 + 3 x_1 - 2 x_2)$ is a line in 2D. \n",
        "\n",
        "We can plot all possible inputs to this neural network on a decision boundary. This two-dimensional line acts as a plane separating the input space. The plane has directionality - inputs on one side produce a certain output, while inputs on the other side produce the opposite output. For example, the input [-1, 2] lies on one side of the plane and generates a positive output. When we plug the components into the equation, we get a positive number that passes through the nonlinear activation function, propagating a positive value. Inputs on the other side of the decision boundary generate the opposite output due to the thresholding function. The sigmoid activation sits at this decision boundary, controlling how inputs move to one side or the other.\n",
        "\n",
        "For $\\boldsymbol{x} = \\begin{bmatrix} -1 \\\\ 2 \\end{bmatrix}$. We have\n",
        "\n",
        "$$\n",
        "\\begin{align}\n",
        "\\hat{y} & = g (1 + (3 * x_1 - 2 * x_2)) \\\\\n",
        "\\hat{y} & = g (1 + (3 * -1  - 2 * 2)) \\\\\n",
        "\\hat{y} & = g (-6) \\approx 0.002\n",
        "\\end{align}\n",
        "$$\n",
        "\n",
        "In this example, visualizing the full 2D input space is convenient because I can easily draw the decision boundary. However, most real-world problems have high-dimensional data. Image data contains thousands or millions of pixel values. Plotting decision boundaries is infeasible in high dimensions. This example provides intuition before building more complex models.\n",
        "\n",
        "![nn-line](nn-line.png)\n",
        "> Image credits: Alexander Amini, MIT"
      ]
    },
    {
      "cell_type": "markdown",
      "metadata": {},
      "source": [
        "### Perceptron: An implementation"
      ]
    },
    {
      "cell_type": "code",
      "execution_count": null,
      "metadata": {},
      "outputs": [],
      "source": [
        "# Define a perceptron algorithm\n",
        "\n",
        "\n",
        "x = np.array([-1, 2])      # Example inputs   \n",
        "w = np.array([3.0, -2.0])  # Example weights \n",
        "b = 1.0                    # Example bias\n",
        "\n",
        "# Generate prediction\n",
        "y = perceptron(x, w, b)\n",
        "\n",
        "# Print prediction\n",
        "print('Prediction: %.3f' % (y))"
      ]
    },
    {
      "cell_type": "markdown",
      "metadata": {},
      "source": [
        "> 💡 As we are using the `sigmoid` activation function, try varying the input `x` to see how the output `y` changes. Try for a different input `x`, which is below the line."
      ]
    },
    {
      "cell_type": "markdown",
      "metadata": {},
      "source": [
        "### Single and multi-output perceptrons\n",
        "\n",
        "\n",
        "A single perceptron neuron can be built up into a full neural network model. The key steps for a perceptron are:\n",
        "\n",
        "* Dot product of inputs and weights\n",
        "* Add bias\n",
        "* Apply non-linear activation function\n",
        "\n",
        "These steps propagate information to produce the output. In a neural network, every neuron performs these computations.\n",
        "\n",
        "$$z = b + \\sum_{j = 1}^m w_j x_j$$\n",
        "\n",
        "To create a multi-layer perceptron with multiple outputs, we use multiple perceptrons in the output layer. Each perceptron controls one output, but all perceptrons share the same inputs.\n",
        "\n",
        "To implement a multi-layer perceptron network from scratch:\n",
        "\n",
        "* Initialize a weight matrix $\\boldsymbol{w}$, where each row contains the weights for one perceptron.\n",
        "\n",
        "* Initialize a bias vector $b$, one bias term per perceptron.\n",
        "\n",
        "* Define a forward propagation function to pass inputs through the network:\n",
        "    -  Compute the dot product of inputs $x$ and weights  $\\boldsymbol{w}$\n",
        "    -  Add the bias vector $b$\n",
        "    -  Apply non-linear activation function $g(z)$\n",
        "    -  Return outputs\n",
        "\n",
        "$$z = b_i + \\sum_{j = 1}^m w_{j,i} x_{j,i}$$\n",
        "\n",
        "Because all inputs are densely connected to all outputs, these layers are called **Dense Layers**.\n",
        "\n",
        "This forward function defines the computations for a complete neural network layer. Stacking layers together allows building deep networks with multiple nonlinear transformations.\n",
        "\n",
        "\n",
        "![ouput of perceptrons](multioutput-perceptrons.png)"
      ]
    },
    {
      "cell_type": "markdown",
      "metadata": {},
      "source": [
        "### Single-Layer Neural Network\n",
        "\n",
        "A single layer neural network, also known as a perceptron, is the simplest type of neural network. It consists of a single layer of input nodes fully connected to a layer of output nodes.\n",
        "        \n",
        "Let's now focus on a single neuron $z_2$. Here $z_2$ takes the weighted inputs from $\\boldsymbol{x}$ added to the bias term. \n",
        "        \n",
        "$$z_2 = b_2^{(1)} + \\sum_{j=1}^m w_{j,2}^{(1)} x_j = b_2^{(1)} + w_{1,2}^{(1)}x_1 + w_{2,2}^{(1)}x_2 + w_{m,2}^{(1)}x_m$$\n",
        "\n",
        "![Single layer NN](single-layer-nn1.png)"
      ]
    },
    {
      "cell_type": "markdown",
      "metadata": {},
      "source": [
        "Hidden layers are layers in a neural network that sit between the input layer and the output layer. While the input and output layers connect to the external world, hidden layers only connect to other neurons within the network.\n",
        "\n",
        "Hidden layers enable neural networks to learn more complex relationships between inputs and outputs. Specifically, hidden layers allow the network to model nonlinear relationships, which is crucial for solving more difficult problems.\n",
        "\n",
        "The power of deep neural networks comes from having multiple hidden layers. Each layer transforms the representation of the data into a slightly more abstract representation. With enough layers, very complex functions can be modeled.\n",
        "\n",
        "The number of hidden layers and neurons per layer are part of the neural network architecture. Tuning the hidden layer structure is an important part of applying neural networks to a problem.\n",
        "\n",
        "\n",
        "We define a hidden layer as: \n",
        "\n",
        "$$z_2 = b_i^{(1)} + \\sum_{j=1}^m w_{j,i}^{(1)} x_j$$\n",
        "\n",
        "Final output: \n",
        "\n",
        "$$\\hat{y}_i = g(b_i^{(2)} + \\sum_{j=1}^{d_1} w_{j,i}^{(2)} g(z_j))$$\n",
        "\n",
        "\n",
        "![Single layer NN](single-layer-nn2.png)"
      ]
    },
    {
      "cell_type": "markdown",
      "metadata": {
        "id": "xZxP_HvKf1QI"
      },
      "source": [
        "## Using neural networks to model stress-strain behavior (Bingham model)\n",
        "\n",
        "### Bingham model\n",
        "\n",
        "The Bingham constitutive model describes the flow behavior of viscoplastic fluids that behave as rigid solids at low stresses but flow as viscous fluids at high stresses. There is a critical yield stress $\\tau_y$ that must be exceeded before flow occurs. Once the yield stress is exceeded, the material flows as a viscous fluid with a constant plastic viscosity $\\mu$. The constitutive equation is:\n",
        "\n",
        "$\\tau = \\tau_y + \\mu\\dot{\\gamma}$\n",
        "\n",
        "Where $\\tau$ is the shear stress, $\\tau_y$ is the yield stress, $\\mu$ is the plastic viscosity, and $\\dot{\\gamma}$ is the shear rate. For $\\tau < \\tau_y$, the shear rate is zero. For $\\tau > \\tau_y$, the shear rate is proportional to the excess shear stress ($\\tau - \\tau_y$) and the viscosity $\\mu$. The Bingham model captures the dual rigid and viscous behaviors seen in materials like toothpaste, mayonnaise, concrete, drilling muds, etc. It provides a simple yet powerful constitutive framework for modeling viscoplastic fluid flows.\n",
        "\n",
        "![bingham](bingham.png)"
      ]
    },
    {
      "cell_type": "markdown",
      "metadata": {
        "id": "G_H9GIHKACrn"
      },
      "source": [
        "### Modeling Bingham fluid with single layer neural network\n",
        "\n",
        "Let us now model the bingham fluid model using a neural network. The first step is to generate data. "
      ]
    },
    {
      "cell_type": "code",
      "execution_count": null,
      "metadata": {},
      "outputs": [],
      "source": [
        "import numpy as np\n",
        "import matplotlib.pyplot as plt\n",
        "\n",
        "# Generate synthetic data\n",
        "num_samples = 1000\n",
        "\n",
        "# Range of strain rate values\n",
        "v_values = np.random.rand(num_samples, 1) * 10\n",
        "# Yield stress\n",
        "tau0_true = 5.0\n",
        "# Visocisty\n",
        "mu_true = 2.0\n",
        "# Shear stress = yield stress + viscosity * strain rate\n",
        "y_true = tau0_true + mu_true * v_values\n",
        "\n",
        "# Plot the bingham model\n",
        "plt.plot(v_values, y_true, label='Bingham')\n",
        "plt.ylim(0, None)\n",
        "plt.xlabel('strain rate')\n",
        "plt.ylabel('Shear Stress')\n",
        "plt.legend()\n",
        "plt.show()"
      ]
    },
    {
      "cell_type": "markdown",
      "metadata": {},
      "source": [
        "### Initializing the single layer network\n",
        "\n",
        "We are now going to define a single layer single neuron network, which has a bias value $b$ and a weight vector $w$ which is a scalar. We are only using the simple neuron without any non-linear activation function. "
      ]
    },
    {
      "cell_type": "code",
      "execution_count": null,
      "metadata": {},
      "outputs": [],
      "source": [
        "# Initialize model weights as random\n",
        "weights = np.random.randn(1, 1)\n",
        "bias = np.random.randn()\n",
        "\n",
        "# Define the bingham NN model\n",
        "\n",
        "\n",
        "# Evaluation\n",
        "v_eval = np.linspace(0, 10, 100).reshape(-1, 1)\n",
        "y_true_eval = tau0_true + mu_true * v_eval\n",
        "y_pred_eval = bingham_nn(v_eval, weights, bias)\n",
        "\n",
        "# Plot\n",
        "plt.plot(v_eval, y_true_eval, 'r-', label='True')\n",
        "plt.plot(v_eval, y_pred_eval, 'b.', label='Prediction')\n",
        "plt.xlabel('v')\n",
        "plt.ylabel('Shear Stress')\n",
        "plt.legend()\n",
        "plt.show()"
      ]
    },
    {
      "cell_type": "markdown",
      "metadata": {},
      "source": [
        "So, what went wrong? Our predictions do not match the true Bingham model. We have not actually trained the neural network. "
      ]
    },
    {
      "cell_type": "markdown",
      "metadata": {},
      "source": [
        "## Training a neural network\n",
        "\n",
        "Neural networks are trained using an optimization algorithm that iteratively updates the network's weights and biases to minimize a loss function. The loss function measures how far the network's predictions are from the true target outputs in the training data. It is a measure of the model's error.\n",
        "\n",
        "Some common loss functions include:\n",
        "\n",
        "* Mean squared error (MSE) - The average of the squared differences between the predicted and actual values. Measures the square of the error. Used for regression problems.\n",
        "\n",
        "* Cross-entropy loss - Measures the divergence between the predicted class probabilities and the true distribution. Used for classification problems. Penalizes confident incorrect predictions.\n",
        "\n",
        "* Hinge loss - Used for Support Vector Machines classifiers. Penalizes predictions that are on the wrong side of the decision boundary.\n",
        "\n",
        "Loss optimization is the process of finding the network weights that acheives the lowest loss.\n",
        "\n",
        "$$ \n",
        "\\begin{align}\n",
        "\\boldsymbol{w^*} &= \\argmin_{\\boldsymbol{w}}\\frac{1}{n}\\sum_{i=1}^n \\mathcal{L}(f(x^{(i)};\\boldsymbol{w}),y^{(i)})\\\\\n",
        "\\boldsymbol{w^*} &= \\argmin_{\\boldsymbol{w}} J(\\boldsymbol{w})\n",
        "\\end{align}\n",
        "$$\n",
        "\n",
        "The training process works like this:\n",
        "\n",
        "1. **Initialization**: The weights and biases of the network are initialized, often with small random numbers.\n",
        "\n",
        "2. **Forward Pass**: The input is passed through the network, layer by layer, applying the necessary transformations (e.g., linear combinations of weights and inputs followed by activation functions) until an output is obtained.\n",
        "\n",
        "3. **Calculate Loss**: A loss function is used to quantify the difference between the predicted output and the actual target values.\n",
        "\n",
        "4. **Backward Pass (Backpropagation)**: The gradients of the loss with respect to the parameters (weights and biases) are computed using the chain rule for derivatives. This process is known as backpropagation.\n",
        "\n",
        "5. **Update Parameters**: The gradients computed in the backward pass are used to update the parameters of the network, typically using optimization algorithms like stochastic gradient descent (SGD) or more sophisticated ones like Adam. The update is done in the direction that minimizes the loss.\n",
        "\n",
        "6. **Repeat**: Steps 2-5 are repeated using the next batch of data until a stopping criterion is met, such as a set number of epochs (full passes through the training dataset) or convergence to a minimum loss value.\n",
        "\n",
        "7. **Validation**: The model is evaluated on a separate validation set to assess its generalization to unseen data."
      ]
    },
    {
      "cell_type": "markdown",
      "metadata": {},
      "source": [
        "### Gradient Descent\n",
        "Gradient Descent is a first-order iterative optimization algorithm used to find the minimum of a differentiable function. In the context of training a neural network, we are trying to minimize the loss function. \n",
        "\n",
        "1. **Initialize Parameters**:\n",
        "\n",
        "Choose an initial point (i.e., initial values for the weights and biases) in the parameter space, and set a learning rate that determines the step size in each iteration.\n",
        "\n",
        "2. **Compute the Gradient**:\n",
        "\n",
        "Calculate the gradient of the loss function with respect to the parameters at the current point. The gradient is a vector that points in the direction of the steepest increase of the function. It is obtained by taking the partial derivatives of the loss function with respect to each parameter.\n",
        "\n",
        "3. **Update Parameters**:\n",
        "\n",
        "Move in the opposite direction of the gradient by a distance proportional to the learning rate. This is done by subtracting the gradient times the learning rate from the current parameters:\n",
        "\n",
        "$$\\boldsymbol{w} = \\boldsymbol{w} - \\eta \\nabla J(\\boldsymbol{w})$$\n",
        "\n",
        "Here, $\\boldsymbol{w}$ represents the parameters, $\\eta$ is the learning rate, and $\\nabla J (\\boldsymbol{w})$ is the gradient of the loss function $J$ with respect to $\\boldsymbol{w}$.\n",
        "\n",
        "4. **Repeat**:\n",
        "\n",
        "Repeat steps 2 and 3 until the change in the loss function falls below a predefined threshold, or a maximum number of iterations is reached.\n",
        "\n",
        "#### Algorithm:\n",
        "\n",
        "1. Initialize weights randomly $\\sim \\mathcal{N}(0, \\sigma^2)$\n",
        "2. Loop until convergence\n",
        "3.   Compute gradient, $\\frac{\\partial J(\\boldsymbol{w})}{\\partial \\boldsymbol{w}}$\n",
        "4.   Update weights, $\\boldsymbol{w} \\leftarrow \\boldsymbol{w} - \\eta \\frac{\\partial J(\\boldsymbol{w})}{\\partial \\boldsymbol{w}}$\n",
        "5. Return weights\n",
        "\n",
        "![SGD](sgd.gif)"
      ]
    },
    {
      "cell_type": "markdown",
      "metadata": {},
      "source": [
        "Assuming a loss function is mean squared error (MSE). Let's compute the gradient of the loss with respect to the input weights. \n",
        "\n",
        "The loss function is mean squared error:\n",
        "\n",
        "$$\\text{loss} = \\frac{1}{n}\\sum_{i=1}^{n}(y_i - \\hat{y}_i)^2$$\n",
        "\n",
        "Where $y_i$ are the true target and $\\hat{y}_i$ are the predicted values.\n",
        "\n",
        "To minimize this loss, we need to compute the gradients with respect to the weights $\\mathbf{w}$ and bias $b$:\n",
        "\n",
        "Using the chain rule, the gradient of the loss with respect to the weights is:\n",
        "$$\\frac{\\partial \\text{loss}}{\\partial \\mathbf{w}} = \\frac{2}{n}\\sum_{i=1}^{n}(y_i - \\hat{y}_i) \\frac{\\partial y_i}{\\partial \\mathbf{w}}$$\n",
        "\n",
        "The term inside the sum is the gradient of the loss with respect to the output $y_i$, which we called $\\text{grad\\_output}$:\n",
        "$$\\text{grad\\_output} = \\frac{2}{n}\\sum_{i=1}^{n}(y_i - \\hat{y}_i)$$\n",
        "\n",
        "The derivative $\\frac{\\partial y_i}{\\partial \\mathbf{w}}$ is just the input $\\mathbf{x}_i$ multiplied by the derivative of the activation. For simplicity, let's assume linear activation, so this is just $\\mathbf{x}_i$:\n",
        "\n",
        "$$\\therefore \\frac{\\partial \\text{loss}}{\\partial \\mathbf{w}} = \\mathbf{X}^T\\text{grad\\_output}$$\n",
        "\n",
        "The gradient for the bias is simpler:\n",
        "$$\\frac{\\partial \\text{loss}}{\\partial b} = \\sum_{i=1}^{n}\\text{grad\\_output}_i$$\n",
        "\n",
        "Finally, we update the weights and bias by gradient descent:\n",
        "\n",
        "$$\\mathbf{w} = \\mathbf{w} - \\eta \\frac{\\partial \\text{loss}}{\\partial \\mathbf{w}}$$\n",
        "\n",
        "$$b = b - \\eta \\frac{\\partial \\text{loss}}{\\partial b}$$\n",
        "\n",
        "Where $\\eta$ is the learning rate.\n"
      ]
    },
    {
      "cell_type": "markdown",
      "metadata": {},
      "source": [
        "```python\n",
        "# training the neural network with gradient-based optimization\n",
        "epochs = 1000       # Number of iterations\n",
        "learning_rate = 0.1 # eta\n",
        "\n",
        "# Training loop\n",
        "for epoch in range(epochs):\n",
        "    # Forward pass\n",
        "    y_pred = bingham_nn(v_values, weights, bias)\n",
        "    # Compute loss as MSE\n",
        "    loss = ((y_pred - y_true) ** 2).mean()\n",
        "    \n",
        "    # Compute gradients\n",
        "    grad_output = 2 * (y_pred - y_true) / num_samples\n",
        "    grad_weights = np.dot(v_values.T, grad_output)\n",
        "    grad_bias = grad_output.sum()\n",
        "\n",
        "    # Update weights using gradient descent\n",
        "    weights -= learning_rate * grad_weights\n",
        "    bias -= learning_rate * grad_bias\n",
        "```"
      ]
    },
    {
      "cell_type": "markdown",
      "metadata": {},
      "source": [
        "#### Variants:\n",
        "\n",
        "There are several variants of Gradient Descent that modify or enhance these basic steps, including:\n",
        "\n",
        "- **Stochastic Gradient Descent (SGD)**: Instead of using the entire dataset to compute the gradient, SGD uses a single random data point (or small batch) at each iteration. This adds noise to the gradient but often speeds up convergence and can escape local minima.\n",
        "\n",
        "- **Momentum**: Momentum methods use a moving average of past gradients to dampen oscillations and accelerate convergence, especially in cases where the loss surface has steep valleys.\n",
        "\n",
        "- **Adaptive Learning Rate Methods**: Techniques like Adagrad, RMSprop, and Adam adjust the learning rate individually for each parameter, often leading to faster convergence.\n",
        "\n",
        "#### Limitations:\n",
        "\n",
        "* It may converge to a local minimum instead of a global minimum if the loss surface is not convex.\n",
        "* Convergence can be slow if the learning rate is not properly tuned.\n",
        "* Sensitive to the scaling of features; poorly scaled data can cause the gradient descent to take a long time to converge or even diverge.\n"
      ]
    },
    {
      "cell_type": "markdown",
      "metadata": {},
      "source": [
        "#### Effect of learning rate\n",
        "\n",
        "The learning rate in gradient descent is a critical hyperparameter that can significantly influence the model's training dynamics. Let us now look at how the learning rate affects local minima, overshooting, and convergence:\n",
        "\n",
        "1. Effect on Local Minima:\n",
        "\n",
        "- High Learning Rate: A large learning rate can help the model escape shallow local minima, leading to the discovery of deeper (potentially global) minima. However, it can also cause instability, making it hard to settle in a good solution.\n",
        "\n",
        "- Low Learning Rate: A small learning rate may cause the model to get stuck in local minima, especially in complex loss landscapes with many shallow valleys. The model can lack the \"energy\" to escape these regions.\n",
        "\n",
        "2. Effect on Overshooting:\n",
        "\n",
        "- High Learning Rate: If the learning rate is set too high, the updates may be so large that they overshoot the minimum and cause the algorithm to diverge, or oscillate back and forth across the valley without ever reaching the bottom. This oscillation can be detrimental to convergence.\n",
        "   \n",
        "- Low Learning Rate: A very low learning rate will likely avoid overshooting but may lead to extremely slow convergence, as the updates to the parameters will be minimal. It might result in getting stuck in plateau regions where the gradient is small.\n",
        "\n",
        "3. Effect on Convergence:\n",
        "\n",
        "- High Learning Rate: While it can speed up convergence initially, a too-large learning rate risks instability and divergence, as mentioned above. The model may never converge to a satisfactory solution.\n",
        "   \n",
        "- Low Learning Rate: A small learning rate ensures more stable and reliable convergence but can significantly slow down the process. If set too low, it may also lead to premature convergence to a suboptimal solution.\n",
        "\n",
        "##### Finding the Right Balance:\n",
        "\n",
        "Choosing the right learning rate is often a trial-and-error process, sometimes guided by techniques like learning rate schedules or adaptive learning rate algorithms like Adam. These approaches attempt to balance the trade-offs by adjusting the learning rate throughout training, often starting with larger values to escape local minima and avoid plateaus, then reducing it to stabilize convergence."
      ]
    },
    {
      "cell_type": "code",
      "execution_count": null,
      "metadata": {
        "tags": []
      },
      "outputs": [],
      "source": [
        "# This code cell creates an example for gradient descent \n",
        "# RUN THIS CELL AND MOVE ON TO THE NEXT ONE TO EXECUTE THE DIFFERENT CONDITIONS FOR GRADIENT DESCENT\n",
        "from IPython.display import HTML\n",
        "import numpy as np\n",
        "import matplotlib.pyplot as plt\n",
        "from matplotlib.animation import FuncAnimation\n",
        "import matplotlib.cm as cm\n",
        "\n",
        "# Define the function and its derivative\n",
        "def function(x):\n",
        "    return x**4 - 6 * x**2 + 3 * x\n",
        "\n",
        "def derivative(x):\n",
        "    return 4 * x**3 - 12 * x + 3\n",
        "\n",
        "# Gradient descent\n",
        "def gradient_descent(initial_x, learning_rate, iterations):\n",
        "    x = initial_x\n",
        "    history = [x]\n",
        "\n",
        "    for i in range(iterations):\n",
        "        gradient = derivative(x)\n",
        "        x -= learning_rate * gradient\n",
        "        history.append(x)\n",
        "\n",
        "    return history\n",
        "\n",
        "def plot_gradient_descent(initial_x, learning_rate, iterations):\n",
        "  # Running gradient descent\n",
        "  history = gradient_descent(initial_x, learning_rate, iterations)\n",
        "\n",
        "  # Plotting the animation\n",
        "  fig, ax = plt.subplots()\n",
        "  x_values = np.linspace(-3.5, 3.5, 400)\n",
        "  ax.plot(x_values, function(x_values))\n",
        "  ax.set_xlabel('W')\n",
        "  ax.set_ylabel('J(W)')\n",
        "\n",
        "  # Lists to hold the x and y values of the dots\n",
        "  x_dots = []\n",
        "  y_dots = []\n",
        "\n",
        "  # Define the text label\n",
        "  text = ax.text(0.02, 0.95, '', transform=ax.transAxes)\n",
        "\n",
        "  def update(frame):\n",
        "      x = history[frame]\n",
        "      y = function(x)\n",
        "      x_dots.append(x)\n",
        "      y_dots.append(y)\n",
        "      text.set_text(f'Iteration {frame}: x = {x:.2f}')\n",
        "      ax.scatter(x_dots, y_dots, c=range(len(x_dots)), cmap=cm.jet, lw=2)\n",
        "      ax.plot(x_dots, y_dots, color='r', lw=0.5)\n",
        "      return\n",
        "\n",
        "  ani = FuncAnimation(fig, update, frames=range(len(history)), blit=False)\n",
        "\n",
        "\n",
        "  # Display the animation\n",
        "  html_output = HTML(ani.to_jshtml())\n",
        "  return html_output"
      ]
    },
    {
      "cell_type": "code",
      "execution_count": null,
      "metadata": {},
      "outputs": [],
      "source": [
        "# Plot gradient descent\n",
        "\n",
        "# Oscillating solution\n",
        "#html = plot_gradient_descent(initial_x = 2.5, learning_rate = 0.14, iterations = 5)\n",
        "\n",
        "# Stuck in local minima\n",
        "# html = plot_gradient_descent(initial_x = 3.0, learning_rate = 0.0005, iterations = 50)\n",
        "\n",
        "# Converging to global minima\n",
        "html = plot_gradient_descent(initial_x = -3.0, learning_rate = 0.01, iterations = 20)\n",
        "\n",
        "html"
      ]
    },
    {
      "cell_type": "markdown",
      "metadata": {},
      "source": [
        "> 💡 Try the different settings to understand the effect of learning rate"
      ]
    },
    {
      "cell_type": "markdown",
      "metadata": {},
      "source": [
        "An epoch in the training process of a neural network refers to one complete iteration over the entire training dataset. The optimization algorithm minimizes a predefined loss function during each epoch, reflecting the discrepancy between the predicted and actual target values.\n",
        "\n",
        "Here is a step-by-step breakdown of what happens during an epoch:\n",
        "\n",
        "1. **Batch processing**: The training dataset is partitioned into smaller subsets called batches. The batch size is a critical hyperparameter and has implications for the stochasticity of the gradient descent process. Smaller batches yield noisier gradients, which can aid in escaping local minima, whereas larger batches provide a more accurate estimate of the gradient.\n",
        "\n",
        "1. **Forward Propagation**: For each batch, the model computes the predicted output through a series of mathematical operations defined by the architecture. This process is referred to as a \"forward pass.\"\n",
        "\n",
        "1. **Loss Computation**: The loss function, carefully chosen to align with the problem's objective, is computed using the predicted output and the true target values. This loss quantifies the error or the discrepancy between the prediction and the actual target values.\n",
        "\n",
        "1. **Backward Propagation**: The gradients of the loss with respect to the model's parameters are computed using the chain rule. This process is known as \"backpropagation\" and forms the core of training deep learning models.\n",
        "\n",
        "1. **Parameter Update**: The calculated gradients are used to update the model's parameters (such as weights and biases) using an optimization algorithm (e.g., SGD, Adam). The update is performed in a direction that reduces the loss, and the learning rate hyperparameter controls the step size of this update.\n",
        "\n",
        "1. **Iteration over Batches**: Steps 2-5 are iteratively performed for each batch in the training data, constituting one entire epoch.\n",
        "\n",
        "1. **Subsequent Epochs**: The entire process is repeated for a predefined number of epochs. Often, the data is shuffled between epochs to prevent any ordering biases in the training process.\n",
        "\n",
        "Training a model for more epochs means the model has more opportunities to learn from the data. However, training for too many epochs may cause the model to \"overfit\" the training data, meaning that it becomes specialized to the training data at the expense of its ability to generalize to unseen data. Therefore, the number of epochs is a hyperparameter that needs to be carefully chosen and validated using a separate validation dataset."
      ]
    },
    {
      "cell_type": "markdown",
      "metadata": {},
      "source": [
        "### Bingham Neural Network"
      ]
    },
    {
      "cell_type": "code",
      "execution_count": null,
      "metadata": {
        "colab": {
          "base_uri": "https://localhost:8080/",
          "height": 449
        },
        "id": "o1WNfafEB4r9",
        "outputId": "4925dc9b-55cf-4350-cbe0-4c30a714f673"
      },
      "outputs": [],
      "source": [
        "import numpy as np\n",
        "import matplotlib.pyplot as plt\n",
        "\n",
        "# Generate synthetic data\n",
        "num_samples = 1000\n",
        "v_values = np.random.rand(num_samples, 1) * 10\n",
        "tau0_true = 5.0\n",
        "mu_true = 2.0\n",
        "y_true = tau0_true + mu_true * v_values\n",
        "\n",
        "# Initialize model weights\n",
        "\n",
        "\n",
        "# Training loop\n",
        "\n",
        "# Loss history\n",
        "\n",
        "\n",
        "# Evaluation\n",
        "v_eval = np.linspace(0, 10, 100).reshape(-1, 1)\n",
        "y_pred_eval = np.dot(v_eval, weights) + bias\n",
        "y_true_eval = tau0_true + mu_true * v_eval\n",
        "\n",
        "# Plot\n",
        "plt.plot(v_eval, y_true_eval, 'r-', label='True')\n",
        "plt.plot(v_eval, y_pred_eval, 'b.', label='NN Prediction')\n",
        "plt.ylim(0, None)\n",
        "plt.xlabel('v')\n",
        "plt.ylabel('Shear Stress')\n",
        "plt.legend()\n",
        "plt.show()"
      ]
    },
    {
      "cell_type": "markdown",
      "metadata": {
        "id": "uHh3faq4WFuo"
      },
      "source": [
        "### The problem of overfitting\n",
        "\n",
        "#### Definition of Overfitting\n",
        "Overfitting occurs when a model performs exceptionally well on the training data but poorly on unseen data, such as validation or test data. This phenomenon is indicative of the model's inability to generalize from the training data to new, unseen examples.\n",
        "\n",
        "#### Causes of Overfitting\n",
        "1. **Complex Models**: Models with too many parameters relative to the number of training examples can easily fit the noise in the data, capturing spurious correlations.\n",
        "2. **Insufficient Data**: A small dataset may not represent the underlying distribution well, allowing the model to memorize the data rather than learn the underlying pattern.\n",
        "3. **Noisy Data**: If the training data contain errors or irrelevant information, a complex model may learn these inaccuracies.\n",
        "\n",
        "#### Consequences of Overfitting\n",
        "- **Poor Generalization**: An overfitted model will perform poorly on new data, limiting its usefulness in making predictions on unseen examples.\n",
        "- **Misleading Performance Metrics**: Overfitting can lead to overly optimistic performance estimates on the training data, which do not translate to real-world performance.\n",
        "\n",
        "#### How to Detect Overfitting\n",
        "- **Validation Set**: By evaluating the model on a separate validation set, one can compare performance on the training data and unseen data. A significant drop in performance on the validation set is indicative of overfitting.\n",
        "- **Learning Curves**: Plotting the training and validation loss (or other metrics) as a function of training epochs can reveal overfitting. If the validation loss starts increasing while the training loss continues to decrease, this is a classic sign of overfitting.\n",
        "\n",
        "#### Strategies to Combat Overfitting\n",
        "1. **Regularization**: Techniques like L1 or L2 regularization add penalties to the loss function that discourage the model from fitting the noise in the data.\n",
        "2. **Early Stopping**: Monitoring the validation loss and stopping training when it starts to increase can prevent the model from overfitting the training data.\n",
        "3. **Cross-Validation**: This method involves splitting the data into several subsets and validating the model on different subsets, providing a more robust estimate of its generalization ability.\n",
        "4. **Pruning**: For tree-based models, pruning involves removing sections of the tree that provide little predictive power.\n",
        "5. **Using More Data**: If available, more training examples can make it harder for the model to fit the noise.\n",
        "6. **Simplifying the Model**: Choosing a model with fewer parameters or constraining its complexity can help prevent overfitting.\n",
        "\n",
        "\n",
        "Overfitting is a central challenge in SciML, representing a failure of the model to abstract the underlying patterns in the data. It underscores the principle that a model performing well on the training data does not necessarily translate to good real-world performance. Understanding and combating overfitting are essential skills for graduate students in SciML, requiring both theoretical understanding and practical experience with various techniques and strategies.\n"
      ]
    },
    {
      "cell_type": "markdown",
      "metadata": {},
      "source": [
        "![overfitting](overfitting.png)\n",
        "> Example of under and overfitting the data"
      ]
    },
    {
      "cell_type": "markdown",
      "metadata": {},
      "source": [
        "#### How to detect overfitting with validation dataset\n",
        "\n",
        "In practice, the learning algorithm does not actually ﬁnd the best function, but merely one thatsigniﬁcantly reduces the training error. These additional limitations, such as theimperfection of the optimization algorithm, mean that the learning algorithm’seﬀective capacitymay be less than the representational capacity of the modelfamily.\n",
        "\n",
        "Our modern ideas about improving the generalization of machine learningmodels are reﬁnements of thought dating back to philosophers at least as early as Ptolemy. Many early scholars invoke a principle of parsimony that is now mostwidely known as `Occam’s razor` (c. 1287–1347). This principle states that amongcompeting hypotheses that explain known observations equally well, we shouldchoose the “simplest” one. This idea was formalized and made more precise in the twentieth century by the founders of statistical learning theory.\n",
        "\n",
        "We must remember that while simpler functions are more likely to generalize(to have a small gap between training and test error), we must still choose asuﬃciently complex hypothesis to achieve low training error. Typically, trainingerror decreases until it asymptotes to the minimum possible error value as modelcapacity increases (assuming the error measure has a minimum value). Typically generalization error has a U-shaped curve as a function of model capacity.\n",
        "\n",
        "At the left end of the graph, training error and generalization errorare both high. This is the **underfitting regime**. As we increase capacity, training error decreases, but the gap between training and generalization error increases. Eventually,the size of this gap outweighs the decrease in training error, and we enter the **overfitting regime**, where capacity is too large, above the **optimal capacity**.\n",
        "\n",
        "![Training validation fit](training-validation-fit.png)\n",
        "\n",
        "> Image credits: Goodfellow, I., Bengio, Y., & Courville, A. (2016). Deep learning. MIT press."
      ]
    },
    {
      "cell_type": "code",
      "execution_count": null,
      "metadata": {
        "colab": {
          "base_uri": "https://localhost:8080/",
          "height": 449
        },
        "id": "LV1iZ-xAWFXb",
        "outputId": "1f73a49c-c4d4-4a6d-b5b9-01edd4f0f0a0"
      },
      "outputs": [],
      "source": [
        "# Let us now plot the loss history of training with epochs\n",
        "plt.figure()\n",
        "plt.semilogy(np.arange(epochs), losses)\n",
        "plt.xlabel('epochs')\n",
        "plt.ylabel('loss')\n",
        "plt.show()"
      ]
    },
    {
      "cell_type": "markdown",
      "metadata": {
        "id": "j7rhIIh2VZiT"
      },
      "source": [
        "### Weights and biases\n",
        "\n",
        "For simple models, we can also plot the weights and biases to understand how well the model fits the true Bingham response. In the original Bingham model, we had a yield stress $\\tau_y = 5.0$ (bias $b$) and a viscosity $\\mu = 2$ (weight $\\boldsymbol{w}$).\n"
      ]
    },
    {
      "cell_type": "code",
      "execution_count": null,
      "metadata": {
        "colab": {
          "base_uri": "https://localhost:8080/"
        },
        "id": "i3RukgDfB4PT",
        "outputId": "4a366162-be6c-478f-8c50-21a4716a5e98"
      },
      "outputs": [],
      "source": [
        "print(\"Weights: {}\".format(weights[0]))\n",
        "print(\"Bias: %.2f\" % (bias))"
      ]
    },
    {
      "cell_type": "markdown",
      "metadata": {},
      "source": [
        "We see that the weight and biases are pretty close to the actual values of the Bingham model data on which it was trained. For more complex NN, we could also plot how weights and biases change over epochs."
      ]
    },
    {
      "cell_type": "markdown",
      "metadata": {
        "id": "QLhhSOm5XO70"
      },
      "source": [
        "### PyTorch version of Bingham Model\n",
        "\n",
        "PyTorch is a popular open source machine learning library for Python developed by Facebook. It is used for building and training deep neural networks. Here is how to construct a simple neural network with PyTorch:\n",
        "\n",
        "First, import PyTorch:\n",
        "\n",
        "```python\n",
        "import torch\n",
        "import torch.nn as nn\n",
        "import torch.nn.functional as F\n",
        "```\n",
        "\n",
        "Define the neural network class inheriting from `nn.Module`. In the constructor initialize the layers:\n",
        "\n",
        "```python\n",
        "class Net(nn.Module):\n",
        "    def __init__(self):\n",
        "        super(Net, self).__init__()\n",
        "        self.fc = nn.Linear(1, 1) \n",
        "        self.relu = nn.ReLU()\n",
        "\n",
        "    def forward(self, x):\n",
        "        x = self.relu(self.fc(x))\n",
        "        return x\n",
        "```\n",
        "\n",
        "Alternatively, we can also define a new network using a single equivalent line as:\n",
        "\n",
        "```python\n",
        "Net = nn.Sequential(nn.Linear(1, 1), nn.ReLU())\n",
        "```\n",
        "\n",
        "This creates a simple neural net with 1 fully connected layer and a non-linear activation function ReLU.\n",
        "\n",
        "Then create the model instance and set the loss function and optimizer:\n",
        "\n",
        "```python\n",
        "model = Net()\n",
        "criterion = nn.CrossEntropyLoss()\n",
        "optimizer = torch.optim.SGD(model.parameters(), lr=0.01)\n",
        "```\n",
        "\n",
        "That's it! We now have a simple single layer neural network defined in PyTorch. To train it on data we need to loop through datasets, perform forward passes, compute loss, backpropagate and update weights."
      ]
    },
    {
      "cell_type": "markdown",
      "metadata": {},
      "source": [
        "## Neural Network Example #1\n",
        "\n",
        "> Bingham model (only shear strain rate $\\dot{\\gamma}$ input)"
      ]
    },
    {
      "cell_type": "code",
      "execution_count": null,
      "metadata": {
        "colab": {
          "base_uri": "https://localhost:8080/",
          "height": 449
        },
        "id": "72GnCVN60IrP",
        "outputId": "26c6933d-4efe-4342-a8fb-c66dea9e0d45"
      },
      "outputs": [],
      "source": [
        "# PyTorch version of NN for Bingham Plastic model\n",
        "import torch\n",
        "import torch.nn as nn\n",
        "import torch.optim as optim\n",
        "import numpy as np\n",
        "import matplotlib.pyplot as plt\n",
        "\n",
        "\n",
        "# Generate synthetic data\n",
        "num_samples = 10000\n",
        "v_values = torch.rand(num_samples, 1) * 10\n",
        "tau0_true = 5.0\n",
        "mu_true = 2.0\n",
        "y_true = tau0_true + mu_true * v_values\n",
        "\n",
        "# Bingham Neural Network model\n",
        "\n",
        "\n",
        "# Loss and optimizer\n",
        "\n",
        "\n",
        "# Training loop\n",
        "\n",
        "# Evaluation\n",
        "v_eval = torch.linspace(0, 10, 100).view(-1, 1)\n",
        "y_pred = model(v_eval)\n",
        "y_true_eval = tau0_true + mu_true * v_eval\n",
        "\n",
        "# Plot\n",
        "plt.plot(v_eval.numpy(), y_true_eval.numpy(), 'r-', label='True', )\n",
        "plt.plot(v_eval.numpy(), y_pred.detach().numpy(), 'b.', label='Prediction')\n",
        "plt.ylim(0, None)\n",
        "plt.xlabel('v')\n",
        "plt.ylabel('Shear Stress')\n",
        "plt.legend()\n",
        "plt.show()"
      ]
    },
    {
      "cell_type": "markdown",
      "metadata": {},
      "source": [
        "### TensorFlow 2.0/Keras\n",
        "\n",
        "TensorFlow 2.0 is an open-source machine learning framework developed by Google, designed to facilitate the building, training, and deployment of various machine learning models. TensorFlow 2.0 brought several improvements over its predecessor, including ease of use, more robust support for distributed training, and integration with Keras as its high-level API.\n",
        "\n",
        "Initially developed as an independent neural network library, Keras serves as a user-friendly interface for building deep learning models. It provides a set of high-level building blocks to create neural networks, making it easier to design and experiment with complex architectures. With TensorFlow 2.0, Keras became the default high-level API, allowing researchers and practitioners to harness the power of TensorFlow with a more accessible and streamlined interface.\n",
        "\n",
        "#### Tensors\n",
        "\n",
        "Tensors are the primary data structure used in TensorFlow. A tensor is a multidimensional array representing anything from a scalar to a high-dimensional matrix. The dimensions of a tensor are referred to as \"ranks,\" with rank 0 corresponding to a scalar and rank 1 to a vector.\n",
        "\n",
        "Tensors are used to represent the input, output, and transformations within the computational graph. They are immutable, meaning their values cannot be changed once set, and they are strongly typed, meaning that they have a specific datatype (e.g., float32, int32).\n",
        "\n",
        "Using tensors enables TensorFlow to be highly versatile and capable of running on various hardware platforms (including GPUs and TPUs), as the same tensor operations can be efficiently mapped to different computational devices.\n",
        "\n",
        "\n",
        "#### TensorFlow Computational Graph\n",
        "\n",
        "The computational graph is a core concept in TensorFlow, representing the sequence of operations performed during a computation. Here is how it works:\n",
        "\n",
        "1. **Graph Construction**: In TensorFlow, computations are represented as a directed acyclic graph. Each node in the graph corresponds to an operation (e.g., addition, multiplication), and the edges represent the flow of data encapsulated as tensors. This graph-centric design allows for a high degree of parallelism and optimization by the underlying TensorFlow runtime.\n",
        "\n",
        "1. **Eager Execution**: Starting with TensorFlow 2.0, eager execution became the default mode. Eager execution means operations are immediately executed as soon as they are called, and the results can be retrieved without having to run a separate session. This mode simplifies the development process and improves debugging capabilities.\n",
        "\n",
        "1. **Graph Execution**: For more optimized execution, TensorFlow 2.0 still allows for graph execution. The computational graph is first compiled in this mode, and then the execution is optimized for the underlying hardware (like GPUs). This can lead to significant performance gains, especially in large-scale models."
      ]
    },
    {
      "cell_type": "code",
      "execution_count": null,
      "metadata": {},
      "outputs": [],
      "source": [
        "import numpy as np\n",
        "from tensorflow.keras.models import Sequential\n",
        "from tensorflow.keras.layers import Dense, ReLU\n",
        "from tensorflow.keras.optimizers import SGD\n",
        "import matplotlib.pyplot as plt\n",
        "\n",
        "# Generate synthetic data\n",
        "num_samples = 10000\n",
        "v_values = np.random.rand(num_samples, 1) * 10\n",
        "tau0_true = 5.0\n",
        "mu_true = 2.0\n",
        "y_true = tau0_true + mu_true * v_values\n",
        "\n",
        "# Bingham Neural Network model\n",
        "\n",
        "\n",
        "# Compile the model\n",
        "\n",
        "\n",
        "# Training the model\n",
        "\n",
        "\n",
        "# Evaluation\n",
        "v_eval = np.linspace(0, 10, 100).reshape(-1, 1)\n",
        "y_pred = model.predict(v_eval)\n",
        "y_true_eval = tau0_true + mu_true * v_eval\n",
        "\n",
        "# Plot\n",
        "plt.plot(v_eval, y_true_eval, 'r-', label='True')\n",
        "plt.plot(v_eval, y_pred, 'b.', label='Prediction')\n",
        "plt.ylim(0, None)\n",
        "plt.xlabel('v')\n",
        "plt.ylabel('Shear Stress')\n",
        "plt.legend()\n",
        "plt.show()"
      ]
    },
    {
      "cell_type": "markdown",
      "metadata": {
        "id": "Z5yTrDLd_9Dv"
      },
      "source": [
        "## Neural Network Example #2\n",
        "\n",
        "> Bingham with 3 input parameters ($\\dot{\\gamma}, \\tau_y, \\mu$)\n",
        "\n",
        "We now have three inputs ($\\dot{\\gamma}, \\tau_y, \\mu$) and predict the yield stress as the output. The main change other than the input is to define the network with 3 input layers:\n",
        "\n",
        "```python\n",
        "# Model\n",
        "model = nn.Sequential(\n",
        "    nn.Linear(3, 1),\n",
        "    nn.ReLU()\n",
        ")\n",
        "```"
      ]
    },
    {
      "cell_type": "code",
      "execution_count": null,
      "metadata": {
        "colab": {
          "base_uri": "https://localhost:8080/",
          "height": 449
        },
        "id": "3d3-OLtKMLEI",
        "outputId": "4cd8f7ee-afd4-4304-dc66-a7b82d59d86b"
      },
      "outputs": [],
      "source": [
        "# Generate data\n",
        "num_samples = 10000\n",
        "v_values = torch.rand(num_samples, 1) * 10\n",
        "tau0_values = torch.rand(num_samples, 1) * 10\n",
        "mu_values = torch.rand(num_samples, 1) * 5\n",
        "\n",
        "# Inputs\n",
        "inputs = torch.cat([v_values, tau0_values, mu_values], dim=1)\n",
        "\n",
        "# Targets\n",
        "y_true = tau0_values + mu_values * v_values\n",
        "\n",
        "# Model\n",
        "\n",
        "\n",
        "# Training\n",
        "loss_fn = nn.MSELoss()\n",
        "optimizer = optim.SGD(model.parameters(), lr=0.01)\n",
        "\n",
        "epochs = 5000\n",
        "for epoch in range(epochs):\n",
        "    y_pred = model(inputs)\n",
        "    loss = loss_fn(y_pred, y_true)\n",
        "\n",
        "    optimizer.zero_grad()\n",
        "    loss.backward()\n",
        "    optimizer.step()\n",
        "\n",
        "# Evaluation\n",
        "v_eval = torch.linspace(0, 10, 100).view(-1, 1)\n",
        "tau0_eval = 7 * torch.ones_like(v_eval)\n",
        "mu_eval = 3 * torch.ones_like(v_eval)\n",
        "\n",
        "inputs_eval = torch.cat([v_eval, tau0_eval, mu_eval], dim=1)\n",
        "\n",
        "y_pred = model(inputs_eval)\n",
        "y_true_eval = tau0_eval + mu_eval * v_eval\n",
        "\n",
        "# Plot\n",
        "plt.plot(v_eval.numpy(), y_true_eval.numpy(), 'r-', label='True')\n",
        "plt.plot(v_eval.numpy(), y_pred.detach().numpy(), 'b.', label='Predicted')\n",
        "\n",
        "plt.xlabel('v')\n",
        "plt.ylabel('Shear Stress')\n",
        "plt.legend()\n",
        "plt.show()"
      ]
    },
    {
      "cell_type": "markdown",
      "metadata": {
        "id": "IfLQI5QV-u0y"
      },
      "source": [
        "## Neural Network Example #3\n",
        "\n",
        "> A non-linear Herschel-Bulkley model\n",
        "\n",
        "Herschel-Bulkley model is a non-linear plastic model. We will try to fit the non-linear model by introducing additional hidden layer with 64 neurons. \n",
        "\n",
        "![Herschel Bulkley](herschel-bulkley.png)\n",
        "\n",
        "The PyTorch Neural Network requires four input parameters ($\\nu, k, \\dot{\\gamma}, \\tau_0)$ and two hidden layers. \n",
        "\n",
        "```python\n",
        "# Model\n",
        "model = nn.Sequential(\n",
        "   nn.Linear(4, 64),\n",
        "   nn.Tanh(),\n",
        "   nn.Linear(64,1)\n",
        ")\n",
        "```"
      ]
    },
    {
      "cell_type": "code",
      "execution_count": null,
      "metadata": {
        "colab": {
          "base_uri": "https://localhost:8080/",
          "height": 449
        },
        "id": "4T7LEYvQf3YN",
        "outputId": "8f7a0fa6-c897-4464-8133-b9cfb3c299b7"
      },
      "outputs": [],
      "source": [
        "import torch\n",
        "import torch.nn as nn\n",
        "import torch.optim as optim\n",
        "import matplotlib.pyplot as plt\n",
        "\n",
        "# Generate data\n",
        "num_samples = 10000\n",
        "v_values = torch.rand(num_samples, 1) * 10\n",
        "tau0_values = torch.rand(num_samples, 1) * 5\n",
        "k_values = torch.rand(num_samples, 1) * 2\n",
        "n_values = torch.rand(num_samples, 1) * 0.5 + 0.5 # 0.5 - 1.0\n",
        "\n",
        "# Inputs\n",
        "inputs = torch.cat([v_values, tau0_values, k_values, n_values], dim=1)\n",
        "\n",
        "# Targets\n",
        "y_true = tau0_values + k_values * (v_values**n_values)\n",
        "\n",
        "# Model\n",
        "\n",
        "\n",
        "# Training use Adam\n",
        "\n",
        "\n",
        "epochs = 5000\n",
        "for epoch in range(epochs):\n",
        "   y_pred = model(inputs)\n",
        "   loss = loss_fn(y_pred, y_true)\n",
        "\n",
        "   optimizer.zero_grad()\n",
        "   loss.backward()\n",
        "   optimizer.step()\n",
        "\n",
        "# Evaluation\n",
        "v_eval = torch.linspace(0, 10, 100).unsqueeze(1)\n",
        "tau0_eval = 5 * torch.ones_like(v_eval)\n",
        "k_eval = 2 * torch.ones_like(v_eval)\n",
        "n_eval = 0.7 * torch.ones_like(v_eval)\n",
        "\n",
        "inputs_eval = torch.cat([v_eval, tau0_eval, k_eval, n_eval], dim=1)\n",
        "y_pred = model(inputs_eval)\n",
        "\n",
        "y_true_eval = tau0_eval + k_eval * (v_eval**n_eval)\n",
        "\n",
        "# Plot\n",
        "plt.plot(v_eval.numpy(), y_true_eval.numpy(), 'r-', label='True')\n",
        "plt.plot(v_eval.numpy(), y_pred.detach().numpy(), 'b.', label='Predicted')\n",
        "plt.xlabel('Shear Rate')\n",
        "plt.ylabel('Shear Stress')\n",
        "plt.legend()\n",
        "plt.show()"
      ]
    },
    {
      "cell_type": "markdown",
      "metadata": {},
      "source": [
        "Hyperparameters are values that we set before beginning the training process. They guide the learning process and differ from model parameters, which are learned from the training data. Below are some key hyperparameters:\n",
        "\n",
        "1. **Learning Rate**: This hyperparameter controls the step size when updating the model's weights. If you set it too low, the model converges slowly. If you set it too high, the learning process might diverge.\n",
        "\n",
        "1. **Batch Size**: This defines the number of training examples you use in one iteration to update the model's weights. A smaller batch size typically leads to a regularizing effect and lower generalization error, while a larger batch size results in faster training but may converge to a suboptimal solution.\n",
        "\n",
        "1. **Number of Epochs**: You set the number of epochs to define how many times the learning algorithm will work through the entire training dataset. An epoch is a full pass through all training samples.\n",
        "\n",
        "1. **Regularization Parameters**: If you apply regularization techniques like L1 or L2, you must set the strength of the penalty as a hyperparameter. Regularization adds penalties to the model parameters to prevent overfitting.\n",
        "\n",
        "1. **Optimization Algorithm**: You choose the optimization algorithm (e.g., SGD, Adam, RMSProp) and its specific parameters (e.g., momentum) as hyperparameters.\n",
        "\n",
        "1. **Network Architecture**: The structure of the neural network, including the number of hidden layers, the number of units in each layer, the activation functions, etc., is determined by hyperparameters that you set.\n",
        "\n",
        "1. **Initialization**: You decide how to set the model's weights before training, significantly affecting learning. Choices like Xavier or He initialization have corresponding hyperparameters you must set.\n",
        "\n",
        "1. **Early Stopping**: You can also set parameters related to when to stop training, such as if the validation error stops improving. These choices are considered hyperparameters.\n",
        "\n",
        "Hyperparameters play a vital role in the behavior and performance of a learning algorithm. Finding the best set of hyperparameters, a process called hyperparameter tuning or optimization is essential in training an effective model. Methods for hyperparameter tuning include grid search, random search, Bayesian optimization, and others."
      ]
    },
    {
      "cell_type": "markdown",
      "metadata": {},
      "source": [
        "> 💡 Try to change the hyperparameters (learning rate, number of layers in the neural network and activation function) to reduce the error."
      ]
    },
    {
      "cell_type": "markdown",
      "metadata": {},
      "source": [
        "> 📖 Reading Activity: [Do ML models memorize or generalize?](https://pair.withgoogle.com/explorables/grokking/)"
      ]
    }
  ],
  "metadata": {
    "accelerator": "GPU",
    "colab": {
      "gpuType": "T4",
      "provenance": [],
      "toc_visible": true
    },
    "kernelspec": {
      "display_name": "Python 3",
      "name": "python3"
    },
    "language_info": {
      "codemirror_mode": {
        "name": "ipython",
        "version": 3
      },
      "file_extension": ".py",
      "mimetype": "text/x-python",
      "name": "python",
      "nbconvert_exporter": "python",
      "pygments_lexer": "ipython3",
      "version": "3.11.4"
    }
  },
  "nbformat": 4,
  "nbformat_minor": 0
}
