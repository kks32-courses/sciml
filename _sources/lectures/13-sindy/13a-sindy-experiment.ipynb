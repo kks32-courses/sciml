{
  "cells": [
    {
      "cell_type": "markdown",
      "metadata": {
        "id": "xjCQrk9oXwt-"
      },
      "source": [
        "# 13a: Discovering equation from experimental data using SINDy"
      ]
    },
    {
      "cell_type": "markdown",
      "metadata": {},
      "source": [
        "**Solution:** [![Open in Colab](https://colab.research.google.com/assets/colab-badge.svg)](https://colab.research.google.com/github/kks32-courses/sciml/blob/main/lectures/13-sindy/13a-sindy-experiment.ipynb)"
      ]
    },
    {
      "cell_type": "markdown",
      "metadata": {
        "id": "_V31xNaIX4DH"
      },
      "source": [
        "In this project, we want to discover a system of ordinary differential equations that describes the trajectory of the paint can in this video:"
      ]
    },
    {
      "cell_type": "code",
      "execution_count": 8,
      "metadata": {
        "colab": {
          "base_uri": "https://localhost:8080/"
        },
        "id": "WulAT8f6JUfo",
        "outputId": "439c1769-98e6-47bb-a111-391c820d181d"
      },
      "outputs": [
        {
          "name": "stdout",
          "output_type": "stream",
          "text": [
            "\u001b[?25l     \u001b[90m━━━━━━━━━━━━━━━━━━━━━━━━━━━━━━━━━━━━━━━━\u001b[0m \u001b[32m0.0/121.0 kB\u001b[0m \u001b[31m?\u001b[0m eta \u001b[36m-:--:--\u001b[0m\r\u001b[2K     \u001b[90m━━━━━━━━━━━━━━━━━━━━━━━━━━━━━━━━━━━━━━━━\u001b[0m \u001b[32m121.0/121.0 kB\u001b[0m \u001b[31m3.5 MB/s\u001b[0m eta \u001b[36m0:00:00\u001b[0m\n",
            "\u001b[?25h"
          ]
        }
      ],
      "source": [
        "!pip3 install pysindy --quiet"
      ]
    },
    {
      "cell_type": "code",
      "execution_count": 12,
      "metadata": {
        "colab": {
          "base_uri": "https://localhost:8080/"
        },
        "id": "5DL69JNfYLuX",
        "outputId": "65ec15d8-dacb-42f5-f82d-dac069126b78"
      },
      "outputs": [
        {
          "name": "stdout",
          "output_type": "stream",
          "text": [
            "--2023-11-27 01:25:33--  https://github.com/kks32-courses/sciml/raw/main/lectures/13-sindy/damped_oscillator_900.mp4\n",
            "Resolving github.com (github.com)... 192.30.255.112\n",
            "Connecting to github.com (github.com)|192.30.255.112|:443... connected.\n",
            "HTTP request sent, awaiting response... 302 Found\n",
            "Location: https://raw.githubusercontent.com/kks32-courses/sciml/main/lectures/13-sindy/damped_oscillator_900.mp4 [following]\n",
            "--2023-11-27 01:25:33--  https://raw.githubusercontent.com/kks32-courses/sciml/main/lectures/13-sindy/damped_oscillator_900.mp4\n",
            "Resolving raw.githubusercontent.com (raw.githubusercontent.com)... 185.199.108.133, 185.199.109.133, 185.199.110.133, ...\n",
            "Connecting to raw.githubusercontent.com (raw.githubusercontent.com)|185.199.108.133|:443... connected.\n",
            "HTTP request sent, awaiting response... 200 OK\n",
            "Length: 19025164 (18M) [application/octet-stream]\n",
            "Saving to: ‘damped_oscillator_900.mp4.1’\n",
            "\n",
            "damped_oscillator_9 100%[===================>]  18.14M  --.-KB/s    in 0.1s    \n",
            "\n",
            "2023-11-27 01:25:33 (161 MB/s) - ‘damped_oscillator_900.mp4.1’ saved [19025164/19025164]\n",
            "\n"
          ]
        }
      ],
      "source": [
        "!wget https://github.com/kks32-courses/sciml/raw/main/lectures/13-sindy/damped_oscillator_900.mp4"
      ]
    },
    {
      "cell_type": "markdown",
      "metadata": {
        "id": "kUEBPhpOYijU"
      },
      "source": [
        "Our first task is to collect data points for our experiment — in this case our data points represent the position of the paint can over time. We could have taken many different approaches in the representation of this data. In this project our data $U$ consists of the (x, y) coordinates of the center of the paint can over the 425 frames in the video, so the shape of $U$ is 425 × 2. We gathered this information by using the CSRT Tracker found in the OpenCV package:"
      ]
    },
    {
      "cell_type": "code",
      "execution_count": 13,
      "metadata": {
        "colab": {
          "base_uri": "https://localhost:8080/",
          "height": 521
        },
        "id": "nf-6zco7ZDxk",
        "outputId": "f2542de8-c81a-4a2b-be66-f5302236f212"
      },
      "outputs": [
        {
          "data": {
            "text/html": [
              "\n",
              "<video width=\"640\" height=\"480\" controls>\n",
              "  <source src=\"https://github.com/kks32-courses/sciml/raw/main/lectures/13-sindy/damped_oscillator_900.mp4\" type=\"video/mp4\">\n",
              "</video>\n"
            ],
            "text/plain": [
              "<IPython.core.display.HTML object>"
            ]
          },
          "execution_count": 13,
          "metadata": {},
          "output_type": "execute_result"
        }
      ],
      "source": [
        "from IPython.display import HTML\n",
        "\n",
        "# Replace the URL below with your raw GitHub video URL\n",
        "video_url = \"https://github.com/kks32-courses/sciml/raw/main/lectures/13-sindy/damped_oscillator_900.mp4\"\n",
        "\n",
        "HTML(f\"\"\"\n",
        "<video width=\"640\" height=\"480\" controls>\n",
        "  <source src=\"{video_url}\" type=\"video/mp4\">\n",
        "</video>\n",
        "\"\"\")\n"
      ]
    },
    {
      "cell_type": "code",
      "execution_count": 1,
      "metadata": {
        "id": "Zl0sB2sgHd-O"
      },
      "outputs": [],
      "source": [
        "\"\"\"Utilities related to video.\"\"\"\n",
        "\n",
        "import logging\n",
        "from typing import Tuple\n",
        "\n",
        "import cv2\n",
        "import numpy as np\n",
        "from tqdm import tqdm\n",
        "\n",
        "\n",
        "def track_object(input_file_path: str, bbox: Tuple[int],\n",
        "                 output_file_path: str) -> np.ndarray:\n",
        "    \"\"\"\n",
        "    Tracks an object in a video defined by the bounding box passed\n",
        "    as a parameter. Saves an output video showing the bounding box found.\n",
        "    Returns an ndarray of shape (frames, 2) containing the\n",
        "    (x, y) center of the bounding box in each frame.\n",
        "    \"\"\"\n",
        "    logging.info(\"Tracking object.\")\n",
        "\n",
        "    # Open video.\n",
        "    capture = cv2.VideoCapture(input_file_path)\n",
        "    if not capture.isOpened():\n",
        "        raise Exception(f\"Could not open video: {input_file_path}.\")\n",
        "\n",
        "    # Define tracker.\n",
        "    tracker = cv2.TrackerCSRT_create()\n",
        "\n",
        "    # Get the codec for an AVI file.\n",
        "    fourcc = cv2.VideoWriter_fourcc(*\"XVID\")\n",
        "\n",
        "    # Read each frame of the video, gather centers of all bounding boxes, and\n",
        "    # save video showing those bounding boxes.\n",
        "    color = (0, 0, 255)\n",
        "    writer = None\n",
        "    centers = []\n",
        "    frame_count = int(capture.get(cv2.CAP_PROP_FRAME_COUNT))\n",
        "    for i in tqdm(range(frame_count)):\n",
        "        (ok, frame) = capture.read()\n",
        "        if not ok:\n",
        "            raise Exception(f\"Cannot read video frame {i}.\")\n",
        "\n",
        "        if i == 0:\n",
        "            # Uncomment this to select a bounding box interactively.\n",
        "            # bbox = cv2.selectROI(\"Frame\",\n",
        "            #                      frame,\n",
        "            #                      fromCenter=False,\n",
        "            #                      showCrosshair=True)\n",
        "            tracker.init(frame, bbox)\n",
        "            writer = cv2.VideoWriter(output_file_path,\n",
        "                                     fourcc,\n",
        "                                     fps=30.0,\n",
        "                                     frameSize=(frame.shape[1], frame.shape[0]))\n",
        "        else:\n",
        "            (ok, bbox) = tracker.update(frame)\n",
        "            if not ok:\n",
        "                raise Exception(f\"Could not track object in frame {i}.\")\n",
        "        center = (bbox[0] + bbox[2] / 2, bbox[1] + bbox[3] / 2)\n",
        "        centers.append(center)\n",
        "\n",
        "        # Color the bounding box and center of an output video frame.\n",
        "        x = int(center[0])\n",
        "        y = int(center[1])\n",
        "        fill_rectangle(frame, (x - 2, y, 2, 5, 5), color)\n",
        "        outline_rectangle(frame, bbox, color)\n",
        "        writer.write(frame)\n",
        "\n",
        "    capture.release()\n",
        "    writer.release()\n",
        "\n",
        "    return np.asarray(centers)\n",
        "\n",
        "\n",
        "def fill_rectangle(frame: np.ndarray, bbox: Tuple[int],\n",
        "                   color: Tuple[int]) -> None:\n",
        "    \"\"\"Draws a filled rectangle with the specified bounding box and color\n",
        "    on the frame.\n",
        "    \"\"\"\n",
        "    for x in range(bbox[0], bbox[0] + bbox[2]):\n",
        "        for y in range(bbox[1], bbox[1] + bbox[3]):\n",
        "            set_color(frame, y, x, color)\n",
        "\n",
        "\n",
        "def outline_rectangle(frame: np.ndarray, bbox: Tuple[int],\n",
        "                      color: Tuple[int]) -> None:\n",
        "    \"\"\"Draws the outline of a rectangle with the specified bounding box and\n",
        "    color on the frame.\n",
        "    \"\"\"\n",
        "    for x in range(bbox[0], bbox[0] + bbox[2]):\n",
        "        set_color(frame, bbox[1], x, color)\n",
        "        set_color(frame, bbox[1] + bbox[3] - 1, x, color)\n",
        "\n",
        "    for y in range(bbox[1], bbox[1] + bbox[3]):\n",
        "        set_color(frame, y, bbox[0], color)\n",
        "        set_color(frame, y, bbox[0] + bbox[2] - 1, color)\n",
        "\n",
        "\n",
        "def set_color(frame: np.ndarray, x: int, y: int, color: Tuple[int]) -> None:\n",
        "    \"\"\"Sets the pixel at position (x, y) on the frame to the specified color.\n",
        "    \"\"\"\n",
        "    frame[x, y, :] = np.asarray(color)\n"
      ]
    },
    {
      "cell_type": "markdown",
      "metadata": {
        "id": "LsKZSJlOYszC"
      },
      "source": [
        "\n",
        "In the code above, the first parameter passed to the function is the path to the input video file, which we’ll open using OpenCV’s VideoCapture(...) function. We also receive the coordinates of the bounding box of the paint can in the first frame of the input video, in format (left, top, width, height). Then for each frame of the input video, we read it, get the bounding box for the paint can in that frame, calculate its center, and append the center to the centers list. In addition, we also receive as parameter a path to where we’ll save an output video file. This file contains the input video with the tracker findings overlayed on top of it: a red outline representing the bounding box around the paint can, and a red dot in its center. The (x, y) coordinates of the center dots over time make up our data matrix $U$, which we return in the end."
      ]
    },
    {
      "cell_type": "markdown",
      "metadata": {
        "id": "hirjPjxxZPQV"
      },
      "source": [
        "You may be wondering how you can figure out the bounding box of the paint can in the first frame. How did I come up with the coordinates (269, 433, 378, 464) in the code above? If you have access to Adobe Creative Cloud, you can open the video in Adobe Premiere Pro, export its first frame, open it in Adobe Photoshop, and get the coordinates for the top left corner, width and height. Otherwise, you can get the coordinates interactively through code. I left the code that provides this functionality in the project, commented out, in case you’d like to follow this approach in your project:\n"
      ]
    },
    {
      "cell_type": "code",
      "execution_count": 2,
      "metadata": {
        "id": "TG0faR8RHj8-"
      },
      "outputs": [],
      "source": [
        "\"\"\"Utilities related to graphing.\"\"\"\n",
        "\n",
        "import matplotlib.pyplot as plt\n",
        "import numpy as np\n",
        "\n",
        "\n",
        "def style_axis2d(ax, xlabel: str, ylabel: str):\n",
        "    \"\"\"Styles a 2D graph.\n",
        "    \"\"\"\n",
        "    very_light_gray = \"#efefef\"\n",
        "    light_gray = \"#999999\"\n",
        "    dark_gray = \"#444444\"\n",
        "\n",
        "    ax.set_xlabel(xlabel, {\"color\": dark_gray})\n",
        "    ax.set_ylabel(ylabel, {\"color\": dark_gray})\n",
        "    ax.set_title(ax.get_title(), {\"color\": dark_gray})\n",
        "    ax.tick_params(axis=\"x\", colors=light_gray)\n",
        "    ax.tick_params(axis=\"y\", colors=light_gray)\n",
        "    ax.set_facecolor(very_light_gray)\n",
        "    for spine in ax.spines.values():\n",
        "        spine.set_edgecolor(light_gray)\n",
        "\n",
        "\n",
        "def graph_result(u: np.ndarray, u_approximation_x: np.ndarray,\n",
        "                 u_approximation_y: np.ndarray, t: np.ndarray) -> None:\n",
        "    \"\"\"Graphs y(t).\n",
        "    \"\"\"\n",
        "    orange = \"#EF6C00\"\n",
        "    teal = \"#007b96\"\n",
        "\n",
        "    fig = plt.figure(figsize=plt.figaspect(1))\n",
        "    ax1 = fig.add_subplot(2, 1, 1)\n",
        "    ax2 = fig.add_subplot(2, 1, 2, sharex=ax1, sharey=ax1)\n",
        "    fig.tight_layout(pad=3)\n",
        "\n",
        "    ax1.plot(t[:], u[:, 0], color=orange, linewidth=0.4)\n",
        "    ax1.plot(t[:], u_approximation_x[:, 0], color=teal, linewidth=0.4)\n",
        "    ax1.set_title(\"x(t)\")\n",
        "    style_axis2d(ax1, \"t\", \"x\")\n",
        "    ax1.legend(labels=[\"Original trajectory\", \"SINDy approximation\"],\n",
        "               fontsize=8)\n",
        "\n",
        "    ax2.plot(t[:], u[:, 1], color=orange, linewidth=0.4)\n",
        "    ax2.plot(t[:], u_approximation_y[:, 0], color=teal, linewidth=0.4)\n",
        "    ax2.set_title(\"y(t)\")\n",
        "    style_axis2d(ax2, \"t\", \"y\")\n",
        "    ax2.legend(labels=[\"Original trajectory\", \"SINDy approximation\"],\n",
        "               fontsize=8)\n",
        "\n",
        "    plt.show()"
      ]
    },
    {
      "cell_type": "code",
      "execution_count": 3,
      "metadata": {
        "id": "HTLnv_tqHons"
      },
      "outputs": [],
      "source": [
        "# Constants used in the Sequential Thresholded Least-Squares algorithm.\n",
        "THRESHOLD = 0.001\n",
        "MAX_ITERATIONS = 100"
      ]
    },
    {
      "cell_type": "code",
      "execution_count": 5,
      "metadata": {
        "colab": {
          "base_uri": "https://localhost:8080/"
        },
        "id": "lRbulRulHtLz",
        "outputId": "aee76553-3eb5-4045-80ad-ad52b9965192"
      },
      "outputs": [
        {
          "name": "stderr",
          "output_type": "stream",
          "text": [
            "100%|██████████| 425/425 [01:20<00:00,  5.26it/s]\n"
          ]
        }
      ],
      "source": [
        "input_file_name = \"damped_oscillator_900.mp4\"\n",
        "bbox = (269, 433, 378, 464)\n",
        "output_file_name = \"damped_oscillator_900_tracked.avi\"\n",
        "u = track_object(input_file_name, bbox, output_file_name)\n",
        "t = np.arange(stop=u.shape[0])"
      ]
    },
    {
      "cell_type": "markdown",
      "metadata": {
        "id": "iMgmCPgHZaqd"
      },
      "source": [
        "And that’s all there is to it. We have our data $U$ and the corresponding timestamps $t$. We won’t calculate derivatives in this step — instead, we’ll have PySINDy calculate them in the fitting step. We’re now ready to use PySINDy to get a system of ordinary differential equations that describes the motion of the paint can."
      ]
    },
    {
      "cell_type": "markdown",
      "metadata": {
        "id": "h0hvj_MEZi28"
      },
      "source": [
        "## Fitting using PySINDy\n",
        "\n",
        "If you try to ask PySINDy for a model by simply giving it all the data collected in the previous section, you won’t get great results. Machine learning is a powerful tool, but you still have to think and use good judgement. We may not know the exact equations of the movement, but we can use basic knowledge of ordinary differential equations to make some guesses that will help guide PySINDy in the right direction.\n",
        "\n",
        "Let’s first consider the vertical movement of the paint can. This movement resembles that of the well-studied damped harmonic oscillator, which can be represented by the following second-order linear equation:\n",
        "\n",
        "$$\n",
        "\\ddot{y} + \\frac{b}{m}\\dot{y} + \\frac{k}{m}y = 0\n",
        "$$\n",
        "\n",
        "So, we can make an informed guess that our vertical coordinate $y$ will have strong similarities to this equation. However, the equation above is second-order, and PySINDy is only capable of discovering the function $f$ on the right-hand-side of first-order systems of the form:\n",
        "\n",
        "$$\\dot{u} = f(u)$$\n",
        "\n",
        "Therefore, in order to make use of our assumption, we need to first turn the second-order damped harmonic oscillator equation into a system of two first-order equations. We can do that with the aid of two new variables, $y_1$ and $y_2$ , that correspond to the following:\n",
        "\n",
        "$$\n",
        "\\begin{align*}\n",
        "y_1 &= y \\\\\n",
        "y_2 &= \\dot{y}\n",
        "\\end{align*}\n",
        "$$\n",
        "\n",
        "The equation can then be re-written as the following system:\n",
        "\n",
        "\n",
        "$$\n",
        "\\begin{align*}\n",
        "\\dot{y_1} &= y_2 \\\\\n",
        "y_2 &= -\\frac{b}{m}y_2 - \\frac{k}{m}y_1\n",
        "\\end{align*}\n",
        "$$\n",
        "\n",
        "This is great information to have, because we now know that the vertical movement most likely needs two coordinates to be represented as a system of first-order equations: one of them being the $y$ coordinate that was recorded by the tracker, and the other one being its derivative. And we can pass along this information to PySINDy, as we’ll see later.\n",
        "\n",
        "Now let’s consider the horizontal movement of the paint can. This time the movement resembles a pendulum, and we also have a well-studied ordinary differential equation that represents that trajectory. However, the movement is so slight that the damped harmonic oscillator equation is probably a good enough approximation for our purposes. It’s also much simpler than the pendulum equation, which would require a change of variables (great topic for a future post). Therefore, we’ll use the exact same technique to help PySINDy understand the horizontal movement: we’ll assume that it needs two coordinates, one of them being the $x$ coordinate recorded by the tracker, and the other one being its derivative.\n",
        "\n",
        "You could try giving PySINDy data for these four coordinates, but I found that I get better results if I treat the horizontal and vertical movements as independent. As you can see in the code below, I create two independent PySINDy models, one for the horizontal movement, and another for the vertical movement:\n"
      ]
    },
    {
      "cell_type": "code",
      "execution_count": 9,
      "metadata": {
        "id": "AKREZdPTILq6"
      },
      "outputs": [],
      "source": [
        "from typing import Tuple\n",
        "\n",
        "import pysindy as ps\n",
        "# pylint: disable=unused-import\n",
        "from pysindy.differentiation import FiniteDifference, SINDyDerivative\n",
        "from pysindy.optimizers import STLSQ\n",
        "\n",
        "\n",
        "def fit(u: np.ndarray,\n",
        "        t: np.ndarray) -> Tuple[ps.SINDy, ps.SINDy, np.ndarray, np.ndarray]:\n",
        "    \"\"\"Uses PySINDy to find the equation that best fits the data u.\n",
        "    \"\"\"\n",
        "    optimizer = STLSQ(threshold=THRESHOLD, max_iter=MAX_ITERATIONS)\n",
        "\n",
        "    differentiation_method = FiniteDifference()\n",
        "    # pylint: disable=protected-access\n",
        "    udot = differentiation_method._differentiate(u, t)\n",
        "\n",
        "    # Get a model for the movement in x.\n",
        "    logging.info(\"Model for x\")\n",
        "    x = u[:, 0:1]\n",
        "    xdot = udot[:, 0:1]\n",
        "    datax = np.hstack((x, xdot))\n",
        "    modelx = ps.SINDy(optimizer=optimizer,\n",
        "                      differentiation_method=differentiation_method,\n",
        "                      feature_names=[\"x\", \"xdot\"],\n",
        "                      discrete_time=False)\n",
        "    modelx.fit(datax, t=t, ensemble=True)\n",
        "    modelx.print()\n",
        "    logging.info(\"coefficients: %s\", modelx.coefficients().T)\n",
        "\n",
        "    # Get a model for the movement in y.\n",
        "    logging.info(\"Model for y\")\n",
        "    y = u[:, 1:2]\n",
        "    ydot = udot[:, 1:2]\n",
        "    datay = np.hstack((y, ydot))\n",
        "    modely = ps.SINDy(optimizer=optimizer,\n",
        "                      differentiation_method=differentiation_method,\n",
        "                      feature_names=[\"y\", \"ydot\"],\n",
        "                      discrete_time=False)\n",
        "    modely.fit(datay, t=t, ensemble=True)\n",
        "    modely.print()\n",
        "    logging.info(\"coefficients: %s\", modely.coefficients().T)\n",
        "\n",
        "    return (modelx, modely, xdot, ydot)"
      ]
    },
    {
      "cell_type": "markdown",
      "metadata": {
        "id": "ygzvUqT0aZ6m"
      },
      "source": [
        "Notice that I give each model two coordinates, one with spatial measurements gathered by the tracker and another with its derivatives (calculated using the Finite Differences method). Notice also that I choose the Sequential Thresholded Least-Squares (STLSQ) method to find a sparse set of candidate functions."
      ]
    },
    {
      "cell_type": "code",
      "execution_count": 10,
      "metadata": {
        "colab": {
          "base_uri": "https://localhost:8080/"
        },
        "id": "WCZ7N5jUIgYs",
        "outputId": "316b1176-6fa4-41ca-c099-0d5f6ad4cded"
      },
      "outputs": [
        {
          "name": "stdout",
          "output_type": "stream",
          "text": [
            "(x)' = 1.000 xdot\n",
            "(xdot)' = 6.399 1 + -0.015 x + -0.008 xdot + 0.005 xdot^2\n",
            "(y)' = 1.000 ydot\n",
            "(ydot)' = 17.371 1 + -0.041 y + -0.011 ydot + 0.001 ydot^2\n"
          ]
        }
      ],
      "source": [
        "(modelx, modely, xdot, ydot) = fit(u, t)"
      ]
    },
    {
      "cell_type": "markdown",
      "metadata": {
        "id": "ASG9T8u9abtx"
      },
      "source": [
        "We discovered systems of ordinary differential equations for both types of movement! But can they predict the trajectory of a bouncing paint can? Let’s take a look in the next section."
      ]
    },
    {
      "cell_type": "markdown",
      "metadata": {
        "id": "Jlh56vVjam20"
      },
      "source": [
        "## Prediction of trajectory\n",
        "\n",
        "In this section, we’ll use the two models to predict trajectories for the horizontal and vertical movements of the paint can. In order to get a trajectory, we need to specify initial conditions for our coordinates $x$, $\\dot{x}$, $y$, and $\\dot{y}$. We also need a list of timestamps, which determines the length of the trajectory. We chose the same initial conditions and length as the original trajectory we tracked, so that we can better compare them. Then we can simply call the `simulate(...)` function from the model to get the predicted trajectory.  Let’s visualize our predicted trajectory for and , and compare it with the original:"
      ]
    },
    {
      "cell_type": "code",
      "execution_count": 11,
      "metadata": {
        "colab": {
          "base_uri": "https://localhost:8080/",
          "height": 470
        },
        "id": "zQ5nrcnLJc3n",
        "outputId": "a2f0e3d8-f62d-4e1b-c1b6-6e20cdc20d6a"
      },
      "outputs": [
        {
          "data": {
            "image/png": "[encoded data removed]",
            "text/plain": [
              "<Figure size 480x480 with 2 Axes>"
            ]
          },
          "metadata": {},
          "output_type": "display_data"
        }
      ],
      "source": [
        "u0x = np.array([u[0, 0], xdot[0, 0]])\n",
        "u_approximation_x = modelx.simulate(u0x, t)\n",
        "\n",
        "u0y = np.array([u[0, 1], ydot[0, 0]])\n",
        "u_approximation_y = modely.simulate(u0y, t)\n",
        "\n",
        "graph_result(u, u_approximation_x, u_approximation_y, t)"
      ]
    }
  ],
  "metadata": {
    "colab": {
      "provenance": []
    },
    "kernelspec": {
      "display_name": "Python 3",
      "name": "python3"
    },
    "language_info": {
      "name": "python"
    }
  },
  "nbformat": 4,
  "nbformat_minor": 0
}
