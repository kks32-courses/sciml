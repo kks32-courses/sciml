{
 "cells": [
  {
   "cell_type": "markdown",
   "metadata": {
    "lines_to_next_cell": 0
   },
   "source": [
    "# 13: Sparse Identification of Nonlinear Dynamical systems (SINDy)"
   ]
  },
  {
   "cell_type": "markdown",
   "metadata": {},
   "source": [
    "**Exercise:** [![Open in Colab](https://colab.research.google.com/assets/colab-badge.svg)](https://colab.research.google.com/github/kks32-courses/sciml/blob/main/lectures/13-sindy/13-sindy-exercise.ipynb)\n",
    "**Solution:** [![Open in Colab](https://colab.research.google.com/assets/colab-badge.svg)](https://colab.research.google.com/github/kks32-courses/sciml/blob/main/lectures/13-sindy/13-sindy.ipynb)"
   ]
  },
  {
   "cell_type": "code",
   "execution_count": null,
   "metadata": {},
   "outputs": [],
   "source": [
    "!pip3 install pysindy --quiet"
   ]
  },
  {
   "cell_type": "markdown",
   "metadata": {
    "lines_to_next_cell": 0
   },
   "source": [
    "## Main ideas\n",
    "\n",
    "SINDy aims to learn nonlinear dynamical systems from data. Suppose we have a set of measurements $u(t)\\in \\mathbb{R}^n$ from some physical system at different points in time $t$. SINDy seeks to represent the time evolution of $u(t)$ in terms of a nonlinear function $f$:\n",
    "\n",
    "$$ \\frac{d}{dt}u(t) = f(x(t)). $$\n",
    "\n",
    "This equation constitutes a *dynamical system* for the measurements $u(t)$. The vector $u(t)=[u_1(t), u_2(t), \\dots u_n(t)]^\\top$ gives the state of the physical system at time $t$. The function $f(u(t))$ constrains how the system evolves in time. \n",
    "\n",
    "We suppose that $f(u(t))$ is a weighted sum of nonlinear terms, and our goal is to discover which terms make up $f$, and their corresponding weights. \n",
    "\n",
    "The key idea behind SINDy is that the function $f$ is often **sparse** in the space (with few terms) of an appropriate set of basis functions, and we can find its terms by enforcing sparsity while performing linear regression. It’s a simple and powerful idea, which we’ll explore in detail. For example, the function\n",
    "\n",
    "$$\n",
    "\t\\frac{d}{dt}u = f(u)\n",
    "\t= \\begin{bmatrix} f_1(u)\\\\f_2(u) \\end{bmatrix}\n",
    "\t= \\begin{bmatrix}1 - u_1 + 3u_1u_2 \\\\ u_2^2 - 5u_1^3 \\end{bmatrix}\n",
    "$$\n",
    "\n",
    "is sparse with respect to the set of polynomials of two variables in the sense that if we were to write an expansion of the component functions of $f$ in this basis (e.g. $f_{1}(u) = \\sum_{i=0}^\\infty\\sum_{j=0}^\\infty a_{i,j}u_1^iu_2^j$), only a small number of coefficients ($a_{i,j}$) would be nonzero.\n",
    "\n",
    "SINDy employs **sparse regression** to find a linear combination of basis functions that best capture the dynamic behavior of the physical system."
   ]
  },
  {
   "cell_type": "markdown",
   "metadata": {},
   "source": [
    "## Linear regression\n",
    "\n",
    "We’ll take a brief look at linear regression in this section.\n",
    "\n",
    "The goal of linear regression is to model the relationship between two variables, an $n$-dimensional independent variable and a scalar-valued dependent variable, using a linear equation to relate the two. In machine learning, typically, the $n$-dimensional independent variable consists of the data point’s features, and the scalar-valued dependent variable holds the corresponding target value.\n",
    "\n",
    "Let’s look at the equation that describes the linear relationship that we would like to establish between these two variables:\n",
    "\n",
    "$$y = b + X \\omega$$\n",
    "\n",
    "We’ll assume that we have $m$ data points, each with $n$ features, forming the $m \\times n$ matrix $X$. We also have a vector $y$ of size $m \\times 1$ containing a target associated with each data point. In general, it's impossible to satisfy the above equation exactly. Instead, our goal is to find coefficents for the weight vector $w$ and bias $b$ such that the right-hand-side of the equation (let's call that $\\hat{y}$) comes as close as possible to the target $y$. Here, the weight vector $w$ has a size $n \\times 1$, the bias vector $b$ is of size $m \\times 1$ where the constant bias is repeated $m$ times. \n",
    "\n",
    "Visually, if our data points have just one feature (so $X$ has one column), we can think of linear regression as finding a line in 2D that comes closest to passing through all the points $(x_i, y_i)$, where $x_i$ is a row of $X$, and $y_i$ corresponds to the target value. In the diagram below, the orange dots show the target values $y$, and the gray dots show the predictions $\\hat{y}$.\n",
    "\n",
    "![regression](regression.png)"
   ]
  },
  {
   "cell_type": "markdown",
   "metadata": {},
   "source": [
    "If our data points were two-dimensional, then we would be finding a plane instead of a line. And if they were $n$-dimensional, we would be finding a hyperplane.\n",
    "\n",
    "In the context of machine learning, it’s common to write the relationship between $X$ and $y$ by incorporating $b$ into the rest of the equation, which avoids the repetition of the constant bias:\n",
    "\n",
    "$$y = X \\xi$$\n",
    "\n",
    "In this equation, $X$ now has size $m \\times (n+1)$, where the entries in the first column are all 1. The unknown vector is now $\\xi$, of size $(n + 1) \\times 1$, because it contains the value of the constant bias in the first row followed by the values of $w$. The vector $y$ has the same size as before, $m \\times 1$, as expected.\n",
    "\n",
    "In the equation above, the target values $y$ and the features $X$ are known, so our goal is to find the vector $\\xi$ that makes the right-hand-side of the equation best approximate the left-hand-side. Problems of this kind are often solved directly using least-squares techniques (like the normal equation), which aim to minimize the square of the distance between the predicted values $\\hat{y}$ and target values $y$ — in other words, they minimize the sum of the lengths of the vertical lines in the diagram above. Problems of this kind can also be solved using iterative optimization methods, such as gradient descent, which grant us more freedom in our approach.\n",
    "\n",
    "Often our goal is not just to get the best $\\xi$ — we want the best $\\xi$ that is also sparse. Sparsity is a desirable feature in general, and we’ll see later why sparsity is super important in the SINDy scenario in particular. It turns out that there are also several algorithms that help us solve the equation above with sparsity — for example, LASSO (Least Absolute Shrinkage and Selection Operator) is a popular method."
   ]
  },
  {
   "cell_type": "markdown",
   "metadata": {
    "lines_to_next_cell": 0
   },
   "source": [
    "## Approximation problem\n",
    "To apply SINDy in practice one needs a set of measurement data collected at times $t_1, t_2, \\dots, t_n$, and the time derivatives of these measurements (either measured directly or numerically approximated). These data are aggregated into the matrices $U$ and $\\dot U$, respectively\n",
    "\n",
    "$$\n",
    "\tU = \\begin{bmatrix}\n",
    "\t\tu_1(t_1) & u_2(t_1) & \\dots & u_n(t_1) \\\\\n",
    "\t\tu_1(t_2) & u_2(t_2) & \\dots & u_n(t_2) \\\\\n",
    "\t\t\\vdots & \\vdots & & \\vdots \\\\ u_1(t_m) & u_2(t_m) & \\dots & u_n(t_m)\n",
    "\t\\end{bmatrix},\n",
    "\t\\qquad\n",
    "\t\\dot{U} = \\begin{bmatrix} \\dot{u_1}(t_1) & \\dot{u_2}(t_1) & \\dots & \\dot{u_n}(t_1) \\\\\n",
    "\t\t\\dot{u_1}(t_2) & \\dot{u_2}(t_2) & \\dots & \\dot{u_n}(t_2) \\\\\n",
    "\t\t\\vdots & \\vdots & & \\vdots \\\\\n",
    "\t\t\\dot{u_1}(t_m) & \\dot{u_2}(t_m) & \\dots & \\dot{u_n}(t_m)\n",
    "\t\\end{bmatrix}.\n",
    "$$\n",
    "\n",
    "Next, one forms a library matrix $\\Theta(U)$ whose columns consist of a chosen set of basis functions applied to the data\n",
    "\n",
    "$$\n",
    "\t\\Theta(U) = \\begin{bmatrix}\n",
    "\t\t\\mid & \\mid & & \\mid \\\\\n",
    "\t\t\\theta_1(U) & \\theta_2(U) & \\dots & \\theta_\\ell(U) \\\\\n",
    "\t\t\\mid & \\mid & & \\mid\n",
    "\t\\end{bmatrix}.\n",
    "$$\n",
    "\n",
    "For example, if $\\theta_1(u), \\theta_2(u), \\dots, \\theta_\\ell(u)$ are monomials ($\\theta_i(u) = u^{i-1}$), then\n",
    "\n",
    "$$\n",
    "\t\\theta_3(U) = \\begin{bmatrix}\n",
    "\t\t\\mid & \\mid & & \\mid & \\mid & & \\mid \\\\\n",
    "\t\tu_1(t)^2 & u_1(t)u_2(t) & \\dots & u_2(t)^2 & u_2(t)u_3(t) & \\dots & u_n^2(t) \\\\\n",
    "\t\t\\mid & \\mid & & \\mid & \\mid & & \\mid\n",
    "\t\\end{bmatrix},\n",
    "$$\n",
    "\n",
    "where vector products and powers are understood to be element-wise.\n",
    "\n",
    "We seek a set of sparse coefficient vectors (collected into a matrix)\n",
    "\n",
    "$$\n",
    "\t\\Xi = \\begin{bmatrix}\n",
    "\t\t\\mid & \\mid & & \\mid \\\\\n",
    "\t\t\\xi_1 & \\xi_2 & \\dots & \\xi_n \\\\\n",
    "\t\t\\mid & \\mid & & \\mid\n",
    "\t\\end{bmatrix}.\n",
    "$$\n",
    "\n",
    "The vector $\\xi_i$ provides the coefficients for a linear combination of basis functions $\\theta_1(u), \\theta_2(u), \\dots, \\theta_\\ell(u)$ representing the $i$th component function of $f$: $f_i(u)$. That is to say, $f_i(u) = \\Theta\\left(u^\\top\\right) \\xi_i$, where $\\Theta\\left(u^\\top\\right)$ is understood to be a row vector consisting of symbolic functions (whereas $\\Theta(U)$ is a matrix whose entries are numerical values).\n",
    "\n",
    "With each of the objects $U$, $\\dot U$, $\\Theta(U)$, and $\\Xi$ being defined, we are ready to write down the approximation problem underlying SINDy:\n",
    "\n",
    "$$ \\dot U \\approx \\Theta(U)\\Xi. $$"
   ]
  },
  {
   "cell_type": "markdown",
   "metadata": {
    "lines_to_next_cell": 0
   },
   "source": [
    "## Structure of PySINDy\n",
    "The submodules of PySINDy are each aligned with one of the terms in the aforementioned approximation equation\n",
    "\n",
    "$$ \\dot X \\approx \\Theta(X)\\Xi. $$\n",
    "\n",
    " * `pysindy.differentiate` performs numerical differentiation to compute $\\dot X$ from $X$;\n",
    " * `pysindy.feature_library` allows the user to specify a set of library functions and handles the formation of $\\Theta(X)$;\n",
    " * `pysindy.optimizers` provides a set of sparse regression solvers for determining $\\Xi$.\n",
    "\n",
    "The `SINDy` object encapsulates one class object from each of these three submodules and uses them, along with a user-supplied data matrix, to find a governing dynamical system.\n",
    "\n",
    "Let's walk through an example showing how this works using a toy dataset."
   ]
  },
  {
   "cell_type": "markdown",
   "metadata": {
    "lines_to_next_cell": 0
   },
   "source": [
    "## Example\n",
    "Suppose we have measurements of the position of a particle obeying the following dynamical system at different points in time:\n",
    "\n",
    "$$\n",
    "\t\\frac{d}{dt} \\begin{bmatrix} x \\\\ y \\end{bmatrix}\n",
    "\t= \\begin{bmatrix} -2x \\\\ y \\end{bmatrix}\n",
    "\t= \\begin{bmatrix} -2 & 0 \\\\ 0 & 1 \\end{bmatrix}\n",
    "\t\\begin{bmatrix} x \\\\ y \\end{bmatrix}\n",
    "$$\n",
    "\n",
    "Note that this system of differential equations decouples into two differential equations whose solutions are simply $x(t) = x_0e^{-2t}$ and $y(t) = y_0e^t$, where $x_0 = x(0)$ and $y_0=y(0)$ are the initial conditions.\n",
    "\n",
    "Using the initial conditions $x_0 = 3$ and $y_0 = \\tfrac{1}{2}$, we construct the data matrix $X$."
   ]
  },
  {
   "cell_type": "code",
   "execution_count": null,
   "metadata": {
    "execution": {
     "iopub.execute_input": "2022-07-06T00:43:54.334793Z",
     "iopub.status.busy": "2022-07-06T00:43:54.334164Z",
     "iopub.status.idle": "2022-07-06T00:43:54.843135Z",
     "shell.execute_reply": "2022-07-06T00:43:54.842275Z"
    },
    "lines_to_next_cell": 2
   },
   "outputs": [],
   "source": [
    "import numpy as np\n",
    "import pysindy as ps\n",
    "import matplotlib.pyplot as plt\n",
    "\n",
    "\n",
    "def gen_data1():\n",
    "    t = np.linspace(0, 1, 100)\n",
    "    x = 3 * np.exp(-2 * t)\n",
    "    y = 0.5 * np.exp(t)\n",
    "    return t, x, y\n",
    "\n",
    "\n",
    "def gen_data2():\n",
    "    x0 = 6\n",
    "    y0 = -0.1\n",
    "    t_test = np.linspace(0, 1, 100)\n",
    "    x_test = x0 * np.exp(-2 * t_test)\n",
    "    y_test = y0 * np.exp(t_test)\n",
    "    return x0, y0, t_test, x_test, y_test\n"
   ]
  },
  {
   "cell_type": "code",
   "execution_count": null,
   "metadata": {
    "execution": {
     "iopub.execute_input": "2022-07-06T00:43:54.847201Z",
     "iopub.status.busy": "2022-07-06T00:43:54.846876Z",
     "iopub.status.idle": "2022-07-06T00:43:54.851460Z",
     "shell.execute_reply": "2022-07-06T00:43:54.850804Z"
    }
   },
   "outputs": [],
   "source": [
    "t, x, y = gen_data1()\n",
    "X = np.stack((x, y), axis=-1)  # First column is x, second is y"
   ]
  },
  {
   "cell_type": "code",
   "execution_count": null,
   "metadata": {},
   "outputs": [],
   "source": [
    "plt.plot(t, x, label=\"x\")\n",
    "plt.plot(t, y, label=\"y\")"
   ]
  },
  {
   "cell_type": "markdown",
   "metadata": {},
   "source": [
    "We can select a differentiation method from the `differentiation` submodule."
   ]
  },
  {
   "cell_type": "code",
   "execution_count": null,
   "metadata": {
    "execution": {
     "iopub.execute_input": "2022-07-06T00:43:54.854815Z",
     "iopub.status.busy": "2022-07-06T00:43:54.854544Z",
     "iopub.status.idle": "2022-07-06T00:43:54.858256Z",
     "shell.execute_reply": "2022-07-06T00:43:54.857631Z"
    }
   },
   "outputs": [],
   "source": [
    "# We could instead call ps.differentiation.FiniteDifference(order=2)"
   ]
  },
  {
   "cell_type": "markdown",
   "metadata": {},
   "source": [
    "While we could use this method to compute $\\dot X$ \"by hand,\" it is often more convenient to pass it into the `SINDy` object and let the computation of $\\dot X$ be handled automatically.\n",
    "\n",
    "The candidate library can be specified with an object from the `feature_library` submodule, which will also be passed into the `SINDy` object."
   ]
  },
  {
   "cell_type": "code",
   "execution_count": null,
   "metadata": {
    "execution": {
     "iopub.execute_input": "2022-07-06T00:43:54.861660Z",
     "iopub.status.busy": "2022-07-06T00:43:54.861260Z",
     "iopub.status.idle": "2022-07-06T00:43:54.865207Z",
     "shell.execute_reply": "2022-07-06T00:43:54.864553Z"
    }
   },
   "outputs": [],
   "source": [
    "\n",
    "# Note: We could instead call ps.feature_library.PolynomialLibrary(degree=3)"
   ]
  },
  {
   "cell_type": "markdown",
   "metadata": {},
   "source": [
    "Next we select which optimizer should be used."
   ]
  },
  {
   "cell_type": "code",
   "execution_count": null,
   "metadata": {
    "execution": {
     "iopub.execute_input": "2022-07-06T00:43:54.868326Z",
     "iopub.status.busy": "2022-07-06T00:43:54.868094Z",
     "iopub.status.idle": "2022-07-06T00:43:54.872182Z",
     "shell.execute_reply": "2022-07-06T00:43:54.871132Z"
    }
   },
   "outputs": [],
   "source": [
    "# Note: We could instead call ps.optimizers.STLSQ(threshold=0.2)"
   ]
  },
  {
   "cell_type": "markdown",
   "metadata": {},
   "source": [
    "Finally, we bring these three components together in one `SINDy` object."
   ]
  },
  {
   "cell_type": "code",
   "execution_count": null,
   "metadata": {
    "execution": {
     "iopub.execute_input": "2022-07-06T00:43:54.875960Z",
     "iopub.status.busy": "2022-07-06T00:43:54.875691Z",
     "iopub.status.idle": "2022-07-06T00:43:54.879557Z",
     "shell.execute_reply": "2022-07-06T00:43:54.878948Z"
    }
   },
   "outputs": [],
   "source": []
  },
  {
   "cell_type": "markdown",
   "metadata": {},
   "source": [
    "Following the `scikit-learn` workflow, we first instantiate a `SINDy` class object with the desired properties, then fit it to the data in separate step."
   ]
  },
  {
   "cell_type": "code",
   "execution_count": null,
   "metadata": {
    "execution": {
     "iopub.execute_input": "2022-07-06T00:43:54.882681Z",
     "iopub.status.busy": "2022-07-06T00:43:54.882416Z",
     "iopub.status.idle": "2022-07-06T00:43:54.902860Z",
     "shell.execute_reply": "2022-07-06T00:43:54.901509Z"
    }
   },
   "outputs": [],
   "source": []
  },
  {
   "cell_type": "markdown",
   "metadata": {},
   "source": [
    "We can inspect the governing equations discovered by the model and check whether they seem reasonable with the `print` function."
   ]
  },
  {
   "cell_type": "code",
   "execution_count": null,
   "metadata": {
    "execution": {
     "iopub.execute_input": "2022-07-06T00:43:54.908324Z",
     "iopub.status.busy": "2022-07-06T00:43:54.908016Z",
     "iopub.status.idle": "2022-07-06T00:43:54.913613Z",
     "shell.execute_reply": "2022-07-06T00:43:54.912952Z"
    }
   },
   "outputs": [],
   "source": []
  },
  {
   "cell_type": "markdown",
   "metadata": {},
   "source": [
    "Once the SINDy model has been fit we can use it to evolve new initial conditions forward in time with the `simulate` function."
   ]
  },
  {
   "cell_type": "code",
   "execution_count": null,
   "metadata": {
    "execution": {
     "iopub.execute_input": "2022-07-06T00:43:54.916864Z",
     "iopub.status.busy": "2022-07-06T00:43:54.916596Z",
     "iopub.status.idle": "2022-07-06T00:43:54.998927Z",
     "shell.execute_reply": "2022-07-06T00:43:54.998241Z"
    }
   },
   "outputs": [],
   "source": [
    "x0, y0, t_test, x_test, y_test = gen_data2()\n",
    "# Simulate\n"
   ]
  },
  {
   "cell_type": "code",
   "execution_count": null,
   "metadata": {
    "execution": {
     "iopub.execute_input": "2022-07-06T00:43:55.002231Z",
     "iopub.status.busy": "2022-07-06T00:43:55.001900Z",
     "iopub.status.idle": "2022-07-06T00:43:55.718332Z",
     "shell.execute_reply": "2022-07-06T00:43:55.717415Z"
    }
   },
   "outputs": [],
   "source": [
    "import matplotlib.pyplot as plt\n",
    "plt.ion()\n",
    "\n",
    "plt.figure()\n",
    "plt.plot(x0, y0, \"ro\", label=\"Initial condition\", alpha=0.6, markersize=8)\n",
    "plt.plot(x_test, y_test, \"b\", label=\"Exact solution\", alpha=0.4, linewidth=4)\n",
    "plt.plot(sim[:, 0], sim[:, 1], \"k--\", label=\"SINDy model\", linewidth=3)\n",
    "plt.xlabel(\"x\")\n",
    "plt.ylabel(\"y\")\n",
    "plt.legend()\n",
    "plt.show()"
   ]
  },
  {
   "cell_type": "markdown",
   "metadata": {},
   "source": [
    "Note that if the library we had chosen had been inappropriate for the problem at hand (i.e. if the dynamics could not be well-approximated as a sparse linear combination of library functions), then SINDy would have failed to produce a reasonable model. For example, if we solve the same problem, but using sines and cosines as our basis functions, SINDy is unable to find a sparse model for the dynamics:"
   ]
  },
  {
   "cell_type": "code",
   "execution_count": null,
   "metadata": {
    "execution": {
     "iopub.execute_input": "2022-07-06T00:43:55.722229Z",
     "iopub.status.busy": "2022-07-06T00:43:55.721792Z",
     "iopub.status.idle": "2022-07-06T00:43:55.732058Z",
     "shell.execute_reply": "2022-07-06T00:43:55.731277Z"
    }
   },
   "outputs": [],
   "source": [
    "# Populate the library with trigonometric functions\n",
    "\n",
    "\n",
    "model = ps.SINDy(\n",
    "    differentiation_method=differentiation_method,\n",
    "    feature_library=feature_library,\n",
    "    optimizer=optimizer,\n",
    "    feature_names=[\"x\", \"y\"],\n",
    ")\n",
    "model.fit(X, t=t)\n",
    "model.print()"
   ]
  },
  {
   "cell_type": "code",
   "execution_count": null,
   "metadata": {},
   "outputs": [],
   "source": [
    "x0, y0, t_test, x_test, y_test = gen_data2()\n",
    "sim = model.simulate([x0, y0], t=t_test)"
   ]
  },
  {
   "cell_type": "code",
   "execution_count": null,
   "metadata": {},
   "outputs": [],
   "source": [
    "import matplotlib.pyplot as plt\n",
    "plt.ion()\n",
    "\n",
    "plt.figure()\n",
    "plt.plot(x0, y0, \"ro\", label=\"Initial condition\", alpha=0.6, markersize=8)\n",
    "plt.plot(x_test, y_test, \"b\", label=\"Exact solution\", alpha=0.4, linewidth=4)\n",
    "plt.plot(sim[:, 0], sim[:, 1], \"k--\", label=\"SINDy model\", linewidth=3)\n",
    "plt.xlabel(\"x\")\n",
    "plt.ylabel(\"y\")\n",
    "plt.legend()\n",
    "plt.show()"
   ]
  },
  {
   "cell_type": "markdown",
   "metadata": {},
   "source": [
    "## Back to main idea of the paper\n",
    "\n",
    "So, how do linear regression and sparsity relate to the SINDy paper? Remember the ordinary differential equation that we’re trying to find:\n",
    "\n",
    "$$\\frac{d}{dt}u(t)=f(u(t))$$\n",
    "\n",
    "We have samples of $u(t)$ at several times, and nothing else. But if we have $u(t)$, we can easily calculate $\\frac{d}{dt}u(t)$ using a numerical method (such as finite differences, or total variation with regularization, as suggested by the authors in the paper). Our goal then is to find the function $f$ that best represents the behavior of the derivative of $u(t)$ over time. One way to represent $f$ is by thinking of it as a linear combination of a set of candidate functions. These candidate functions can be polynomial functions, trigonometric functions, or anything else that might be a reasonable guess for the behavior of the derivatives.\n",
    "\n",
    "For example, if someone else gives us data that was generated by the Lorenz system without telling us how it was generated, we would be successful in discovering the equations as long as we include low-degree polynomials in our set of candidate functions. That’s because the Lorenz system looks like this:\n",
    "\n",
    "$$\n",
    "\\begin{align*}\n",
    "\\dot x &= \\sigma (y - x) \\\\\n",
    "\\dot y &= x(\\rho - z) - y \\\\\n",
    "\\dot z &= xy - \\beta z\n",
    "\\end{align*}\n",
    "$$\n",
    "\n",
    "So, in this case, as long as we include $x$, $y$, $z$, $xy$ and\n",
    "$xz$ in our set of candidate functions, we should be able to reconstruct the equations from the data."
   ]
  },
  {
   "cell_type": "markdown",
   "metadata": {},
   "source": [
    "In the general scenario, we can express the derivatives as a linear combination of candidate functions, as follows:\n",
    "\n",
    "$$U\\prime = \\Theta (U)\\Xi$$\n",
    "\n",
    "In the equation above, $U'$ contains the derivatives. For the Lorenz equation, let’s assume that we collected $m$ three-dimensional $(x, y, z)$ samples. Then $U'$ holds the time derivatives at each of those samples, and is of size $m \\times 3$.\n",
    "\n",
    "The matrix $\\Theta(U)$ contains $n$ possible candidate functions, and so it’s of size $m \\times n$. We can consider any candidate function we’d like for $f$, so we can define this matrix ahead of time. In our Lorenz system scenario, we’ll use low-degree polynomials as our candidate functions: $1, x, y, z, x^2, xy, xz, y^2, yz,$ and $z^2$. So, $n = 10$ in this case.\n",
    "\n",
    "The matrix $\\Xi$ is of size $n \\times 3$, and contains the coefficients that multiply the candidate functions. These coefficients are unknown, and it’s our goal to discover them.\n",
    "\n",
    "Here’s a diagram that demonstrates the structure of our equation for this simple example:\n",
    "\n",
    "![dimensions](2-dimensions.png)"
   ]
  },
  {
   "cell_type": "markdown",
   "metadata": {},
   "source": [
    "If you compare this equation with the linear regression one in the previous section, you’ll see that the overall structure is the same. The only difference is that $U'$ and $\\Xi$ are now matrices of width $d$, not column vectors. That’s because instead of a single linear regression problem, we have $d$ linear regression problems, one for each dimension. If you split the equation above into $d$ separate equations, each containing a column of $U'$ and the corresponding column of $\\Xi$, you’d have $d$ problems with the exact same structure as in the linear regression section. Here’s an illustration of this idea:\n",
    "\n",
    "![subproblem](3-subproblems.png)"
   ]
  },
  {
   "cell_type": "markdown",
   "metadata": {},
   "source": [
    "$U$ and $\\Theta(U)$ are known, so we need to solve for $\\Xi$. We could do that using a direct least-squares method. However, physical equations are typically best represented by just a few terms, so we need $\\Xi$ to be sparse. We may consider dozens of different candidate functions in $\\Theta(U)$, but in the end, we want only a few to be present in our function $f$. So, in essence, this problem boils down to solving $d$ linear regression problems with sparsity.\n",
    "\n",
    "LASSO is a popular method for solving linear regression problems while optimizing for a sparse solution. However, the authors of the paper found LASSO to be algorithmically unstable and computationally expensive for very large data sets, so they designed an alternative: the “Sequential Thresholded Least-Squares” algorithm."
   ]
  },
  {
   "cell_type": "markdown",
   "metadata": {},
   "source": [
    "## Generation of data and derivatives\n",
    "\n",
    "In a real-world project, you would set up an experiment, and you would measure your data $U$ from observations. My next blog post will show one way to do this. But in this introductory project, to keep it simple, we’ll generate our data using the Lorenz equations.\n",
    "\n",
    "Let’s see the code that generates $U$:"
   ]
  },
  {
   "cell_type": "code",
   "execution_count": null,
   "metadata": {},
   "outputs": [],
   "source": [
    "\n",
    "# Constants used in the Sequential Thresholded Least-Squares algorithm.\n",
    "THRESHOLD = 0.025\n",
    "MAX_ITERATIONS = 10\n",
    "\n",
    "# The parameters of the Lorenz equation.\n",
    "SIGMA = 10\n",
    "RHO = 28\n",
    "BETA = 8 / 3\n"
   ]
  },
  {
   "cell_type": "code",
   "execution_count": null,
   "metadata": {},
   "outputs": [],
   "source": [
    "import numpy as np\n",
    "from scipy.integrate import solve_ivp\n",
    "from typing import Tuple\n",
    "\n",
    "def lorenz(_: float, u: np.ndarray, sigma: float, rho: float,\n",
    "           beta: float) -> np.ndarray:\n",
    "    \"\"\"Returns a list containing the three functions of the Lorenz equation.\n",
    "\n",
    "    The Lorenz equations have constant coefficients (that don't depend on t),\n",
    "    but we still receive t as the first parameter because that's how the\n",
    "    integrator works.\n",
    "    \"\"\"\n",
    "    x = u[0]\n",
    "    y = u[1]\n",
    "    z = u[2]\n",
    "    dx_dt = sigma * (y - x)\n",
    "    dy_dt = x * (rho - z) - y\n",
    "    dz_dt = x * y - beta * z\n",
    "\n",
    "    return np.hstack((dx_dt, dy_dt, dz_dt))\n",
    "\n",
    "\n",
    "def generate_data() -> Tuple[np.ndarray, np.ndarray]:\n",
    "    \"\"\"Simulates observed data u with the help of an integrator for the Lorenz\n",
    "    equations.\n",
    "    \"\"\"\n",
    "    t0 = 0.001\n",
    "    dt = 0.001\n",
    "    tmax = 100\n",
    "    n = int(tmax / dt)\n",
    "\n",
    "    # Step 1: Generate data u.\n",
    "    u0 = np.array([-8, 8, 27])\n",
    "    t = np.linspace(start=t0, stop=tmax, num=n)\n",
    "    result = solve_ivp(fun=lorenz,\n",
    "                       t_span=(t0, tmax),\n",
    "                       y0=u0,\n",
    "                       t_eval=t,\n",
    "                       args=(SIGMA, RHO, BETA))\n",
    "    u = result.y.T\n",
    "\n",
    "    return (u, t)"
   ]
  },
  {
   "cell_type": "code",
   "execution_count": null,
   "metadata": {},
   "outputs": [],
   "source": [
    "(u, t) = generate_data()"
   ]
  },
  {
   "cell_type": "markdown",
   "metadata": {},
   "source": [
    "Here, we use SciPy’s `solve_ivp` function to get the Lorenz solution with initial value `u0`. We need to tell the `solve_ivp` function the timesteps of our trajectory, which we store in variable `t`. In this case, the length of `t` determines the length of the trajectory returned by `solve_ivp`. We also need to specify the parameters of the Lorenz system, which we define elsewhere to be $\\sigma = 10$, $\\rho=28$, and $\\beta = 8/3$.\n",
    "\n",
    "We now have an array of three-dimensional values that represent a portion of a trajectory in the Lorenz system. But remember that we don’t need the actual data samples $U$, we need their derivatives $U'$. There are many methods to calculate the derivatives of a function numerically. The authors of the paper suggest using total variation derivatives with regularization, because it’s more effective than simpler methods at keeping the noise to a minimum. Both total variation derivatives with regularization and the much simpler finite differences method,  for this simple problem, yields the same results. Therefore, we will use finite differences:"
   ]
  },
  {
   "cell_type": "code",
   "execution_count": null,
   "metadata": {},
   "outputs": [],
   "source": [
    "def calculate_finite_difference_derivatives(u: np.ndarray, t: np.ndarray) -> np.ndarray:\n",
    "    \"\"\"Calculates the derivatives of u using finite differences with numpy.gradient.\n",
    "\n",
    "    Args:\n",
    "        u (np.ndarray): The array of values whose derivatives are to be calculated.\n",
    "        t (np.ndarray): The array of time points corresponding to the values in u.\n",
    "\n",
    "    Returns:\n",
    "        np.ndarray: The array of calculated derivatives.\n",
    "    \"\"\"\n",
    "    print(\"Using finite difference derivatives with numpy.gradient.\")\n",
    "    # Calculate the derivative using numpy.gradient\n",
    "    \n",
    "    \n",
    "    return uprime"
   ]
  },
  {
   "cell_type": "code",
   "execution_count": null,
   "metadata": {},
   "outputs": [],
   "source": [
    "Uprime = calculate_finite_difference_derivatives(u, t)"
   ]
  },
  {
   "cell_type": "markdown",
   "metadata": {},
   "source": [
    "Using a numerical method to calculate derivatives will always introduce a bit of noise, which is why the equations we discovered aren’t exactly like the original ones, as you saw in the previous section. In this scenario, because we know the equations used to generate the data, we can generate exact derivatives by simply plugging our data into the differential equation. However, we’ll always have some noise in our real-world data and the resulting equations will never be 100% exact."
   ]
  },
  {
   "cell_type": "markdown",
   "metadata": {},
   "source": [
    "## Fit model"
   ]
  },
  {
   "cell_type": "markdown",
   "metadata": {},
   "source": [
    "Let's now create the $\\Theta$ library of candidate functions"
   ]
  },
  {
   "cell_type": "code",
   "execution_count": null,
   "metadata": {},
   "outputs": [],
   "source": [
    "import numpy as np\n",
    "\n",
    "def create_library(u: np.ndarray, polynomial_order: int,\n",
    "                   use_trig: bool) -> np.ndarray:\n",
    "    \"\"\"Creates a matrix containing a library of candidate functions.\n",
    "\n",
    "    For example, if our u depends on x, y, and z, and we specify\n",
    "    polynomial_order=2 and use_trig=false, our terms would be:\n",
    "    1, x, y, z, x^2, xy, xz, y^2, yz, z^2.\n",
    "    \"\"\"\n",
    "    (m, n) = u.shape\n",
    "    theta = np.ones((m, 1))\n",
    "\n",
    "    # Polynomials of order 1.\n",
    "    \n",
    "\n",
    "    # Polynomials of order 2.\n",
    "   \n",
    "\n",
    "    # Polynomials of order 3.\n",
    "    if polynomial_order >= 3:\n",
    "        for i in range(n):\n",
    "            for j in range(i, n):\n",
    "                for k in range(j, n):\n",
    "                    theta = np.hstack(\n",
    "                        (theta, u[:, i:i + 1] * u[:, j:j + 1] * u[:, k:k + 1]))\n",
    "\n",
    "    # Polynomials of order 4.\n",
    "    if polynomial_order >= 4:\n",
    "        for i in range(n):\n",
    "            for j in range(i, n):\n",
    "                for k in range(j, n):\n",
    "                    for l in range(k, n):\n",
    "                        theta = np.hstack(\n",
    "                            (theta, u[:, i:i + 1] * u[:, j:j + 1] *\n",
    "                             u[:, k:k + 1] * u[:, l:l + 1]))\n",
    "\n",
    "    # Polynomials of order 5.\n",
    "    if polynomial_order >= 5:\n",
    "        for i in range(n):\n",
    "            for j in range(i, n):\n",
    "                for k in range(j, n):\n",
    "                    for l in range(k, n):\n",
    "                        for m in range(l, n):\n",
    "                            theta = np.hstack(\n",
    "                                (theta, u[:, i:i + 1] * u[:, j:j + 1] *\n",
    "                                 u[:, k:k + 1] * u[:, l:l + 1] * u[:, m:m + 1]))\n",
    "\n",
    "    if use_trig:\n",
    "        for i in range(1, 11):\n",
    "            theta = np.hstack((theta, np.sin(i * u), np.cos(i * u)))\n",
    "\n",
    "    return theta"
   ]
  },
  {
   "cell_type": "markdown",
   "metadata": {},
   "source": [
    "This function takes the data $U$ as a parameter, and uses it to calculate the numerical values for each of the candidate functions considered. In our scenario, we want to consider candidate polynomial functions up to order 2, so the `polynomial_order` parameter is set to 2. And we don’t want to consider trigonometric candidate functions, so the `use_trig` parameter is set to `False`."
   ]
  },
  {
   "cell_type": "code",
   "execution_count": null,
   "metadata": {},
   "outputs": [],
   "source": [
    "# Constants used in the calculation of the Theta matrix of potential terms.\n",
    "POLYNOMIAL_ORDER = 2\n",
    "USE_TRIG = False\n",
    "\n",
    "theta = create_library(u, POLYNOMIAL_ORDER, USE_TRIG)"
   ]
  },
  {
   "cell_type": "markdown",
   "metadata": {},
   "source": [
    "\n",
    "Sequential Thresholded Least-Squares algorithm:"
   ]
  },
  {
   "cell_type": "code",
   "execution_count": null,
   "metadata": {},
   "outputs": [],
   "source": [
    "import numpy as np\n",
    "\n",
    "def calculate_regression(theta: np.ndarray, uprime: np.ndarray,\n",
    "                         threshold: float, max_iterations: int) -> np.ndarray:\n",
    "    \"\"\"Finds a xi matrix that fits theta * xi = uprime, using the sequential\n",
    "    thresholded least-squares algorithm, which is a regression algorithm that\n",
    "    promotes sparsity.\n",
    "\n",
    "    The authors of the SINDy paper designed this algorithm as an alternative\n",
    "    to LASSO, because they found LASSO to be algorithmically unstable, and\n",
    "    computationally expensive for very large data sets.\n",
    "    \"\"\"\n",
    "    # Solve theta * xi = uprime in the least-squares sense.\n",
    "    xi = np.linalg.lstsq(theta, uprime, rcond=None)[0]\n",
    "    n = xi.shape[1]\n",
    "\n",
    "    # Add sparsity.\n",
    "    for _ in range(max_iterations):\n",
    "        small_indices = np.abs(xi) < threshold\n",
    "        xi[small_indices] = 0\n",
    "        for j in range(n):\n",
    "            big_indices = np.logical_not(small_indices[:, j])\n",
    "            xi[big_indices, j] = np.linalg.lstsq(theta[:, big_indices],\n",
    "                                                 uprime[:, j],\n",
    "                                                 rcond=None)[0]\n",
    "\n",
    "    return xi"
   ]
  },
  {
   "cell_type": "markdown",
   "metadata": {},
   "source": [
    "In the code above, the `theta` input parameter contains the $\\Theta$ matrix of candidate functions, and the uprime input parameter contains the $U'$ matrix with derivatives — these are known ahead of time. The output of this function is the $\\Xi$ matrix, which is initially unknown. The `threshold` and `max_iterations` input parameters help us fine-tune the Sequential Threasholded Least-Squares algorithm, as we’ll see soon.\n"
   ]
  },
  {
   "cell_type": "markdown",
   "metadata": {},
   "source": [
    "The first operation in this algorithm is to calculate a least-squares solution to the equation using a direct method, which is a great starting point:"
   ]
  },
  {
   "cell_type": "code",
   "execution_count": null,
   "metadata": {},
   "outputs": [],
   "source": [
    "# Solve theta * xi = uprime in the least-squares sense.\n"
   ]
  },
  {
   "cell_type": "markdown",
   "metadata": {},
   "source": [
    "Above is one potential result for this operation. Remember that the $\\Xi$ matrix in our scenario has shape $10 \\times 3$, because we’re considering 10 candidate functions and have 3 dimensions."
   ]
  },
  {
   "cell_type": "markdown",
   "metadata": {},
   "source": [
    "This matrix solves the equation, but as you can see, it’s not sparse. The role of the `for` loop that follows is to introduce sparsity to the matrix, while compromising as little as possible on the accuracy of the solution. The code first identifies all the matrix locations with coefficients smaller than the threshold passed as a parameter, and sets those coefficients to zero:\n",
    "\n",
    "```python\n",
    "for _ in range(max_iterations):\n",
    "    small_indices = np.abs(xi) < threshold\n",
    "    xi[small_indices] = 0\n",
    "    for j in range(n):\n",
    "        big_indices = np.logical_not(small_indices[:, j])\n",
    "        xi[big_indices, j] = np.linalg.lstsq(theta[:, big_indices],\n",
    "                                                uprime[:, j],\n",
    "                                                rcond=None)[0]\n",
    "```"
   ]
  },
  {
   "cell_type": "markdown",
   "metadata": {},
   "source": [
    "Then, it solves the least-squares problem considering only the remaining non-zero coefficients. However, because we may have a different number of non-zero coefficients in each column of $\\Xi$, we need to break the problem into $d$ separate linear regression problems, one for each column of $\\Xi$ and corresponding column of $U'$. We show this idea in the illustration at the end of the previous section.\n",
    "\n",
    "Let’s look at what the $\\Xi$ matrix looks like after one iteration of the outer loop, with threshold value 0.025:\n",
    "\n",
    "![Xi](11-xi.png)\n",
    "\n",
    "The matrix is much sparser now. We repeat this procedure 9 more times because we set `max_iterations`` to 10, and by the end, we have the following matrix:\n",
    "\n",
    "\n",
    "![Xi](12-xi.png)"
   ]
  },
  {
   "cell_type": "markdown",
   "metadata": {},
   "source": [
    "And we’re done — we discovered a sparse $\\Xi$ matrix! We can now use it to write down the equation of the system, rounded to two decimal places:\n",
    "\n",
    "$$\n",
    "\\begin{align*}\n",
    "\\dot x &= 10 y - 10 x\\\\\n",
    "\\dot y &= 27.81x - 0.99 xz - 9.6y \\\\\n",
    "\\dot z &= xy - 2.67z\n",
    "\\end{align*}\n",
    "$$\n",
    "\n",
    "As you can see, the system discovered by this algorithm is very similar to the Lorenz system with parameters $\\sigma =10$, $\\rho=28$, and $\\beta=8/3$. These are the parameter values I used in the generation of the input data, as we’ll see in the next section.\n",
    "\n",
    "$$\n",
    "\\begin{align*}\n",
    "\\dot x &= 10 (y - x)\\\\\n",
    "\\dot y &= x (28 - z) - y \\\\\n",
    "\\dot z &= xy - 8/3z\n",
    "\\end{align*}\n",
    "$$"
   ]
  },
  {
   "cell_type": "markdown",
   "metadata": {},
   "source": [
    "The small differences between the predicted and actual coefficients are due to noise in the calculation of the derivatives. We’ll also come back to this in the next section.\n",
    "\n",
    "Let’s now take a look at the main function in this file. As you can see, it has two steps: it creates the $\\Theta$\n",
    "library of candidate functions, and it uses the Sequential Thresholded Least-Squares algorithm to discover $\\Xi$."
   ]
  },
  {
   "cell_type": "code",
   "execution_count": null,
   "metadata": {},
   "outputs": [],
   "source": [
    "# Define Theta and Xi matrices."
   ]
  },
  {
   "cell_type": "code",
   "execution_count": null,
   "metadata": {},
   "outputs": [],
   "source": [
    "print(xi)"
   ]
  },
  {
   "cell_type": "markdown",
   "metadata": {},
   "source": [
    "Up until now, we explored the implementation of the basic ideas of SINDy, to help you understand its nuts and bolts. However, now that the PySINDy package is available, it’s much easier to just use that instead."
   ]
  },
  {
   "cell_type": "code",
   "execution_count": null,
   "metadata": {},
   "outputs": [],
   "source": [
    "import pysindy as ps\n",
    "# pylint: disable=unused-import\n",
    "from pysindy.differentiation import FiniteDifference, SINDyDerivative\n",
    "from pysindy.optimizers import STLSQ\n",
    "import logging\n",
    "\n",
    "def fit(u: np.ndarray, t: np.ndarray) -> ps.SINDy:\n",
    "    \"\"\"Uses PySINDy to find the equation that best fits the data u.\n",
    "    \"\"\"\n",
    "    \n",
    "\n",
    "    # Total variation derivatives with regularization.\n",
    "    # differentiation_method = SINDyDerivative(\n",
    "    #     derivative_kws={\"trend_filtered\", 0, 1e-2})\n",
    "\n",
    "    # Finite difference derivatives.\n",
    "    \n",
    "\n",
    "    \n",
    "    logging.info(\"xi: %s\", model.coefficients().T)\n",
    "\n",
    "    return model\n"
   ]
  },
  {
   "cell_type": "code",
   "execution_count": null,
   "metadata": {},
   "outputs": [],
   "source": [
    "# Fit model\n"
   ]
  },
  {
   "cell_type": "markdown",
   "metadata": {},
   "source": [
    "## Prediction"
   ]
  },
  {
   "cell_type": "markdown",
   "metadata": {},
   "source": [
    "Let’s think about what it means to make a prediction in this scenario. In our `fit` code we discovered a system of ordinary differential equations based on our data. Therefore, if we’re given an initial condition, we should be able to integrate the differential equation we discovered and get a trajectory that predicts future values. We’ve already seen how to integrate an ordinal differential equation using the `solve_ivp` function, when we generated our data $U$ using the Lorenz equation. We’ll use the same technique here, except this time we want to integrate the differential equation we discovered:\n",
    "\n",
    "$$U' = \\Theta(U)\\Xi$$\n",
    "\n",
    "We generated $U$, calculated $U'$ using finite differences, generated $\\Theta$, and computed $\\Xi$ using Sequential Thresholded Least-Squares. We have all the pieces of the puzzle, and are now ready to understand the code that integrates the equation we discovered."
   ]
  },
  {
   "cell_type": "code",
   "execution_count": null,
   "metadata": {},
   "outputs": [],
   "source": [
    "\"\"\"Utilities related to graphing.\"\"\"\n",
    "\n",
    "import matplotlib.pyplot as plt\n",
    "import numpy as np\n",
    "\n",
    "\n",
    "def style_axis(axis):\n",
    "    \"\"\"Styles a graph's x, y, or z axis.\"\"\"\n",
    "    # pylint: disable=protected-access\n",
    "    axis._axinfo[\"grid\"][\"color\"] = \"#dddddd\"\n",
    "    axis._axinfo[\"grid\"][\"linewidth\"] = 0.4\n",
    "    axis._axinfo[\"tick\"][\"linewidth\"][True] = 0.4\n",
    "    axis._axinfo[\"tick\"][\"linewidth\"][False] = 0.4\n",
    "    axis.set_pane_color((0.98, 0.98, 0.98, 1.0))\n",
    "    axis.line.set_color(\"#bbbbbb\")\n",
    "    axis.label.set_color(\"#333333\")\n",
    "    pass\n",
    "\n",
    "\n",
    "def style_axis3d(axis3d):\n",
    "    \"\"\"Styles a 3D graph.\"\"\"\n",
    "    axis3d.set_xlabel(\"x\")\n",
    "    axis3d.set_ylabel(\"y\")\n",
    "    axis3d.set_zlabel(\"z\")\n",
    "    axis3d.tick_params(axis=\"x\", colors=\"#666666\")\n",
    "    axis3d.tick_params(axis=\"y\", colors=\"#666666\")\n",
    "    axis3d.tick_params(axis=\"z\", colors=\"#666666\")\n",
    "    style_axis(axis3d.w_xaxis)\n",
    "    style_axis(axis3d.w_yaxis)\n",
    "    style_axis(axis3d.w_zaxis)\n",
    "    axis3d.set_title(axis3d.get_title(), fontdict={\"color\": \"#333333\"})\n",
    "\n",
    "\n",
    "def graph_results(u: np.ndarray, u_approximation: np.ndarray) -> None:\n",
    "    \"\"\"Graphs two 3D trajectories side-by-side.\"\"\"\n",
    "    sample_count = 20000\n",
    "    orange = \"#EF6C00\"\n",
    "\n",
    "    fig = plt.figure(figsize=plt.figaspect(0.5))\n",
    "\n",
    "    # Graph trajectory from the true model.\n",
    "    axis3d = fig.add_subplot(1, 2, 1, projection=\"3d\")\n",
    "    x = u[0:sample_count, 0]\n",
    "    y = u[0:sample_count, 1]\n",
    "    z = u[0:sample_count, 2]\n",
    "    axis3d.plot3D(x, y, z, orange, linewidth=0.4)\n",
    "    axis3d.set_title(\"Original trajectory\")\n",
    "    style_axis3d(axis3d)\n",
    "\n",
    "    # Graph trajectory computed from model discovered by SINDy.\n",
    "    axis3d = fig.add_subplot(1, 2, 2, projection=\"3d\")\n",
    "    x = u_approximation[0:sample_count, 0]\n",
    "    y = u_approximation[0:sample_count, 1]\n",
    "    z = u_approximation[0:sample_count, 2]\n",
    "    axis3d.plot3D(x, y, z, orange, linewidth=0.4)\n",
    "    axis3d.set_title(\"SINDy approximation\")\n",
    "    style_axis3d(axis3d)\n",
    "\n",
    "    plt.show()"
   ]
  },
  {
   "cell_type": "markdown",
   "metadata": {},
   "source": [
    "### Compute trajectory\n",
    "\n",
    "Calculates the trajectory of the model discovered by SINDy.\n",
    "\n",
    "Given an initial value for $U$, we call the lorenz_approximation function to calculate the corresponding du/dt. Then, using a numerical method, `solve_ivp` uses that derivative to calculate the next value of $U$, using the $\\Xi$ matrix discovered by SINDy. This process repeats, until we have all values of the $U$ trajectory."
   ]
  },
  {
   "cell_type": "code",
   "execution_count": null,
   "metadata": {},
   "outputs": [],
   "source": [
    "def compute_trajectory(u0: np.ndarray, model: ps.SINDy) -> np.ndarray:\n",
    "    \"\"\"Calculates the trajectory using the model discovered by SINDy.\n",
    "    \"\"\"\n",
    "    t0 = 0.001\n",
    "    dt = 0.001\n",
    "    tmax = 100\n",
    "    n = int(tmax / dt + 1)\n",
    "    t_eval = np.linspace(start=t0, stop=tmax, num=n)\n",
    "\n",
    "    u_approximation = model.simulate(u0, t_eval)\n",
    "\n",
    "    return u_approximation"
   ]
  },
  {
   "cell_type": "code",
   "execution_count": null,
   "metadata": {},
   "outputs": [],
   "source": [
    "\n",
    "graph_results(u, u_approximation)"
   ]
  },
  {
   "cell_type": "markdown",
   "metadata": {},
   "source": [
    "As you can see, the images aren’t exactly the same (because the equations discovered by SINDy aren’t exactly the same as the originals), but they’re very close. In the derivative calculation step, if instead of finite differences we had used exact derivatives, these two images would be exactly the same."
   ]
  }
 ],
 "metadata": {
  "jupytext": {
   "cell_metadata_filter": "-all",
   "main_language": "python",
   "notebook_metadata_filter": "-all"
  },
  "kernelspec": {
   "display_name": "Python 3",
   "language": "python",
   "name": "python3"
  },
  "language_info": {
   "codemirror_mode": {
    "name": "ipython",
    "version": 3
   },
   "file_extension": ".py",
   "mimetype": "text/x-python",
   "name": "python",
   "nbconvert_exporter": "python",
   "pygments_lexer": "ipython3",
   "version": "3.11.4"
  }
 },
 "nbformat": 4,
 "nbformat_minor": 5
}
