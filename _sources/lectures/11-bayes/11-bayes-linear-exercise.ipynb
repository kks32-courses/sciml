{
  "cells": [
    {
      "cell_type": "markdown",
      "metadata": {},
      "source": [
        "# 11. Bayesian regression with linear basis function models"
      ]
    },
    {
      "cell_type": "markdown",
      "metadata": {},
      "source": [
        "**Exercise:** [![Open in Colab](https://colab.research.google.com/assets/colab-badge.svg)](https://colab.research.google.com/github/kks32-courses/sciml/blob/main/lectures/11-bayes/11-bayes-linear-exercise.ipynb)\n",
        "**Solution:** [![Open in Colab](https://colab.research.google.com/assets/colab-badge.svg)](https://colab.research.google.com/github/kks32-courses/sciml/blob/main/lectures/11-bayes/11-bayes-linear.ipynb)"
      ]
    },
    {
      "cell_type": "markdown",
      "metadata": {
        "id": "r_M4IPnDaW9L"
      },
      "source": [
        "Bayesian linear regression is implemented from scratch with [NumPy](http://www.numpy.org/) followed by an example how [scikit-learn](https://scikit-learn.org/stable/) can be used to obtain equivalent results. I recommend reading chapter 3 of [Pattern Recognition and Machine Learning](https://www.microsoft.com/en-us/research/uploads/prod/2006/01/Bishop-Pattern-Recognition-and-Machine-Learning-2006.pdf) (PRML) but this is not necessary for following this article.  \n",
        "\n",
        "## Linear basis function models\n",
        "\n",
        "Linear regression models share the property of being linear in their parameters but not necessarily in their input variables. Using non-linear basis functions of input variables, linear models are able model arbitrary non-linearities from input variables to targets. Polynomial regression is such an example and will be demonstrated later. A linear regression model $y(\\mathbf{x}, \\mathbf{w})$ can therefore be defined more generally as\n",
        "\n",
        "$$\n",
        "y(\\mathbf{x}, \\mathbf{w}) = w_0 + \\sum_{j=1}^{M-1}{w_j \\phi_j(\\mathbf{x})} = \\sum_{j=0}^{M-1}{w_j \\phi_j(\\mathbf{x})} = \\mathbf{w}^T \\boldsymbol\\phi(\\mathbf{x}) \\tag{1}\n",
        "$$\n",
        "\n",
        "where $\\phi_j$ are basis functions and $M$ is the total number of parameters $w_j$ including the bias term $w_0$. Here, we use the convention $\\phi_0(\\mathbf{x}) = 1$. The simplest form of linear regression models are also linear functions of their input variables i.e. the set of basis functions in this case is the identity $\\boldsymbol\\phi(\\mathbf{x}) = \\mathbf{x}$. The target variable $t$ of an observation $\\mathbf{x}$ is given by a deterministic function $y(\\mathbf{x}, \\mathbf{w})$ plus additive random noise $\\epsilon$.\n",
        "\n",
        "$$\n",
        "t = y(\\mathbf{x}, \\mathbf{w}) + \\epsilon \\tag{2}\n",
        "$$\n",
        "\n",
        "We make the assumption that the noise is normally distributed i.e. follows a Gaussian distribution with zero mean and precision (= inverse variance) $\\beta$. The corresponding probabilistic model i.e. the conditional distribution of $t$ given $\\mathbf{x}$ can therefore be written as\n",
        "\n",
        "$$\n",
        "p(t \\lvert \\mathbf{x}, \\mathbf{w}, \\beta) =\n",
        "\\mathcal{N}(t \\lvert y(\\mathbf{x}, \\mathbf{w}), \\beta^{-1}) =\n",
        "\\sqrt{\\beta \\over {2 \\pi}} \\exp\\left(-{\\beta \\over 2} (t - y(\\mathbf{x}, \\mathbf{w}))^2 \\right) \\tag{3}\n",
        "$$\n",
        "\n",
        "where the mean of this distribution is the regression function $y(\\mathbf{x}, \\mathbf{w})$.\n",
        "\n",
        "## Likelihood function\n",
        "\n",
        "For fitting the model and for inference of model parameters we use a training set of $N$ independent and identically distributed (i.i.d.) observations $\\mathbf{x}_1,\\ldots,\\mathbf{x}_N$ and their corresponding targets $t_1,\\ldots,t_N$. After combining column vectors $\\mathbf{x}_i$ into matrix $\\mathbf{X}$, where $\\mathbf{X}_{i,:} = \\mathbf{x}_i^T$, and scalar targets $t_i$ into column vector $\\mathbf{t}$ the joint conditional probability of targets $\\mathbf{t}$ given $\\mathbf{X}$ can be formulated as\n",
        "\n",
        "$$\n",
        "p(\\mathbf{t} \\lvert \\mathbf{X}, \\mathbf{w}, \\beta) =\n",
        "\\prod_{i=1}^{N}{\\mathcal{N}(t_i \\lvert \\mathbf{w}^T \\boldsymbol\\phi(\\mathbf{x}_i), \\beta^{-1})} \\tag{4}\n",
        "$$\n",
        "\n",
        "This is a function of parameters $\\mathbf{w}$ and $\\beta$ and is called the *likelihood function*. For better readability, it will be written as $p(\\mathbf{t} \\lvert \\mathbf{w}, \\beta)$ instead of $p(\\mathbf{t} \\lvert \\mathbf{X}, \\mathbf{w}, \\beta)$ from now on. The log of the likelihood function can be written as\n",
        "\n",
        "$$\n",
        "\\log p(\\mathbf{t} \\lvert \\mathbf{w}, \\beta) =\n",
        "{N \\over 2} \\log \\beta -\n",
        "{N \\over 2} \\log {2 \\pi} -\n",
        "\\beta E_D(\\mathbf{w}) \\tag{5}\n",
        "$$\n",
        "\n",
        "where $E_D(\\mathbf{w})$ is the sum-of-squares error function coming from the exponent of the likelihood function.\n",
        "\n",
        "$$\n",
        "E_D(\\mathbf{w}) =\n",
        "{1 \\over 2} \\sum_{i=1}^{N}(t_i - \\mathbf{w}^T \\boldsymbol\\phi(\\mathbf{x}_i))^2 =\n",
        "{1 \\over 2} \\lVert \\mathbf{t} - \\boldsymbol\\Phi \\mathbf{w} \\rVert^2 \\tag{6}\n",
        "$$\n",
        "\n",
        "Matrix $\\boldsymbol\\Phi$ is called the *design matrix* and is defined as\n",
        "\n",
        "$$\n",
        "\\boldsymbol\\Phi =\n",
        "\\begin{pmatrix}\n",
        "\\phi_0(\\mathbf{x}_1) &  \\phi_1(\\mathbf{x}_1) & \\cdots & \\phi_{M-1}(\\mathbf{x}_1) \\\\\n",
        "\\phi_0(\\mathbf{x}_2) &  \\phi_1(\\mathbf{x}_2) & \\cdots & \\phi_{M-1}(\\mathbf{x}_2) \\\\\n",
        "\\vdots & \\vdots & \\ddots & \\vdots \\\\\n",
        "\\phi_0(\\mathbf{x}_N) &  \\phi_1(\\mathbf{x}_N) & \\cdots & \\phi_{M-1}(\\mathbf{x}_N)\n",
        "\\end{pmatrix}\n",
        "$$\n",
        "\n",
        "## Maximum likelihood\n",
        "\n",
        "Maximizing the log likelihood (= minimizing the sum-of-squares error function) w.r.t. $\\mathbf{w}$ gives the maximum likelihood estimate of parameters $\\mathbf{w}$. Maximum likelihood estimation can lead to severe over-fitting if complex models (e.g. polynomial regression models of high order) are fit to datasets of limited size. A common approach to prevent over-fitting is to add a regularization term to the error function. As we will see shortly, this regularization term arises naturally when following a Bayesian approach (more precisely, when defining a prior distribution over parameters $\\mathbf{w}$).\n",
        "\n",
        "## Bayesian approach\n",
        "\n",
        "### Prior and posterior distribution\n",
        "\n",
        "For a Bayesian treatment of linear regression we need a prior probability distribution over model parameters $\\mathbf{w}$. For reasons of simplicity, we will use an isotropic Gaussian distribution over parameters $\\mathbf{w}$ with zero mean:\n",
        "\n",
        "$$\n",
        "p(\\mathbf{w} \\lvert \\alpha) = \\mathcal{N}(\\mathbf{w} \\lvert \\mathbf{0}, \\alpha^{-1}\\mathbf{I}) \\tag{8}\n",
        "$$\n",
        "\n",
        "An isotropic Gaussian distribution has a diagonal covariance matrix where all diagonal elements have the same variance $\\alpha^{-1}$ ($\\alpha$ is the precision of the prior). A zero mean favors small(er) values of parameters $w_j$ a priori. The prior is [conjugate](https://en.wikipedia.org/wiki/Conjugate_prior) to the likelihood $p(\\mathbf{t} \\lvert \\mathbf{w}, \\beta)$ meaning that the posterior distribution has the same functional form as the prior i.e. is also a Gaussian. In this special case, the posterior has an analytical solution with the following sufficient statistics\n",
        "\n",
        "$$\n",
        "\\begin{align*}\n",
        "\\mathbf{m}_N &= \\beta \\mathbf{S}_N \\boldsymbol\\Phi^T \\mathbf{t}  \\tag{9} \\\\\n",
        "\\mathbf{S}_N^{-1} &= \\alpha\\mathbf{I} + \\beta \\boldsymbol\\Phi^T \\boldsymbol\\Phi  \\tag{10}\n",
        "\\end{align*}\n",
        "$$\n",
        "\n",
        "$(9)$ is the mean vector of the posterior and $(10)$ the inverse covariance matrix (= precision matrix). Hence, the posterior distribution can be written as\n",
        "\n",
        "$$\n",
        "p(\\mathbf{w} \\lvert \\mathbf{t}, \\alpha, \\beta) = \\mathcal{N}(\\mathbf{w} \\lvert \\mathbf{m}_N, \\mathbf{S}_N) \\tag{11}\n",
        "$$\n",
        "\n",
        "For the moment, we assume that the values of $\\alpha$ and $\\beta$ are known. Since the posterior is proportional to the product of likelihood and prior, the log of the posterior distribution is proportional to the sum of the log likelihood and the log of the prior\n",
        "\n",
        "$$\n",
        "\\log p(\\mathbf{w} \\lvert \\mathbf{t}, \\alpha, \\beta) =\n",
        "-\\beta E_D(\\mathbf{w}) - \\alpha E_W(\\mathbf{w}) + \\mathrm{const.} \\tag{12}\n",
        "$$\n",
        "\n",
        "where $E_D(\\mathbf{w})$ is defined by $(6)$ and\n",
        "\n",
        "$$\n",
        "E_W(\\mathbf{w}) = {1 \\over 2} \\mathbf{w}^T \\mathbf{w} \\tag{13}\n",
        "$$\n",
        "\n",
        "Maximizing the log posterior w.r.t. $\\mathbf{w}$ gives the [maximum-a-posteriori](https://en.wikipedia.org/wiki/Maximum_a_posteriori_estimation) (MAP) estimate of $\\mathbf{w}$. Maximizing the log posterior is equivalent to minimizing the sum-of-squares error function $E_D$ plus a quadratic regularization term $E_W$. This particular form regularization is known as *L2 regularization* or *weight decay* as it limits the magnitude of weights $w_j$. The contribution of the regularization term is determined by the ratio $\\alpha / \\beta$.\n",
        "\n",
        "### Posterior predictive distribution\n",
        "\n",
        "For making a prediction $t$ at a new location $\\mathbf{x}$ we use the posterior predictive distribution which is defined as\n",
        "\n",
        "$$\n",
        "p(t \\lvert \\mathbf{x}, \\mathbf{t}, \\alpha, \\beta) =\n",
        "\\int{p(t \\lvert \\mathbf{x}, \\mathbf{w}, \\beta) p(\\mathbf{w} \\lvert \\mathbf{t}, \\alpha, \\beta) d\\mathbf{w}} \\tag{14}\n",
        "$$\n",
        "\n",
        "The posterior predictive distribution includes uncertainty about parameters $\\mathbf{w}$ into predictions by weighting the conditional distribution $p(t \\lvert \\mathbf{x}, \\mathbf{w}, \\beta)$ with the posterior probability of weights $p(\\mathbf{w} \\lvert \\mathbf{t}, \\alpha, \\beta)$ over the entire weight parameter space. By using the predictive distribution we're not only getting the expected value of $t$ at a new location $\\mathbf{x}$ but also the uncertainty for that prediction. In our special case, the posterior predictive distribution is a Gaussian distribution\n",
        "\n",
        "$$\n",
        "p(t \\lvert \\mathbf{x}, \\mathbf{t}, \\alpha, \\beta) =\n",
        "\\mathcal{N}(t \\lvert \\mathbf{m}_N^T \\boldsymbol\\phi(\\mathbf{x}), \\sigma_N^2(\\mathbf{x})) \\tag{15}\n",
        "$$\n",
        "\n",
        "where mean $\\mathbf{m}_N^T \\boldsymbol\\phi(\\mathbf{x})$ is the regression function after $N$ observations and $\\sigma_N^2(\\mathbf{x})$ is the corresponding predictive variance\n",
        "\n",
        "$$\n",
        "\\sigma_N^2(\\mathbf{x}) = {1 \\over \\beta} + \\boldsymbol\\phi(\\mathbf{x})^T \\mathbf{S}_N \\boldsymbol\\phi(\\mathbf{x}) \\tag{16}\n",
        "$$\n",
        "\n",
        "The first term in $(16)$ represents the inherent noise in the data and the second term covers the uncertainty about parameters $\\mathbf{w}$. So far, we have assumed that the values of $\\alpha$ and $\\beta$ are known. In a fully Bayesian treatment, however, we should define priors over $\\alpha$ and $\\beta$ and use the corresponding posteriors to additionally include uncertainties about $\\alpha$ and $\\beta$ into predictions. Unfortunately, complete integration over all three parameters $\\mathbf{w}$, $\\alpha$ and $\\beta$ is analytically intractable and we have to use another approach.\n",
        "\n",
        "### Evidence function\n",
        "\n",
        "Estimates for $\\alpha$ and $\\beta$ can alternatively be obtained by first integrating the product of likelihood and prior over parameters $\\mathbf{w}$\n",
        "\n",
        "$$\n",
        "p(\\mathbf{t} \\lvert \\alpha, \\beta) =\n",
        "\\int{p(\\mathbf{t} \\lvert \\mathbf{w}, \\beta) p(\\mathbf{w} \\lvert \\alpha) d\\mathbf{w}} \\tag{17}\n",
        "$$\n",
        "\n",
        "and then maximizing the resulting *marginal likelihood* or *evidence function* w.r.t. $\\alpha$ and $\\beta$. This approach is known as [empirical Bayes](https://en.wikipedia.org/wiki/Empirical_Bayes_method). It can be shown that this is a good approximation for a fully Bayesian treatment if the posterior for $\\alpha$ and $\\beta$ is sharply peaked around the most probable value and the prior is relatively flat which is often a reasonable assumption. Integrating over model parameters or using a good approximation for it allows us to estimate values for $\\alpha$ and $\\beta$, and hence the regularization strength $\\alpha / \\beta$, from training data alone i.e. without using a validation set.\n",
        "\n",
        "The log of the marginal likelihood is given by\n",
        "\n",
        "$$\n",
        "\\log p(\\mathbf{t} \\lvert \\alpha, \\beta) = {M \\over 2} \\log \\alpha + {N \\over 2} \\log \\beta -\n",
        "E(\\mathbf{m}_N) - {1 \\over 2} \\log \\lvert \\mathbf{S}_N^{-1}\\rvert - {N \\over 2} \\log {2 \\pi} \\tag{18}\n",
        "$$\n",
        "\n",
        "where\n",
        "\n",
        "$$\n",
        "E(\\mathbf{m}_N) = {\\beta \\over 2} \\lVert \\mathbf{t} - \\boldsymbol\\Phi \\mathbf{m}_N \\rVert^2 +\n",
        "{\\alpha \\over 2} \\mathbf{m}_N^T \\mathbf{m}_N \\tag{19}\n",
        "$$\n",
        "\n",
        "For completeness, the relationship between evidence, likelihood, prior, posterior is of course given by Bayes' theorem\n",
        "\n",
        "$$\n",
        "p(\\mathbf{w} \\lvert \\mathbf{t}, \\alpha, \\beta) =\n",
        "{p(\\mathbf{t} \\lvert \\mathbf{w}, \\beta) p(\\mathbf{w} \\lvert \\alpha) \\over p(\\mathbf{t} \\lvert \\alpha, \\beta)}  \\tag{20}\n",
        "$$\n",
        "\n",
        "#### Maximization\n",
        "\n",
        "Maximization of the log marginal likelihood w.r.t. $\\alpha$ and $\\beta$ gives the following implicit solutions.\n",
        "\n",
        "$$\n",
        "\\alpha = {\\gamma \\over \\mathbf{m}_N^T \\mathbf{m}_N} \\tag{21}\n",
        "$$\n",
        "\n",
        "and\n",
        "\n",
        "$$\n",
        "{1 \\over \\beta} = {1 \\over N - \\gamma} \\sum_{i=1}^{N}(t_i - \\mathbf{m}_N^T \\boldsymbol\\phi(\\mathbf{x}_i))^2 \\tag{22}\n",
        "$$\n",
        "\n",
        "where\n",
        "\n",
        "$$\n",
        "\\gamma = \\sum_{i=0}^{M-1} {\\lambda_i \\over \\alpha + \\lambda_i} \\tag{23}\n",
        "$$\n",
        "\n",
        "\n",
        "and $\\lambda_i$ are the [eigenvalues](https://en.wikipedia.org/wiki/Eigenvalues_and_eigenvectors) of $\\beta \\boldsymbol\\Phi^T \\boldsymbol\\Phi$. The solutions are implicit because $\\alpha$ and $\\gamma$ as well as $\\beta$ and $\\gamma$ depend on each other. Solutions for $\\alpha$ and $\\beta$ can therefore be obtained by starting with initial values for these parameters and then iterating over the above equations until convergence.\n",
        "\n",
        "#### Evaluation\n",
        "\n",
        "Integration over model parameters also makes models of different complexity directly comparable by evaluating their evidence function on training data alone without needing a validation set. Further below we'll see an example how polynomial models of different complexity (i.e. different polynomial degree) can be compared directly by evaluating their evidence function alone. The highest evidence is usually obtained for models of intermediate complexity i.e. for models whose complexity is just high enough for explaining the data sufficiently well."
      ]
    },
    {
      "cell_type": "code",
      "execution_count": null,
      "metadata": {
        "id": "mgNdDZMsa2Cq"
      },
      "outputs": [],
      "source": [
        "import numpy as np\n",
        "import matplotlib.pyplot as plt\n",
        "\n",
        "from scipy import stats\n",
        "\n",
        "\n",
        "def plot_data(x, t):\n",
        "    plt.scatter(x, t, marker='o', c=\"k\", s=20)\n",
        "\n",
        "\n",
        "def plot_truth(x, y, label='Truth'):\n",
        "    plt.plot(x, y, 'k--', label=label)\n",
        "\n",
        "\n",
        "def plot_predictive(x, y, std, y_label='Prediction', std_label='Uncertainty', plot_xy_labels=True):\n",
        "    y = y.ravel()\n",
        "    std = std.ravel()\n",
        "\n",
        "    plt.plot(x, y, label=y_label)\n",
        "    plt.fill_between(x.ravel(), y + std, y - std, alpha = 0.5, label=std_label)\n",
        "\n",
        "    if plot_xy_labels:\n",
        "        plt.xlabel('x')\n",
        "        plt.ylabel('y')\n",
        "\n",
        "\n",
        "def plot_posterior_samples(x, ys, plot_xy_labels=True):\n",
        "    plt.plot(x, ys[:, 0], 'r-', alpha=0.5, label='Post. samples')\n",
        "    for i in range(1, ys.shape[1]):\n",
        "        plt.plot(x, ys[:, i], 'r-', alpha=0.5)\n",
        "\n",
        "    if plot_xy_labels:\n",
        "        plt.xlabel('x')\n",
        "        plt.ylabel('y')\n",
        "\n",
        "\n",
        "def plot_posterior(mean, cov, w0, w1):\n",
        "    resolution = 100\n",
        "\n",
        "    grid_x = grid_y = np.linspace(-1, 1, resolution)\n",
        "    grid_flat = np.dstack(np.meshgrid(grid_x, grid_y)).reshape(-1, 2)\n",
        "\n",
        "    densities = stats.multivariate_normal.pdf(grid_flat, mean=mean.ravel(), cov=cov).reshape(resolution, resolution)\n",
        "    plt.imshow(densities, origin='lower', extent=(-1, 1, -1, 1))\n",
        "    plt.scatter(w0, w1, marker='x', c=\"r\", s=20, label='Truth')\n",
        "\n",
        "    plt.xlabel('w0')\n",
        "    plt.ylabel('w1')\n",
        "\n",
        "\n",
        "def print_comparison(title, a, b, a_prefix='np', b_prefix='br'):\n",
        "    print(title)\n",
        "    print('-' * len(title))\n",
        "    print(f'{a_prefix}:', a)\n",
        "    print(f'{b_prefix}:', b)\n",
        "    print()"
      ]
    },
    {
      "cell_type": "markdown",
      "metadata": {
        "id": "42BJED2gaW9N"
      },
      "source": [
        "## Implementation\n",
        "\n",
        "### Posterior and posterior predictive distribution\n",
        "\n",
        "We start with the implementation of the posterior and posterior predictive distributions. Function `posterior` computes the mean and covariance matrix of the posterior distribution and function `posterior_predictive` computes the mean and the variances of the posterior predictive distribution. Here, readability of code and similarity to the mathematical definitions has higher priority than optimizations."
      ]
    },
    {
      "cell_type": "code",
      "execution_count": null,
      "metadata": {
        "id": "WeoQM2PoaW9N"
      },
      "outputs": [],
      "source": [
        "import numpy as np\n",
        "\n",
        "\n",
        "def posterior(Phi, t, alpha, beta, return_inverse=False):\n",
        "    \"\"\"Computes mean and covariance matrix of the posterior distribution.\"\"\"\n",
        "    S_N_inv = alpha * np.eye(Phi.shape[1]) + beta * Phi.T.dot(Phi)\n",
        "    S_N = np.linalg.inv(S_N_inv)\n",
        "    m_N = beta * S_N.dot(Phi.T).dot(t)\n",
        "\n",
        "    if return_inverse:\n",
        "        return m_N, S_N, S_N_inv\n",
        "    else:\n",
        "        return m_N, S_N\n",
        "\n",
        "\n",
        "def posterior_predictive(Phi_test, m_N, S_N, beta):\n",
        "    \"\"\"Computes mean and variances of the posterior predictive distribution.\"\"\"\n",
        "    y = Phi_test.dot(m_N)\n",
        "    # Only compute variances (diagonal elements of covariance matrix)\n",
        "    y_var = 1 / beta + np.sum(Phi_test.dot(S_N) * Phi_test, axis=1)\n",
        "\n",
        "    return y, y_var"
      ]
    },
    {
      "cell_type": "markdown",
      "metadata": {
        "id": "GCb9FsQeaW9O"
      },
      "source": [
        "### Example datasets\n",
        "\n",
        "The datasets used in the following examples are based on $N$ scalar observations $x_{i = 1,\\ldots,N}$ which are combined into a $N \\times 1$ matrix $\\mathbf{X}$. Target values $\\mathbf{t}$ are generated from $\\mathbf{X}$ with functions `f` and `g` which also generate random noise whose variance can be specified with the `noise_variance` parameter. We will use `f` for generating noisy samples from a straight line and `g` for generating noisy samples from a sinusoidal function."
      ]
    },
    {
      "cell_type": "code",
      "execution_count": null,
      "metadata": {
        "id": "-XQbfW94aW9O"
      },
      "outputs": [],
      "source": [
        "f_w0 = -0.3\n",
        "f_w1 =  0.5\n",
        "\n",
        "\n",
        "def f(X, noise_variance):\n",
        "    '''Linear function plus noise'''\n",
        "    return \n",
        "\n",
        "\n",
        "def g(X, noise_variance):\n",
        "    '''Sinusoidial function plus noise'''\n",
        "    return \n",
        "\n",
        "\n",
        "def noise(size, variance):\n",
        "    return np.random.normal(scale=np.sqrt(variance), size=size)"
      ]
    },
    {
      "cell_type": "markdown",
      "metadata": {
        "id": "3zbefEqxaW9O"
      },
      "source": [
        "### Basis functions\n",
        "\n",
        "For straight line fitting, a model that is linear in its input variable $x$ is sufficient. Hence, we don't need to transform $x$ with a basis function which is equivalent to using an `identity_basis_function`. For fitting a linear model to a sinusoidal dataset we transform input $x$ with `gaussian_basis_function` and later with `polynomial_basis_function`. These non-linear basis functions are necessary to model the non-linear relationship between input $x$ and target $t$. The design matrix $\\boldsymbol\\Phi$ can be computed from observations $\\mathbf{X}$ and a parametric basis function with function `expand`. This function also prepends a column vector $\\mathbf{1}$ according to $\\phi_0(x) = 1$."
      ]
    },
    {
      "cell_type": "code",
      "execution_count": null,
      "metadata": {
        "id": "LBz7b2X4aW9P"
      },
      "outputs": [],
      "source": [
        "def identity_basis_function(x):\n",
        "    return \n",
        "\n",
        "\n",
        "def gaussian_basis_function(x, mu, sigma=0.1):\n",
        "    return np.exp(-0.5 * (x - mu) ** 2 / sigma ** 2)\n",
        "\n",
        "\n",
        "def polynomial_basis_function(x, power):\n",
        "    return \n",
        "\n",
        "\n",
        "def expand(x, bf, bf_args=None):\n",
        "    if bf_args is None:\n",
        "        return np.concatenate([np.ones(x.shape), bf(x)], axis=1)\n",
        "    else:\n",
        "        return np.concatenate([np.ones(x.shape)] + [bf(x, bf_arg) for bf_arg in bf_args], axis=1)"
      ]
    },
    {
      "cell_type": "markdown",
      "metadata": {
        "id": "dz0X2iodaW9P"
      },
      "source": [
        "### Straight line fitting\n",
        "\n",
        "For straight line fitting, we use a linear regression model of the form $y(x, \\mathbf{w}) = w_0 + w_1 x$ and do Bayesian inference for model parameters $\\mathbf{w}$. Predictions are made with the posterior predictive distribution. Since this model has only two parameters, $w_0$ and $w_1$, we can visualize the posterior density in 2D which is done in the first column of the following output. Rows use an increasing number of training data from a training dataset."
      ]
    },
    {
      "cell_type": "code",
      "execution_count": null,
      "metadata": {
        "colab": {
          "base_uri": "https://localhost:8080/",
          "height": 872
        },
        "id": "Gy-wbnQOaW9P",
        "outputId": "abe15143-9afa-4e7c-f7f5-7e5bb3b67b15"
      },
      "outputs": [],
      "source": [
        "\n",
        "import matplotlib.pyplot as plt\n",
        "%matplotlib inline\n",
        "\n",
        "# Training dataset sizes\n",
        "N_list = [1, 3, 20]\n",
        "\n",
        "beta = 25.0\n",
        "alpha = 2.0\n",
        "\n",
        "# Training observations in [-1, 1)\n",
        "X = np.random.rand(N_list[-1], 1) * 2 - 1\n",
        "\n",
        "# Training target values\n",
        "t = f(X, noise_variance=1/beta)\n",
        "\n",
        "# Test observations\n",
        "X_test = np.linspace(-1, 1, 100).reshape(-1, 1)\n",
        "\n",
        "# Function values without noise\n",
        "y_true = f(X_test, noise_variance=0)\n",
        "\n",
        "# Design matrix of test observations\n",
        "Phi_test = expand(X_test, identity_basis_function)\n",
        "\n",
        "plt.figure(figsize=(15, 10))\n",
        "plt.subplots_adjust(hspace=0.4)\n",
        "\n",
        "for i, N in enumerate(N_list):\n",
        "    X_N = X[:N]\n",
        "    t_N = t[:N]\n",
        "\n",
        "    # Design matrix of training observations\n",
        "    \n",
        "\n",
        "    # Mean and covariance matrix of posterior\n",
        "    \n",
        "\n",
        "    # Mean and variances of posterior predictive\n",
        "    \n",
        "\n",
        "    # Draw 5 random weight samples from posterior and compute y values\n",
        "    \n",
        "\n",
        "    plt.subplot(len(N_list), 3, i * 3 + 1)\n",
        "    plot_posterior(m_N, S_N, f_w0, f_w1)\n",
        "    plt.title(f'Posterior density (N = {N})')\n",
        "    plt.legend()\n",
        "\n",
        "    plt.subplot(len(N_list), 3, i * 3 + 2)\n",
        "    plot_data(X_N, t_N)\n",
        "    plot_truth(X_test, y_true)\n",
        "    plot_posterior_samples(X_test, y_samples)\n",
        "    plt.ylim(-1.5, 1.0)\n",
        "    plt.legend()\n",
        "\n",
        "    plt.subplot(len(N_list), 3, i * 3 + 3)\n",
        "    plot_data(X_N, t_N)\n",
        "    plot_truth(X_test, y_true, label=None)\n",
        "    plot_predictive(X_test, y, np.sqrt(y_var))\n",
        "    plt.ylim(-1.5, 1.0)\n",
        "    plt.legend()"
      ]
    },
    {
      "cell_type": "markdown",
      "metadata": {
        "id": "HrzVwIUSaW9Q"
      },
      "source": [
        "In the second column, 5 random weight samples are drawn from the posterior and the corresponding regression lines are plotted in red color. The line resulting from the true parameters, `f_w0` and `f_w1` is plotted as dashed black line and the noisy training data as black dots. The third column shows the mean and the standard deviation of the posterior predictive distribution along with the true model and the training data.\n",
        "\n",
        "It can be clearly seen how the posterior density in the first column gets more sharply peaked as the size of the dataset increases which corresponds to a decrease in the sample variance in the second column and to a decrease in prediction uncertainty as shown in the third column. Also note how prediction uncertainty is higher in regions of less observations.\n",
        "\n",
        "### Gaussian basis functions\n",
        "\n",
        "The following example demonstrates how to fit a Gaussian basis function model to a noisy sinusoidal dataset. It uses 9 Gaussian basis functions with mean values equally distributed over $[0, 1]$ each having a standard deviation of $0.1$. Inference for parameters $\\mathbf{w}$ is done in the same way as in the previous example except that we now infer values for 10 parameters (bias term $w_0$ and $w_1,\\ldots,w_9$ for the 9 basis functions) instead of 2. We therefore cannot display the posterior density unless we selected 2 parameters at random."
      ]
    },
    {
      "cell_type": "code",
      "execution_count": null,
      "metadata": {
        "colab": {
          "base_uri": "https://localhost:8080/",
          "height": 855
        },
        "id": "4UuX4zg2aW9Q",
        "outputId": "980fe160-a4f1-44e5-b572-541e93542186"
      },
      "outputs": [],
      "source": [
        "N_list = [3, 8, 20]\n",
        "\n",
        "beta = 25.0\n",
        "alpha = 2.0\n",
        "\n",
        "# Training observations in [-1, 1)\n",
        "X = np.random.rand(N_list[-1], 1)\n",
        "\n",
        "# Training target values\n",
        "t = g(X, noise_variance=1/beta)\n",
        "\n",
        "# Test observations\n",
        "X_test = np.linspace(0, 1, 100).reshape(-1, 1)\n",
        "\n",
        "# Function values without noise\n",
        "y_true = g(X_test, noise_variance=0)\n",
        "\n",
        "# Design matrix of test observations\n",
        "Phi_test = expand(X_test, bf=gaussian_basis_function, bf_args=np.linspace(0, 1, 9))\n",
        "\n",
        "plt.figure(figsize=(10, 10))\n",
        "plt.subplots_adjust(hspace=0.4)\n",
        "\n",
        "for i, N in enumerate(N_list):\n",
        "    X_N = X[:N]\n",
        "    t_N = t[:N]\n",
        "\n",
        "    # Design matrix of training observations\n",
        "    Phi_N = expand(X_N, bf=gaussian_basis_function, bf_args=np.linspace(0, 1, 9))\n",
        "\n",
        "    # Mean and covariance matrix of posterior\n",
        "    m_N, S_N = posterior(Phi_N, t_N, alpha, beta)\n",
        "\n",
        "    # Mean and variances of posterior predictive\n",
        "    y, y_var = posterior_predictive(Phi_test, m_N, S_N, beta)\n",
        "\n",
        "    # Draw 5 random weight samples from posterior and compute y values\n",
        "    w_samples = np.random.multivariate_normal(m_N.ravel(), S_N, 5).T\n",
        "    y_samples = Phi_test.dot(w_samples)\n",
        "\n",
        "    plt.subplot(len(N_list), 2, i * 2 + 1)\n",
        "    plot_data(X_N, t_N)\n",
        "    plot_truth(X_test, y_true)\n",
        "    plot_posterior_samples(X_test, y_samples)\n",
        "    plt.ylim(-1.0, 2.0)\n",
        "    plt.legend()\n",
        "\n",
        "    plt.subplot(len(N_list), 2, i * 2 + 2)\n",
        "    plot_data(X_N, t_N)\n",
        "    plot_truth(X_test, y_true, label=None)\n",
        "    plot_predictive(X_test, y, np.sqrt(y_var))\n",
        "    plt.ylim(-1.0, 2.0)\n",
        "    plt.legend()"
      ]
    },
    {
      "cell_type": "markdown",
      "metadata": {
        "id": "HdyNVRM_aW9R"
      },
      "source": [
        "Again, as the size of the dataset increases the posterior sample variance and the prediction uncertainty decreases. Also, regions with less observations have higher prediction uncertainty.\n",
        "\n",
        "### Evidence evaluation\n",
        "\n",
        "As already mentioned, the evidence function or marginal likelihood can be used to compare models of different complexity using training data alone. This is shown here for 10 polynomial basis function models of different degree using a sinusoidal dataset generated with `g`. For evaluating the log marginal likelihood we implement $(18)$ as `log_marginal_likelihood` function."
      ]
    },
    {
      "cell_type": "code",
      "execution_count": null,
      "metadata": {
        "id": "A6fUEIU0aW9R"
      },
      "outputs": [],
      "source": [
        "def log_marginal_likelihood(Phi, t, alpha, beta):\n",
        "    \"\"\"Computes the log of the marginal likelihood.\"\"\"\n",
        "    N, M = Phi.shape\n",
        "\n",
        "    m_N, _, S_N_inv = posterior(Phi, t, alpha, beta, return_inverse=True)\n",
        "\n",
        "    E_D = beta * np.sum((t - Phi.dot(m_N)) ** 2)\n",
        "    E_W = alpha * np.sum(m_N ** 2)\n",
        "\n",
        "    score = M * np.log(alpha) + \\\n",
        "            N * np.log(beta) - \\\n",
        "            E_D - \\\n",
        "            E_W - \\\n",
        "            np.log(np.linalg.det(S_N_inv)) - \\\n",
        "            N * np.log(2 * np.pi)\n",
        "\n",
        "    return 0.5 * score"
      ]
    },
    {
      "cell_type": "markdown",
      "metadata": {
        "id": "juTOrNrDaW9R"
      },
      "source": [
        "The 10 polynomial basis function models of degrees 0-9 are compared based on the log marginal likelihood computed with a dataset of 10 observations. We still assume that the values of $\\alpha$ and $\\beta$ are known and will see in the next section how they can be inferred by maximizing the log marginal likelihood. When plotting the posterior predictive distribution of the polynomial models we can see that a model of degree 3 has already sufficient complexity to explain the data reasonably well."
      ]
    },
    {
      "cell_type": "code",
      "execution_count": null,
      "metadata": {
        "colab": {
          "base_uri": "https://localhost:8080/",
          "height": 671
        },
        "id": "ejD9WLOzaW9R",
        "outputId": "50960fd9-9fae-45ac-c48d-a35c9bc8b604",
        "scrolled": false
      },
      "outputs": [],
      "source": [
        "N = 10\n",
        "\n",
        "beta = 1 / (0.3 ** 2)\n",
        "alpha = 0.005\n",
        "\n",
        "degree = 9\n",
        "degrees = range(degree + 1)\n",
        "\n",
        "X = np.linspace(0, 1, N).reshape(-1, 1)\n",
        "t = g(X, noise_variance=1/beta)\n",
        "\n",
        "Phi = expand(X, bf=polynomial_basis_function, bf_args=degrees[1:])\n",
        "Phi_test = expand(X_test, bf=polynomial_basis_function, bf_args=degrees[1:])\n",
        "\n",
        "plt.figure(figsize=(18, 8))\n",
        "plt.subplots_adjust(hspace=0.4)\n",
        "\n",
        "for d in degrees:\n",
        "    up = d + 1\n",
        "    m_N, S_N = posterior(Phi[:,:up], t, alpha, beta)\n",
        "    y, y_var = posterior_predictive(Phi_test[:,:up], m_N, S_N, beta)\n",
        "\n",
        "    plt.subplot(2, 5, up)\n",
        "    plot_data(X, t)\n",
        "    plot_truth(X_test, y_true, label=None)\n",
        "    plot_predictive(X_test, y, np.sqrt(y_var), y_label=None, std_label=None, plot_xy_labels=False)\n",
        "    plt.title(f'Degree = {d}')\n",
        "    plt.ylim(-1.0, 2.0)"
      ]
    },
    {
      "cell_type": "markdown",
      "metadata": {
        "id": "X2H2ALahaW9R"
      },
      "source": [
        "We also see how polynomial models of higher degree do not overfit to the dataset which is a consequence of using a prior over model parameters that favors small(er) parameter values. This is equivalent to minimizing a sum-of-squares error function plus a quadratic regularization term whose strength is given by ratio $\\alpha / \\beta$ as can be seen from equation $(12)$.\n",
        "\n",
        "When evaluating the log marginal likelihood for all 10 polynomial models we usually obtain the highest value for models of degree 3 or 4 (depending on the non-deterministic part i.e. noise of the generated dataset results may vary slightly). This is consistent with the observation that a polynomial model of degree 3 already explains the data sufficiently well and confirms that marginal likelihood evaluation favors models of intermediate complexity."
      ]
    },
    {
      "cell_type": "code",
      "execution_count": null,
      "metadata": {
        "colab": {
          "base_uri": "https://localhost:8080/",
          "height": 449
        },
        "id": "ExkFy-ZRaW9R",
        "outputId": "9c7e663b-c839-4a89-850e-7e5bd708a326"
      },
      "outputs": [],
      "source": [
        "mlls = []\n",
        "\n",
        "for d in degrees:\n",
        "    mll = log_marginal_likelihood(Phi[:,:d+1], t, alpha=alpha, beta=beta)\n",
        "    mlls.append(mll)\n",
        "\n",
        "degree_max = np.argmax(mlls)\n",
        "\n",
        "plt.plot(degrees, mlls)\n",
        "plt.axvline(x=degree_max, ls='--', c='k', lw=1)\n",
        "plt.xticks(range(0, 10))\n",
        "plt.xlabel('Polynomial degree')\n",
        "plt.ylabel('Log marginal likelihood');"
      ]
    },
    {
      "cell_type": "markdown",
      "metadata": {
        "id": "lXl73pZiaW9R"
      },
      "source": [
        "It is also interesting to see that a polynomial model of degree 1 (straight line) seems to explain the data better than a model of degree 2. This is because the data-generating sinusoidal function has no even terms in a polynomial expansion. A model of degree 2 therefore only adds complexity without being able to explain the data better. This higher complexity is penalized by the evidence function (see also section 3.4. in [PRML](https://www.microsoft.com/en-us/research/uploads/prod/2006/01/Bishop-Pattern-Recognition-and-Machine-Learning-2006.pdf))."
      ]
    },
    {
      "cell_type": "markdown",
      "metadata": {
        "id": "aEHDYn43aW9S"
      },
      "source": [
        "### Evidence maximization"
      ]
    },
    {
      "cell_type": "markdown",
      "metadata": {
        "id": "1rFsPg1TaW9S"
      },
      "source": [
        "So far we have assumed that values of $\\alpha$ and $\\beta$ are known. In most situations however, they are unknown and must be inferred. Iterating over equations $(21)$ and $(22)$ until convergence jointly infers the posterior distribution over parameters $\\mathbf{w}$ and optimal values for parameters $\\alpha$ and $\\beta$. This is implemented in the following `fit` function. We start with small values for $\\alpha$ and $\\beta$ corresponding to a low precision (= high variance) of prior $(8)$ and conditional density $(3)$."
      ]
    },
    {
      "cell_type": "code",
      "execution_count": null,
      "metadata": {
        "id": "PSDliuV7aW9S"
      },
      "outputs": [],
      "source": [
        "def fit(Phi, t, alpha_0=1e-5, beta_0=1e-5, max_iter=200, rtol=1e-5, verbose=False):\n",
        "    \"\"\"\n",
        "    Jointly infers the posterior sufficient statistics and optimal values\n",
        "    for alpha and beta by maximizing the log marginal likelihood.\n",
        "\n",
        "    Args:\n",
        "        Phi: Design matrix (N x M).\n",
        "        t: Target value array (N x 1).\n",
        "        alpha_0: Initial value for alpha.\n",
        "        beta_0: Initial value for beta.\n",
        "        max_iter: Maximum number of iterations.\n",
        "        rtol: Convergence criterion.\n",
        "\n",
        "    Returns:\n",
        "        alpha, beta, posterior mean, posterior covariance.\n",
        "    \"\"\"\n",
        "\n",
        "    N, M = Phi.shape\n",
        "\n",
        "    eigenvalues_0 = np.linalg.eigvalsh(Phi.T.dot(Phi))\n",
        "\n",
        "    beta = beta_0\n",
        "    alpha = alpha_0\n",
        "\n",
        "    for i in range(max_iter):\n",
        "        beta_prev = beta\n",
        "        alpha_prev = alpha\n",
        "\n",
        "        eigenvalues = eigenvalues_0 * beta\n",
        "\n",
        "        m_N, S_N, S_N_inv = posterior(Phi, t, alpha, beta, return_inverse=True)\n",
        "\n",
        "        gamma = np.sum(eigenvalues / (eigenvalues + alpha))\n",
        "        alpha = gamma / np.sum(m_N ** 2)\n",
        "\n",
        "        beta_inv = 1 / (N - gamma) * np.sum((t - Phi.dot(m_N)) ** 2)\n",
        "        beta = 1 / beta_inv\n",
        "\n",
        "        if np.isclose(alpha_prev, alpha, rtol=rtol) and np.isclose(beta_prev, beta, rtol=rtol):\n",
        "            if verbose:\n",
        "                print(f'Convergence after {i + 1} iterations.')\n",
        "            return alpha, beta, m_N, S_N\n",
        "\n",
        "    if verbose:\n",
        "        print(f'Stopped after {max_iter} iterations.')\n",
        "    return alpha, beta, m_N, S_N"
      ]
    },
    {
      "cell_type": "markdown",
      "metadata": {
        "id": "Aju5ZuGGaW9S"
      },
      "source": [
        "We now generate a sinusoidal training dataset of size 30 with variance $\\beta^{-1} = 0.3^2$ and then use `fit` to obtain the posterior over parameters $\\mathbf{w}$ and optimal values for $\\alpha$ and $\\beta$. The used regression model is a polynomial model of degree 4."
      ]
    },
    {
      "cell_type": "code",
      "execution_count": null,
      "metadata": {
        "colab": {
          "base_uri": "https://localhost:8080/"
        },
        "id": "couoetpFaW9S",
        "outputId": "09c9b2ac-231b-4f76-a8fd-1bc213a425ba"
      },
      "outputs": [],
      "source": [
        "N = 30\n",
        "\n",
        "degree = 4\n",
        "\n",
        "X = np.linspace(0, 1, N).reshape(-1, 1)\n",
        "t = g(X, noise_variance=0.3 ** 2)\n",
        "\n",
        "Phi = expand(X, bf=polynomial_basis_function, bf_args=range(1, degree + 1))\n",
        "\n",
        "alpha, beta, m_N, S_N = fit(Phi, t, rtol=1e-5, verbose=True)"
      ]
    },
    {
      "cell_type": "markdown",
      "metadata": {
        "id": "CNoUpnrkaW9S"
      },
      "source": [
        "Alternatively, we can also use [`BayesianRidge`](https://scikit-learn.org/stable/modules/generated/sklearn.linear_model.BayesianRidge.html#sklearn.linear_model.BayesianRidge) from scikit-learn for Bayesian regression. The `fit` and `predict` methods of this estimator are on the same abstraction level as our `fit` and `posterior_predictive` functions. The implementation of `BayesianRidge` is very similar to our implementation except that it uses [Gamma](https://en.wikipedia.org/wiki/Gamma_distribution) priors over parameters $\\alpha$ and $\\beta$. The default hyper-parameter values of the Gamma priors assign high probability density to low values for $\\alpha$ and $\\beta$. In our implementation, we simply start optimization from low $\\alpha$ and $\\beta$ values. Another difference is that `BayesianRidge` uses different parameter names (`lambda` instead of `alpha` and `alpha` instead of `beta`, see also section [Bayesian Regression](https://scikit-learn.org/stable/modules/linear_model.html#bayesian-regression) in the scikit-learn user guide)."
      ]
    },
    {
      "cell_type": "code",
      "execution_count": null,
      "metadata": {
        "colab": {
          "base_uri": "https://localhost:8080/"
        },
        "id": "cLzLjs7jaW9T",
        "outputId": "7e02889f-4fe2-46e3-e70a-b7804a5a20dd"
      },
      "outputs": [],
      "source": [
        "from sklearn.linear_model import BayesianRidge\n",
        "\n",
        "br = BayesianRidge(fit_intercept=False, tol=1e-5, verbose=True)\n",
        "br.fit(Phi, t.ravel());"
      ]
    },
    {
      "cell_type": "markdown",
      "metadata": {
        "id": "T2ChR-afaW9T"
      },
      "source": [
        "When comparing the results from our implementation with those from `BayesianRidge` we see that they are almost identical. In the following, inferred values for $\\alpha$, $\\beta$ and $\\mathbf{m}_N$ are compared as well as predictions and their uncertainties. Results prefixed with `np` are those from our implementation, results prefixed with `br` are those obtained with `BayesianRidge`."
      ]
    },
    {
      "cell_type": "code",
      "execution_count": null,
      "metadata": {
        "colab": {
          "base_uri": "https://localhost:8080/"
        },
        "id": "x4Dr0CIjaW9T",
        "outputId": "c8455c47-878b-49aa-87a7-3a3d02d550de"
      },
      "outputs": [],
      "source": [
        "print_comparison('Alpha', alpha, br.lambda_)"
      ]
    },
    {
      "cell_type": "code",
      "execution_count": null,
      "metadata": {
        "colab": {
          "base_uri": "https://localhost:8080/"
        },
        "id": "2xKZG5lgaW9T",
        "outputId": "e0a51fe5-38f9-4359-937f-921d3863f5ca"
      },
      "outputs": [],
      "source": [
        "print_comparison('Beta', beta, br.alpha_)"
      ]
    },
    {
      "cell_type": "code",
      "execution_count": null,
      "metadata": {
        "colab": {
          "base_uri": "https://localhost:8080/"
        },
        "id": "AHab4nY7aW9T",
        "outputId": "bdff71ea-2552-4635-9443-264bd30aeffb"
      },
      "outputs": [],
      "source": [
        "print_comparison('Weights', m_N.ravel(), br.coef_)"
      ]
    },
    {
      "cell_type": "code",
      "execution_count": null,
      "metadata": {
        "id": "Rfb_CmvTaW9T"
      },
      "outputs": [],
      "source": [
        "# Test values at x = 0.3 and x = 0.7\n",
        "X_test = np.array([[0.3], [0.7]])\n",
        "\n",
        "# Design matrix of test values\n",
        "Phi_test = expand(X_test, bf=polynomial_basis_function, bf_args=range(1, degree + 1))"
      ]
    },
    {
      "cell_type": "code",
      "execution_count": null,
      "metadata": {
        "colab": {
          "base_uri": "https://localhost:8080/"
        },
        "id": "jf4Zc56waW9T",
        "outputId": "dff2846c-41d9-4d3d-9dc6-10f8b7101383"
      },
      "outputs": [],
      "source": [
        "y_np_mean, y_np_var = posterior_predictive(Phi_test, m_N, S_N, beta)\n",
        "y_br_mean, y_br_std = br.predict(Phi_test, return_std=True)\n",
        "\n",
        "print_comparison('Prediction mean', y_np_mean.ravel(), y_br_mean)\n",
        "print_comparison('Prediction std', np.sqrt(y_np_var), y_br_std)"
      ]
    },
    {
      "cell_type": "markdown",
      "metadata": {
        "id": "P08Fz0EYaW9U"
      },
      "source": [
        "An alternative, non-parametric approach to Bayesian regression are [Gaussian processes](https://distill.pub/2019/visual-exploration-gaussian-processes/) which infer distributions over functions directly instead of distributions over parameters of parametric models."
      ]
    }
  ],
  "metadata": {
    "colab": {
      "provenance": []
    },
    "kernelspec": {
      "display_name": "Python 3",
      "language": "python",
      "name": "python3"
    },
    "language_info": {
      "codemirror_mode": {
        "name": "ipython",
        "version": 3
      },
      "file_extension": ".py",
      "mimetype": "text/x-python",
      "name": "python",
      "nbconvert_exporter": "python",
      "pygments_lexer": "ipython3",
      "version": "3.11.4"
    }
  },
  "nbformat": 4,
  "nbformat_minor": 0
}
