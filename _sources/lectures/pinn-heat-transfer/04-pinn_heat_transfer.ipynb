{
  "cells": [
    {
      "cell_type": "markdown",
      "metadata": {
        "id": "Dax5EjFGK3IP"
      },
      "source": [
        "# 04: PINN - Heat transfer"
      ]
    },
    {
      "cell_type": "code",
      "execution_count": 12,
      "metadata": {
        "id": "rBVKO2_2FkIW"
      },
      "outputs": [],
      "source": [
        "import numpy as np\n",
        "import torch\n",
        "\n",
        "class DataGeneratorXY:\n",
        "    \"\"\" Generates 2D collocation grid for a rectangular domain\n",
        "    \"\"\"\n",
        "    def __init__(self,\n",
        "                 X=[0., 1.],\n",
        "                 Y=[0., 1.],\n",
        "                 targets=['domain', 'bc-left', 'bc-right', 'bc-bot', 'bc-top'],\n",
        "                 num_sample=10000):\n",
        "        'Initialization'\n",
        "        self.Xdomain = X\n",
        "        self.Ydomain = Y\n",
        "        self.targets = targets\n",
        "        self.num_sample = num_sample\n",
        "        self.input_data = None\n",
        "        self.target_data = None\n",
        "        self.set_data()\n",
        "\n",
        "    def __len__(self):\n",
        "        return self.input_data[0].shape[0]\n",
        "\n",
        "    def set_data(self):\n",
        "        self.input_data, self.target_data = self.generate_data()\n",
        "\n",
        "    def get_data(self):\n",
        "        return self.input_data, self.target_data\n",
        "\n",
        "    def generate_data(self):\n",
        "        num_sample = int(self.num_sample/2)\n",
        "        counter = 0\n",
        "\n",
        "        # domain points\n",
        "        x_dom = np.random.uniform(self.Xdomain[0], self.Xdomain[1], num_sample)\n",
        "        y_dom = np.random.uniform(self.Ydomain[0], self.Ydomain[1], num_sample)\n",
        "        ids_dom = np.arange(x_dom.shape[0])\n",
        "        counter += ids_dom.size\n",
        "\n",
        "        # bc points\n",
        "        num_sample_per_edge = int(num_sample/4)\n",
        "\n",
        "        # left bc points\n",
        "        x_bc_left = np.full(num_sample_per_edge, self.Xdomain[0])\n",
        "        y_bc_left = np.random.uniform(self.Ydomain[0], self.Ydomain[1], num_sample_per_edge)\n",
        "        ids_bc_left = np.arange(x_bc_left.shape[0]) + counter\n",
        "        counter += ids_bc_left.size\n",
        "\n",
        "        # right bc points\n",
        "        x_bc_right = np.full(num_sample_per_edge, self.Xdomain[1])\n",
        "        y_bc_right = np.random.uniform(self.Ydomain[0], self.Ydomain[1], num_sample_per_edge)\n",
        "        ids_bc_right = np.arange(x_bc_right.shape[0]) + counter\n",
        "        counter += ids_bc_right.size\n",
        "\n",
        "        # bot bc points\n",
        "        x_bc_bot = np.random.uniform(self.Xdomain[0], self.Xdomain[1], num_sample_per_edge)\n",
        "        y_bc_bot = np.full(num_sample_per_edge, self.Ydomain[0])\n",
        "        ids_bc_bot = np.arange(x_bc_bot.shape[0]) + counter\n",
        "        counter += ids_bc_bot.size\n",
        "\n",
        "        # top bc points\n",
        "        x_bc_top = np.random.uniform(self.Xdomain[0], self.Xdomain[1], num_sample-num_sample_per_edge)\n",
        "        y_bc_top = np.full(num_sample-num_sample_per_edge, self.Ydomain[1])\n",
        "        ids_bc_top = np.arange(x_bc_top.shape[0]) + counter\n",
        "        counter += ids_bc_top.size\n",
        "\n",
        "        ids_bc = np.concatenate([ids_bc_left, ids_bc_right, ids_bc_bot, ids_bc_top])\n",
        "        ids_all = np.concatenate([ids_dom, ids_bc])\n",
        "\n",
        "        ids = {\n",
        "            'domain': ids_dom,\n",
        "            'bc-left': ids_bc_left,\n",
        "            'bc-right': ids_bc_right,\n",
        "            'bc-bot': ids_bc_bot,\n",
        "            'bc-top': ids_bc_top,\n",
        "            'bc': ids_bc,\n",
        "            'all': ids_all\n",
        "        }\n",
        "\n",
        "        assert all([t in ids.keys() for t in self.targets]), \\\n",
        "          'accepted target types: {}'.format(ids.keys())\n",
        "\n",
        "        input_data = [\n",
        "            torch.tensor(np.concatenate([x_dom, x_bc_left, x_bc_right, x_bc_bot, x_bc_top]).reshape(-1,1), dtype=torch.float32, requires_grad=True),\n",
        "            torch.tensor(np.concatenate([y_dom, y_bc_left, y_bc_right, y_bc_bot, y_bc_top]).reshape(-1,1), dtype=torch.float32, requires_grad=True),\n",
        "        ]\n",
        "\n",
        "        total_sample = input_data[0].shape[0]\n",
        "\n",
        "        target_data = []\n",
        "        for i, tp in enumerate(self.targets):\n",
        "            zeros_tensor = torch.zeros(len(ids[tp]), 1, dtype=torch.float32)\n",
        "            target_data.append(\n",
        "                (ids[tp], zeros_tensor)\n",
        "            )\n",
        "\n",
        "        return input_data, target_data\n"
      ]
    },
    {
      "cell_type": "code",
      "execution_count": 19,
      "metadata": {
        "colab": {
          "base_uri": "https://localhost:8080/",
          "height": 725,
          "referenced_widgets": [
            "506984797dcb4328a8663141819ac6fa",
            "64b230cc6c204ec6a88647dbaee3d384",
            "6a2d107705c24840a0ee691eeab53fb8",
            "53a58e4f8ff24284b6e1c16ae2fba176",
            "a5e061d9ce8d4e91bd7d2bfbbb2eb82d",
            "a58e5dffbe3b44ae9c865c655aa5ad7c",
            "7e06e4da409042369928f0796c898b3b",
            "1ec7aebf89b94b4ba9805b641d550a35",
            "de4c88ed1a874fd997fe7332b5a46ef5",
            "63b6482977014677b53ddbf14565487f",
            "d13765518c45432899a65967984c9d73"
          ]
        },
        "id": "vdu4Iyk9E2tb",
        "outputId": "d4f4aac8-ac04-45fd-b2a9-7982fe834f31"
      },
      "outputs": [
        {
          "name": "stderr",
          "output_type": "stream",
          "text": [
            "<ipython-input-19-d159df7bdc83>:67: UserWarning: To copy construct from a tensor, it is recommended to use sourceTensor.clone().detach() or sourceTensor.clone().detach().requires_grad_(True), rather than torch.tensor(sourceTensor).\n",
            "  x_data = torch.tensor(x_data, dtype=torch.float32, requires_grad=True)\n",
            "<ipython-input-19-d159df7bdc83>:68: UserWarning: To copy construct from a tensor, it is recommended to use sourceTensor.clone().detach() or sourceTensor.clone().detach().requires_grad_(True), rather than torch.tensor(sourceTensor).\n",
            "  y_data = torch.tensor(y_data, dtype=torch.float32, requires_grad=True)\n"
          ]
        },
        {
          "data": {
            "application/vnd.jupyter.widget-view+json": {
              "model_id": "506984797dcb4328a8663141819ac6fa",
              "version_major": 2,
              "version_minor": 0
            },
            "text/plain": [
              "Training progress:   0%|          | 0/1000 [00:00<?, ?it/s]"
            ]
          },
          "metadata": {},
          "output_type": "display_data"
        },
        {
          "name": "stdout",
          "output_type": "stream",
          "text": [
            "Epoch 0/1000, Loss: 1.1403765678405762\n",
            "Epoch 100/1000, Loss: 0.2852590084075928\n",
            "Epoch 200/1000, Loss: 0.2204679548740387\n",
            "Epoch 300/1000, Loss: 0.17355327308177948\n",
            "Epoch 400/1000, Loss: 0.13387514650821686\n",
            "Epoch 500/1000, Loss: 0.11003094166517258\n",
            "Epoch 600/1000, Loss: 0.09422235190868378\n",
            "Epoch 700/1000, Loss: 0.09743916988372803\n",
            "Epoch 800/1000, Loss: 0.0716414824128151\n",
            "Epoch 900/1000, Loss: 0.06318959593772888\n"
          ]
        },
        {
          "data": {
            "image/png": "[encoded data removed]",
            "text/plain": [
              "<Figure size 640x480 with 1 Axes>"
            ]
          },
          "metadata": {},
          "output_type": "display_data"
        }
      ],
      "source": [
        "import numpy as np\n",
        "import matplotlib.pyplot as plt\n",
        "import torch\n",
        "import torch.nn as nn\n",
        "import torch.optim as optim\n",
        "from tqdm.notebook import tqdm\n",
        "\n",
        "# Define the neural network model\n",
        "class HeatNet(nn.Module):\n",
        "    def __init__(self):\n",
        "        super(HeatNet, self).__init__()\n",
        "        self.hidden_layers = nn.Sequential(\n",
        "            nn.Linear(2, 40),\n",
        "            nn.Tanh(),\n",
        "            nn.Linear(40, 40),\n",
        "            nn.Tanh(),\n",
        "            nn.Linear(40, 40),\n",
        "            nn.Tanh(),\n",
        "            nn.Linear(40, 40),\n",
        "            nn.Tanh(),\n",
        "            nn.Linear(40, 1)\n",
        "        )\n",
        "\n",
        "    def forward(self, x, y):\n",
        "        x = x.view(-1, 1)\n",
        "        y = y.view(-1, 1)\n",
        "        xy = torch.cat([x, y], dim=1)\n",
        "        T = self.hidden_layers(xy)\n",
        "        return T\n",
        "\n",
        "    def loss_function(self, x, y):\n",
        "        T = self.forward(x, y)\n",
        "        T_x = torch.autograd.grad(T.sum(), x, create_graph=True)[0]\n",
        "        T_y = torch.autograd.grad(T.sum(), y, create_graph=True)[0]\n",
        "        T_xx = torch.autograd.grad(T_x.sum(), x, create_graph=True)[0]\n",
        "        T_yy = torch.autograd.grad(T_y.sum(), y, create_graph=True)[0]\n",
        "        # PDE loss\n",
        "        loss_PDE = ((T_xx + T_yy)**2).mean()\n",
        "\n",
        "        # BC loss\n",
        "        mask_left = (x == 0)\n",
        "        mask_right = (x == 1)\n",
        "        mask_bottom = (y == 0)\n",
        "        mask_top1 = (y == 1) & (x < 0.5)\n",
        "        mask_top2 = (y == 1) & (x >= 0.5)\n",
        "\n",
        "        loss_left = (T[mask_left]**2).mean()\n",
        "        loss_right = (T[mask_right]**2).mean()\n",
        "        loss_bottom = (T[mask_bottom]**2).mean()\n",
        "        loss_top1 = ((T[mask_top1] - 2*x[mask_top1])**2).mean()\n",
        "        loss_top2 = ((T[mask_top2] - (2 - 2*x[mask_top2]))**2).mean()\n",
        "\n",
        "        loss = loss_PDE + loss_left + loss_right + loss_bottom + loss_top1 + loss_top2\n",
        "        return loss\n",
        "\n",
        "# Instantiate the model\n",
        "model = HeatNet()\n",
        "optimizer = optim.Adam(model.parameters(), lr=0.001)\n",
        "\n",
        "# Prepare the training data\n",
        "dg = DataGeneratorXY([0.,1.], [0.,1.], num_sample=10000,\n",
        "                     targets=['domain', 'bc-top', 'bc-top', 'bc-left', 'bc-right', 'bc-bot'])\n",
        "input_data, target_data = dg.get_data()\n",
        "x_data, y_data = input_data\n",
        "\n",
        "# Convert numpy arrays to PyTorch tensors\n",
        "x_data = torch.tensor(x_data, dtype=torch.float32, requires_grad=True)\n",
        "y_data = torch.tensor(y_data, dtype=torch.float32, requires_grad=True)\n",
        "\n",
        "# Training loop\n",
        "losses = []\n",
        "epochs = 1000\n",
        "for epoch in tqdm(range(epochs), desc='Training progress'):\n",
        "    optimizer.zero_grad()\n",
        "    loss = model.loss_function(x_data, y_data)\n",
        "    loss.backward()\n",
        "    optimizer.step()\n",
        "    losses.append(loss.item())\n",
        "    if epoch % 100 == 0:\n",
        "        print(f'Epoch {epoch}/{epochs}, Loss: {loss.item()}')\n",
        "\n",
        "\n",
        "# Plot the loss\n",
        "plt.figure()\n",
        "plt.semilogy(losses)\n",
        "plt.show()\n"
      ]
    },
    {
      "cell_type": "code",
      "execution_count": 20,
      "metadata": {
        "colab": {
          "base_uri": "https://localhost:8080/",
          "height": 433
        },
        "id": "psFxCkHCFlcu",
        "outputId": "16289ad9-7e16-457a-a2a6-3154e90a8707"
      },
      "outputs": [
        {
          "data": {
            "image/png": "[encoded data removed]",
            "text/plain": [
              "<Figure size 640x480 with 2 Axes>"
            ]
          },
          "metadata": {},
          "output_type": "display_data"
        }
      ],
      "source": [
        "x_test, y_test = np.meshgrid(np.linspace(0,1,100), np.linspace(0,1,100))\n",
        "\n",
        "# Flatten and stack tensors\n",
        "# Flatten tensors\n",
        "x_test_flat = torch.tensor(x_test.flatten(), dtype=torch.float32, requires_grad=True)\n",
        "y_test_flat = torch.tensor(y_test.flatten(), dtype=torch.float32, requires_grad=True)\n",
        "\n",
        "# Pass through the model\n",
        "T_test_flat = model(x_test_flat, y_test_flat)\n",
        "T_test = T_test_flat.detach().numpy().reshape(100, 100)\n",
        "\n",
        "plt.pcolor(x_test, y_test, T_test, cmap='seismic', shading='auto')\n",
        "plt.colorbar()\n",
        "plt.show()"
      ]
    },
    {
      "cell_type": "markdown",
      "metadata": {
        "id": "B7xjYzlYK0Pk"
      },
      "source": [
        "### DeepXDE implementation"
      ]
    },
    {
      "cell_type": "code",
      "execution_count": 1,
      "metadata": {
        "id": "jAOIZd6rOT6e"
      },
      "outputs": [],
      "source": [
        "!pip3 install deepxde --quiet"
      ]
    },
    {
      "cell_type": "code",
      "execution_count": 4,
      "metadata": {
        "id": "heRMatswOjOB"
      },
      "outputs": [],
      "source": [
        "!DDE_BACKEND=tensorflow"
      ]
    },
    {
      "cell_type": "code",
      "execution_count": 5,
      "metadata": {
        "colab": {
          "base_uri": "https://localhost:8080/"
        },
        "id": "ePfZ87pWHLv8",
        "outputId": "61cf0576-243c-426e-a64b-5dc12dc0b7b7"
      },
      "outputs": [
        {
          "name": "stdout",
          "output_type": "stream",
          "text": [
            "Compiling model...\n",
            "Building feed-forward neural network...\n",
            "'build' took 0.071709 s\n",
            "\n",
            "'compile' took 0.853986 s\n",
            "\n",
            "Training model...\n",
            "\n",
            "0         [1.24e-02, 3.11e-03, 9.70e-02, 2.58e-02, 1.86e-01, 1.54e-01]    [1.24e-02, 3.11e-03, 9.70e-02, 2.58e-02, 1.86e-01, 1.54e-01]    []  \n",
            "1000      [1.90e-02, 2.44e-02, 6.20e-02, 3.98e-02, 7.42e-02, 1.18e-01]    [1.90e-02, 2.44e-02, 6.20e-02, 3.98e-02, 7.42e-02, 1.18e-01]    []  \n",
            "\n",
            "Best model at step 1000:\n",
            "  train loss: 3.37e-01\n",
            "  test loss: 3.37e-01\n",
            "  test metric: []\n",
            "\n",
            "'train' took 8.721388 s\n",
            "\n"
          ]
        }
      ],
      "source": [
        "import numpy as np\n",
        "import deepxde as dde\n",
        "from deepxde.backend import pytorch as dde\n",
        "\n",
        "def pde(x, y):\n",
        "    dy_xx = dde.grad.hessian(y, x, i=0, j=0)\n",
        "    dy_yy = dde.grad.hessian(y, x, i=1, j=1)\n",
        "    return dy_xx + dy_yy\n",
        "\n",
        "def boundary_l(x, on_boundary):\n",
        "    return on_boundary and np.isclose(x[0], 0)\n",
        "\n",
        "def boundary_r(x, on_boundary):\n",
        "    return on_boundary and np.isclose(x[0], 1)\n",
        "\n",
        "def boundary_b(x, on_boundary):\n",
        "    return on_boundary and np.isclose(x[1], 0)\n",
        "\n",
        "def boundary_t1(x, on_boundary):\n",
        "    return on_boundary and np.isclose(x[1], 1) and x[0] < 0.5\n",
        "\n",
        "def boundary_t2(x, on_boundary):\n",
        "    return on_boundary and np.isclose(x[1], 1) and x[0] >= 0.5\n",
        "\n",
        "def func_t1(x):\n",
        "    return 2 * x[:, 0:1]\n",
        "\n",
        "def func_t2(x):\n",
        "    return 2 - 2 * x[:, 0:1]\n",
        "\n",
        "# Geometry and time domain\n",
        "geom = dde.geometry.Rectangle([0, 0], [1, 1])\n",
        "\n",
        "# Boundary conditions\n",
        "bc_l = dde.DirichletBC(geom, lambda x: 0, boundary_l)\n",
        "bc_r = dde.DirichletBC(geom, lambda x: 0, boundary_r)\n",
        "bc_b = dde.DirichletBC(geom, lambda x: 0, boundary_b)\n",
        "bc_t1 = dde.DirichletBC(geom, func_t1, boundary_t1)\n",
        "bc_t2 = dde.DirichletBC(geom, func_t2, boundary_t2)\n",
        "\n",
        "# Define the data\n",
        "data = dde.data.PDE(\n",
        "    geom,\n",
        "    pde,\n",
        "    [bc_l, bc_r, bc_b, bc_t1, bc_t2],\n",
        "    num_domain=10000,\n",
        "    num_boundary=2000\n",
        ")\n",
        "\n",
        "# Define the neural network\n",
        "net = dde.nn.FNN([2] + [40] * 4 + [1], \"tanh\", \"Glorot uniform\")\n",
        "\n",
        "# Define the model\n",
        "model = dde.Model(data, net)\n",
        "\n",
        "# Train the model\n",
        "model.compile(\"adam\", lr=0.001)\n",
        "losshistory, train_state = model.train(iterations=1000)"
      ]
    },
    {
      "cell_type": "code",
      "execution_count": 21,
      "metadata": {
        "colab": {
          "base_uri": "https://localhost:8080/",
          "height": 472
        },
        "id": "uFIWdTPkR2Og",
        "outputId": "2238b545-dc8d-4dc2-de1e-3f01401b10a6"
      },
      "outputs": [
        {
          "data": {
            "image/png": "[encoded data removed]",
            "text/plain": [
              "<Figure size 640x480 with 1 Axes>"
            ]
          },
          "metadata": {},
          "output_type": "display_data"
        }
      ],
      "source": [
        "# Plot loss history\n",
        "dde.utils.external.plot_loss_history(losshistory)\n",
        "plt.xlabel(\"Iterations\")\n",
        "plt.ylabel(\"Loss\")\n",
        "plt.title(\"Training Loss History\")\n",
        "# Set y-axis to log scale\n",
        "plt.yscale('log')\n",
        "plt.show()"
      ]
    },
    {
      "cell_type": "code",
      "execution_count": 6,
      "metadata": {
        "colab": {
          "base_uri": "https://localhost:8080/",
          "height": 433
        },
        "id": "U81Xgc-gK-CK",
        "outputId": "b3324c2b-3a61-42dc-d14c-9ea6bd182c80"
      },
      "outputs": [
        {
          "data": {
            "image/png": "[encoded data removed]",
            "text/plain": [
              "<Figure size 640x480 with 2 Axes>"
            ]
          },
          "metadata": {},
          "output_type": "display_data"
        }
      ],
      "source": [
        "import numpy as np\n",
        "import matplotlib.pyplot as plt\n",
        "\n",
        "# Generate a grid over the domain\n",
        "x = np.linspace(0, 1, 100)\n",
        "y = np.linspace(0, 1, 100)\n",
        "X, Y = np.meshgrid(x, y)\n",
        "\n",
        "# Stack and reshape for prediction\n",
        "XY = np.vstack((X.ravel(), Y.ravel())).T\n",
        "\n",
        "# Predict using the model\n",
        "T = model.predict(XY)\n",
        "T = T.reshape(X.shape)\n",
        "\n",
        "# Plot\n",
        "plt.pcolor(X, Y, T, cmap='seismic', shading='auto')\n",
        "plt.colorbar()\n",
        "plt.show()"
      ]
    }
  ],
  "metadata": {
    "accelerator": "GPU",
    "colab": {
      "gpuType": "T4",
      "provenance": []
    },
    "kernelspec": {
      "display_name": "Python 3",
      "name": "python3"
    },
    "language_info": {
      "name": "python"
    },
    "widgets": {
      "application/vnd.jupyter.widget-state+json": {
        "1ec7aebf89b94b4ba9805b641d550a35": {
          "model_module": "@jupyter-widgets/base",
          "model_module_version": "1.2.0",
          "model_name": "LayoutModel",
          "state": {
            "_model_module": "@jupyter-widgets/base",
            "_model_module_version": "1.2.0",
            "_model_name": "LayoutModel",
            "_view_count": null,
            "_view_module": "@jupyter-widgets/base",
            "_view_module_version": "1.2.0",
            "_view_name": "LayoutView",
            "align_content": null,
            "align_items": null,
            "align_self": null,
            "border": null,
            "bottom": null,
            "display": null,
            "flex": null,
            "flex_flow": null,
            "grid_area": null,
            "grid_auto_columns": null,
            "grid_auto_flow": null,
            "grid_auto_rows": null,
            "grid_column": null,
            "grid_gap": null,
            "grid_row": null,
            "grid_template_areas": null,
            "grid_template_columns": null,
            "grid_template_rows": null,
            "height": null,
            "justify_content": null,
            "justify_items": null,
            "left": null,
            "margin": null,
            "max_height": null,
            "max_width": null,
            "min_height": null,
            "min_width": null,
            "object_fit": null,
            "object_position": null,
            "order": null,
            "overflow": null,
            "overflow_x": null,
            "overflow_y": null,
            "padding": null,
            "right": null,
            "top": null,
            "visibility": null,
            "width": null
          }
        },
        "506984797dcb4328a8663141819ac6fa": {
          "model_module": "@jupyter-widgets/controls",
          "model_module_version": "1.5.0",
          "model_name": "HBoxModel",
          "state": {
            "_dom_classes": [],
            "_model_module": "@jupyter-widgets/controls",
            "_model_module_version": "1.5.0",
            "_model_name": "HBoxModel",
            "_view_count": null,
            "_view_module": "@jupyter-widgets/controls",
            "_view_module_version": "1.5.0",
            "_view_name": "HBoxView",
            "box_style": "",
            "children": [
              "IPY_MODEL_64b230cc6c204ec6a88647dbaee3d384",
              "IPY_MODEL_6a2d107705c24840a0ee691eeab53fb8",
              "IPY_MODEL_53a58e4f8ff24284b6e1c16ae2fba176"
            ],
            "layout": "IPY_MODEL_a5e061d9ce8d4e91bd7d2bfbbb2eb82d"
          }
        },
        "53a58e4f8ff24284b6e1c16ae2fba176": {
          "model_module": "@jupyter-widgets/controls",
          "model_module_version": "1.5.0",
          "model_name": "HTMLModel",
          "state": {
            "_dom_classes": [],
            "_model_module": "@jupyter-widgets/controls",
            "_model_module_version": "1.5.0",
            "_model_name": "HTMLModel",
            "_view_count": null,
            "_view_module": "@jupyter-widgets/controls",
            "_view_module_version": "1.5.0",
            "_view_name": "HTMLView",
            "description": "",
            "description_tooltip": null,
            "layout": "IPY_MODEL_63b6482977014677b53ddbf14565487f",
            "placeholder": "​",
            "style": "IPY_MODEL_d13765518c45432899a65967984c9d73",
            "value": " 1000/1000 [01:44&lt;00:00,  8.46it/s]"
          }
        },
        "63b6482977014677b53ddbf14565487f": {
          "model_module": "@jupyter-widgets/base",
          "model_module_version": "1.2.0",
          "model_name": "LayoutModel",
          "state": {
            "_model_module": "@jupyter-widgets/base",
            "_model_module_version": "1.2.0",
            "_model_name": "LayoutModel",
            "_view_count": null,
            "_view_module": "@jupyter-widgets/base",
            "_view_module_version": "1.2.0",
            "_view_name": "LayoutView",
            "align_content": null,
            "align_items": null,
            "align_self": null,
            "border": null,
            "bottom": null,
            "display": null,
            "flex": null,
            "flex_flow": null,
            "grid_area": null,
            "grid_auto_columns": null,
            "grid_auto_flow": null,
            "grid_auto_rows": null,
            "grid_column": null,
            "grid_gap": null,
            "grid_row": null,
            "grid_template_areas": null,
            "grid_template_columns": null,
            "grid_template_rows": null,
            "height": null,
            "justify_content": null,
            "justify_items": null,
            "left": null,
            "margin": null,
            "max_height": null,
            "max_width": null,
            "min_height": null,
            "min_width": null,
            "object_fit": null,
            "object_position": null,
            "order": null,
            "overflow": null,
            "overflow_x": null,
            "overflow_y": null,
            "padding": null,
            "right": null,
            "top": null,
            "visibility": null,
            "width": null
          }
        },
        "64b230cc6c204ec6a88647dbaee3d384": {
          "model_module": "@jupyter-widgets/controls",
          "model_module_version": "1.5.0",
          "model_name": "HTMLModel",
          "state": {
            "_dom_classes": [],
            "_model_module": "@jupyter-widgets/controls",
            "_model_module_version": "1.5.0",
            "_model_name": "HTMLModel",
            "_view_count": null,
            "_view_module": "@jupyter-widgets/controls",
            "_view_module_version": "1.5.0",
            "_view_name": "HTMLView",
            "description": "",
            "description_tooltip": null,
            "layout": "IPY_MODEL_a58e5dffbe3b44ae9c865c655aa5ad7c",
            "placeholder": "​",
            "style": "IPY_MODEL_7e06e4da409042369928f0796c898b3b",
            "value": "Training progress: 100%"
          }
        },
        "6a2d107705c24840a0ee691eeab53fb8": {
          "model_module": "@jupyter-widgets/controls",
          "model_module_version": "1.5.0",
          "model_name": "FloatProgressModel",
          "state": {
            "_dom_classes": [],
            "_model_module": "@jupyter-widgets/controls",
            "_model_module_version": "1.5.0",
            "_model_name": "FloatProgressModel",
            "_view_count": null,
            "_view_module": "@jupyter-widgets/controls",
            "_view_module_version": "1.5.0",
            "_view_name": "ProgressView",
            "bar_style": "success",
            "description": "",
            "description_tooltip": null,
            "layout": "IPY_MODEL_1ec7aebf89b94b4ba9805b641d550a35",
            "max": 1000,
            "min": 0,
            "orientation": "horizontal",
            "style": "IPY_MODEL_de4c88ed1a874fd997fe7332b5a46ef5",
            "value": 1000
          }
        },
        "7e06e4da409042369928f0796c898b3b": {
          "model_module": "@jupyter-widgets/controls",
          "model_module_version": "1.5.0",
          "model_name": "DescriptionStyleModel",
          "state": {
            "_model_module": "@jupyter-widgets/controls",
            "_model_module_version": "1.5.0",
            "_model_name": "DescriptionStyleModel",
            "_view_count": null,
            "_view_module": "@jupyter-widgets/base",
            "_view_module_version": "1.2.0",
            "_view_name": "StyleView",
            "description_width": ""
          }
        },
        "a58e5dffbe3b44ae9c865c655aa5ad7c": {
          "model_module": "@jupyter-widgets/base",
          "model_module_version": "1.2.0",
          "model_name": "LayoutModel",
          "state": {
            "_model_module": "@jupyter-widgets/base",
            "_model_module_version": "1.2.0",
            "_model_name": "LayoutModel",
            "_view_count": null,
            "_view_module": "@jupyter-widgets/base",
            "_view_module_version": "1.2.0",
            "_view_name": "LayoutView",
            "align_content": null,
            "align_items": null,
            "align_self": null,
            "border": null,
            "bottom": null,
            "display": null,
            "flex": null,
            "flex_flow": null,
            "grid_area": null,
            "grid_auto_columns": null,
            "grid_auto_flow": null,
            "grid_auto_rows": null,
            "grid_column": null,
            "grid_gap": null,
            "grid_row": null,
            "grid_template_areas": null,
            "grid_template_columns": null,
            "grid_template_rows": null,
            "height": null,
            "justify_content": null,
            "justify_items": null,
            "left": null,
            "margin": null,
            "max_height": null,
            "max_width": null,
            "min_height": null,
            "min_width": null,
            "object_fit": null,
            "object_position": null,
            "order": null,
            "overflow": null,
            "overflow_x": null,
            "overflow_y": null,
            "padding": null,
            "right": null,
            "top": null,
            "visibility": null,
            "width": null
          }
        },
        "a5e061d9ce8d4e91bd7d2bfbbb2eb82d": {
          "model_module": "@jupyter-widgets/base",
          "model_module_version": "1.2.0",
          "model_name": "LayoutModel",
          "state": {
            "_model_module": "@jupyter-widgets/base",
            "_model_module_version": "1.2.0",
            "_model_name": "LayoutModel",
            "_view_count": null,
            "_view_module": "@jupyter-widgets/base",
            "_view_module_version": "1.2.0",
            "_view_name": "LayoutView",
            "align_content": null,
            "align_items": null,
            "align_self": null,
            "border": null,
            "bottom": null,
            "display": null,
            "flex": null,
            "flex_flow": null,
            "grid_area": null,
            "grid_auto_columns": null,
            "grid_auto_flow": null,
            "grid_auto_rows": null,
            "grid_column": null,
            "grid_gap": null,
            "grid_row": null,
            "grid_template_areas": null,
            "grid_template_columns": null,
            "grid_template_rows": null,
            "height": null,
            "justify_content": null,
            "justify_items": null,
            "left": null,
            "margin": null,
            "max_height": null,
            "max_width": null,
            "min_height": null,
            "min_width": null,
            "object_fit": null,
            "object_position": null,
            "order": null,
            "overflow": null,
            "overflow_x": null,
            "overflow_y": null,
            "padding": null,
            "right": null,
            "top": null,
            "visibility": null,
            "width": null
          }
        },
        "d13765518c45432899a65967984c9d73": {
          "model_module": "@jupyter-widgets/controls",
          "model_module_version": "1.5.0",
          "model_name": "DescriptionStyleModel",
          "state": {
            "_model_module": "@jupyter-widgets/controls",
            "_model_module_version": "1.5.0",
            "_model_name": "DescriptionStyleModel",
            "_view_count": null,
            "_view_module": "@jupyter-widgets/base",
            "_view_module_version": "1.2.0",
            "_view_name": "StyleView",
            "description_width": ""
          }
        },
        "de4c88ed1a874fd997fe7332b5a46ef5": {
          "model_module": "@jupyter-widgets/controls",
          "model_module_version": "1.5.0",
          "model_name": "ProgressStyleModel",
          "state": {
            "_model_module": "@jupyter-widgets/controls",
            "_model_module_version": "1.5.0",
            "_model_name": "ProgressStyleModel",
            "_view_count": null,
            "_view_module": "@jupyter-widgets/base",
            "_view_module_version": "1.2.0",
            "_view_name": "StyleView",
            "bar_color": null,
            "description_width": ""
          }
        }
      }
    }
  },
  "nbformat": 4,
  "nbformat_minor": 0
}
